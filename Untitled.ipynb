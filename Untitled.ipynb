{
 "cells": [
  {
   "cell_type": "markdown",
   "id": "2a34e8cb",
   "metadata": {},
   "source": [
    "#### 1. Import the NUMPY package under the name np."
   ]
  },
  {
   "cell_type": "code",
   "execution_count": 3,
   "id": "532a1de6",
   "metadata": {},
   "outputs": [],
   "source": [
    "import numpy as np"
   ]
  },
  {
   "cell_type": "markdown",
   "id": "9502ab08",
   "metadata": {},
   "source": [
    "#### 2. Print the NUMPY version and the configuration."
   ]
  },
  {
   "cell_type": "code",
   "execution_count": 13,
   "id": "ef467ae5",
   "metadata": {},
   "outputs": [
    {
     "name": "stdout",
     "output_type": "stream",
     "text": [
      "1.21.5\n",
      "blas_mkl_info:\n",
      "    libraries = ['mkl_rt']\n",
      "    library_dirs = ['C:/Users/paula/anaconda3\\\\Library\\\\lib']\n",
      "    define_macros = [('SCIPY_MKL_H', None), ('HAVE_CBLAS', None)]\n",
      "    include_dirs = ['C:/Users/paula/anaconda3\\\\Library\\\\include']\n",
      "blas_opt_info:\n",
      "    libraries = ['mkl_rt']\n",
      "    library_dirs = ['C:/Users/paula/anaconda3\\\\Library\\\\lib']\n",
      "    define_macros = [('SCIPY_MKL_H', None), ('HAVE_CBLAS', None)]\n",
      "    include_dirs = ['C:/Users/paula/anaconda3\\\\Library\\\\include']\n",
      "lapack_mkl_info:\n",
      "    libraries = ['mkl_rt']\n",
      "    library_dirs = ['C:/Users/paula/anaconda3\\\\Library\\\\lib']\n",
      "    define_macros = [('SCIPY_MKL_H', None), ('HAVE_CBLAS', None)]\n",
      "    include_dirs = ['C:/Users/paula/anaconda3\\\\Library\\\\include']\n",
      "lapack_opt_info:\n",
      "    libraries = ['mkl_rt']\n",
      "    library_dirs = ['C:/Users/paula/anaconda3\\\\Library\\\\lib']\n",
      "    define_macros = [('SCIPY_MKL_H', None), ('HAVE_CBLAS', None)]\n",
      "    include_dirs = ['C:/Users/paula/anaconda3\\\\Library\\\\include']\n",
      "Supported SIMD extensions in this NumPy install:\n",
      "    baseline = SSE,SSE2,SSE3\n",
      "    found = SSSE3,SSE41,POPCNT,SSE42,AVX,F16C,FMA3,AVX2,AVX512F,AVX512CD,AVX512_SKX,AVX512_CLX,AVX512_CNL\n",
      "    not found = \n"
     ]
    }
   ],
   "source": [
    "print(np.__version__)\n",
    "np.show_config()"
   ]
  },
  {
   "cell_type": "markdown",
   "id": "48933c72",
   "metadata": {},
   "source": [
    "#### 3. Generate a 2x3x5 3-dimensional array with random values. Assign the array to variable \"a\"\n",
    "###### Challenge: there are at least three easy ways that use numpy to generate random arrays. How many ways can you find?"
   ]
  },
  {
   "cell_type": "code",
   "execution_count": 32,
   "id": "0bc2e4f3",
   "metadata": {},
   "outputs": [],
   "source": [
    "a = np.random.random((2,3,5))"
   ]
  },
  {
   "cell_type": "markdown",
   "id": "c9676c3b",
   "metadata": {},
   "source": [
    "#### 4. Print a."
   ]
  },
  {
   "cell_type": "code",
   "execution_count": 33,
   "id": "0d04b0b0",
   "metadata": {},
   "outputs": [
    {
     "name": "stdout",
     "output_type": "stream",
     "text": [
      "[[[0.40234085 0.8517225  0.52565273 0.99271407 0.91372899]\n",
      "  [0.40355831 0.85746419 0.07746374 0.15365984 0.90018071]\n",
      "  [0.92597934 0.15820746 0.58491667 0.08258122 0.95741091]]\n",
      "\n",
      " [[0.02108023 0.38320447 0.01808247 0.49842313 0.13208557]\n",
      "  [0.45630708 0.8443606  0.30054162 0.20501641 0.88137639]\n",
      "  [0.82010102 0.37531597 0.35866938 0.16594983 0.40681967]]]\n"
     ]
    }
   ],
   "source": [
    "print (a)"
   ]
  },
  {
   "cell_type": "markdown",
   "id": "2b3cba14",
   "metadata": {},
   "source": [
    "#### 5. Create a 5x2x3 3-dimensional array with all values equaling 1.Assign the array to variable \"b\""
   ]
  },
  {
   "cell_type": "code",
   "execution_count": 34,
   "id": "904e37dc",
   "metadata": {},
   "outputs": [],
   "source": [
    "b = np.random.random((5,2,3))"
   ]
  },
  {
   "cell_type": "markdown",
   "id": "8232583a",
   "metadata": {},
   "source": [
    "#### 6. Print b."
   ]
  },
  {
   "cell_type": "code",
   "execution_count": 35,
   "id": "8dcabd38",
   "metadata": {},
   "outputs": [
    {
     "name": "stdout",
     "output_type": "stream",
     "text": [
      "[[[0.56153015 0.97010168 0.10168257]\n",
      "  [0.02651549 0.38310436 0.2519555 ]]\n",
      "\n",
      " [[0.9379629  0.01646213 0.89371173]\n",
      "  [0.64927934 0.33568759 0.31300717]]\n",
      "\n",
      " [[0.87285522 0.10926358 0.34924266]\n",
      "  [0.52168624 0.52143403 0.39482896]]\n",
      "\n",
      " [[0.36320835 0.39494543 0.48548925]\n",
      "  [0.60895108 0.48966246 0.39302528]]\n",
      "\n",
      " [[0.74365274 0.42903452 0.25422693]\n",
      "  [0.84087047 0.91768984 0.6926905 ]]]\n"
     ]
    }
   ],
   "source": [
    "print(b)"
   ]
  },
  {
   "cell_type": "markdown",
   "id": "2e6e167b",
   "metadata": {},
   "source": [
    "#### 7. Do a and b have the same size? How do you prove that in Python code?"
   ]
  },
  {
   "cell_type": "code",
   "execution_count": 36,
   "id": "fe355c96",
   "metadata": {},
   "outputs": [
    {
     "data": {
      "text/plain": [
       "True"
      ]
     },
     "execution_count": 36,
     "metadata": {},
     "output_type": "execute_result"
    }
   ],
   "source": [
    "np.size(a) == np.size(b)"
   ]
  },
  {
   "cell_type": "markdown",
   "id": "54ec9be9",
   "metadata": {},
   "source": [
    "#### 8. Are you able to add a and b? Why or why not?"
   ]
  },
  {
   "cell_type": "code",
   "execution_count": 45,
   "id": "61eb4af1",
   "metadata": {},
   "outputs": [
    {
     "ename": "ValueError",
     "evalue": "operands could not be broadcast together with shapes (5,2,3) (3,5) ",
     "output_type": "error",
     "traceback": [
      "\u001b[1;31m---------------------------------------------------------------------------\u001b[0m",
      "\u001b[1;31mValueError\u001b[0m                                Traceback (most recent call last)",
      "\u001b[1;32m~\\AppData\\Local\\Temp\\ipykernel_14216\\2650114818.py\u001b[0m in \u001b[0;36m<module>\u001b[1;34m\u001b[0m\n\u001b[1;32m----> 1\u001b[1;33m \u001b[0msum\u001b[0m\u001b[1;33m(\u001b[0m\u001b[0ma\u001b[0m\u001b[1;33m,\u001b[0m\u001b[0mb\u001b[0m\u001b[1;33m)\u001b[0m\u001b[1;33m\u001b[0m\u001b[1;33m\u001b[0m\u001b[0m\n\u001b[0m\u001b[0;32m      2\u001b[0m \u001b[1;31m# It is not possible because the size of both arrays do not match in order to enable a sum.\u001b[0m\u001b[1;33m\u001b[0m\u001b[1;33m\u001b[0m\u001b[0m\n",
      "\u001b[1;31mValueError\u001b[0m: operands could not be broadcast together with shapes (5,2,3) (3,5) "
     ]
    }
   ],
   "source": [
    "sum(a,b)\n",
    "# It is not possible because the size of both arrays do not match in order to enable a sum."
   ]
  },
  {
   "cell_type": "markdown",
   "id": "948d7d18",
   "metadata": {},
   "source": [
    "#### 9. Transpose b so that it has the same structure of a (i.e. become a 2x3x5 array). Assign the transposed array to varialbe \"c\"."
   ]
  },
  {
   "cell_type": "code",
   "execution_count": 106,
   "id": "47f76f25",
   "metadata": {},
   "outputs": [],
   "source": [
    "c = b.reshape((2,3,5))"
   ]
  },
  {
   "cell_type": "markdown",
   "id": "bd630848",
   "metadata": {},
   "source": [
    "#### 10. Try to add a and c. Now it should work. Assign the sum to varialbe \"d\". But why does it work now?"
   ]
  },
  {
   "cell_type": "code",
   "execution_count": 111,
   "id": "a57a6cd7",
   "metadata": {},
   "outputs": [],
   "source": [
    "d = np.add(a, c)"
   ]
  },
  {
   "cell_type": "markdown",
   "id": "9e04ed59",
   "metadata": {},
   "source": [
    "#### 11. Print a and d. Notice the difference and relation of the two array in terms of the values? Explain."
   ]
  },
  {
   "cell_type": "code",
   "execution_count": 112,
   "id": "2350fd65",
   "metadata": {},
   "outputs": [
    {
     "name": "stdout",
     "output_type": "stream",
     "text": [
      "Array a is: [[[0.40234085 0.8517225  0.52565273 0.99271407 0.91372899]\n",
      "  [0.40355831 0.85746419 0.07746374 0.15365984 0.90018071]\n",
      "  [0.92597934 0.15820746 0.58491667 0.08258122 0.95741091]]\n",
      "\n",
      " [[0.02108023 0.38320447 0.01808247 0.49842313 0.13208557]\n",
      "  [0.45630708 0.8443606  0.30054162 0.20501641 0.88137639]\n",
      "  [0.82010102 0.37531597 0.35866938 0.16594983 0.40681967]]]\n",
      "Array d is: [[[0.963871   1.82182418 0.6273353  1.01922956 1.29683336]\n",
      "  [0.65551381 1.79542709 0.09392588 1.04737157 1.54946005]\n",
      "  [1.26166693 0.47121463 1.45777189 0.1918448  1.30665357]]\n",
      "\n",
      " [[0.54276647 0.90463851 0.41291143 0.86163149 0.527031  ]\n",
      "  [0.94179633 1.45331168 0.79020408 0.59804169 1.62502914]\n",
      "  [1.24913554 0.62954291 1.19953985 1.08363967 1.09951018]]]\n"
     ]
    }
   ],
   "source": [
    "print('Array a is:', a)\n",
    "\n",
    "print('Array d is:', d)"
   ]
  },
  {
   "cell_type": "markdown",
   "id": "1d45cffd",
   "metadata": {},
   "source": [
    "#### 12. Multiply a and c. Assign the result to e."
   ]
  },
  {
   "cell_type": "code",
   "execution_count": 113,
   "id": "fc2dc6e2",
   "metadata": {},
   "outputs": [
    {
     "name": "stdout",
     "output_type": "stream",
     "text": [
      "[[[0.22592652 0.82625743 0.05344972 0.0263223  0.35005356]\n",
      "  [0.10167874 0.8042696  0.00127522 0.1373276  0.58446874]\n",
      "  [0.31083977 0.04952007 0.51054757 0.00902312 0.33436873]]\n",
      "\n",
      " [[0.01099727 0.19981585 0.00713948 0.18103145 0.05216659]\n",
      "  [0.22153218 0.5141743  0.14716395 0.08057663 0.65543797]\n",
      "  [0.35185165 0.09541543 0.30159449 0.15229047 0.28180012]]]\n"
     ]
    }
   ],
   "source": [
    "e = np.multiply(a,c)\n",
    "print(e)"
   ]
  },
  {
   "cell_type": "markdown",
   "id": "1f81dcdd",
   "metadata": {},
   "source": [
    "#### 13. Does e equal to a? Why or why not?"
   ]
  },
  {
   "cell_type": "code",
   "execution_count": 114,
   "id": "daf08269",
   "metadata": {},
   "outputs": [
    {
     "data": {
      "text/plain": [
       "array([[[False, False, False, False, False],\n",
       "        [False, False, False, False, False],\n",
       "        [False, False, False, False, False]],\n",
       "\n",
       "       [[False, False, False, False, False],\n",
       "        [False, False, False, False, False],\n",
       "        [False, False, False, False, False]]])"
      ]
     },
     "execution_count": 114,
     "metadata": {},
     "output_type": "execute_result"
    }
   ],
   "source": [
    "e == a\n"
   ]
  },
  {
   "cell_type": "markdown",
   "id": "bef2f084",
   "metadata": {},
   "source": [
    "E does not equal to A because they are differente arrays that come from different numbers: a comes from a np.random.random function and c is b transposed, and b comes from a different np.random.random function"
   ]
  },
  {
   "cell_type": "markdown",
   "id": "dcdf3a31",
   "metadata": {},
   "source": [
    "#### 14. Identify the max, min, and mean values in d. Assign those values to variables \"d_max\", \"d_min\", and \"d_mean\""
   ]
  },
  {
   "cell_type": "code",
   "execution_count": 115,
   "id": "ed65f215",
   "metadata": {},
   "outputs": [
    {
     "name": "stdout",
     "output_type": "stream",
     "text": [
      "1.8218241807745468\n"
     ]
    }
   ],
   "source": [
    "# max\n",
    "\n",
    "d_max = d.max()\n",
    "\n",
    "print(d_max)"
   ]
  },
  {
   "cell_type": "code",
   "execution_count": 116,
   "id": "ac39894e",
   "metadata": {},
   "outputs": [
    {
     "name": "stdout",
     "output_type": "stream",
     "text": [
      "0.09392587867976543\n"
     ]
    }
   ],
   "source": [
    "# min\n",
    "\n",
    "d_min = d.min()\n",
    "\n",
    "print(d_min)"
   ]
  },
  {
   "cell_type": "code",
   "execution_count": 117,
   "id": "1bb35758",
   "metadata": {},
   "outputs": [
    {
     "name": "stdout",
     "output_type": "stream",
     "text": [
      "0.9826224525916714\n"
     ]
    }
   ],
   "source": [
    "# mean\n",
    "\n",
    "d_mean = d.mean()\n",
    "\n",
    "print(d_mean)"
   ]
  },
  {
   "cell_type": "markdown",
   "id": "6f0837dd",
   "metadata": {},
   "source": [
    "#### 15. Now we want to label the values in d. First create an empty array \"f\" with the same shape (i.e. 2x3x5) as d using `np.empty`."
   ]
  },
  {
   "cell_type": "code",
   "execution_count": 118,
   "id": "8e6ea7fa",
   "metadata": {},
   "outputs": [
    {
     "name": "stdout",
     "output_type": "stream",
     "text": [
      "[[[0.22592652 0.82625743 0.05344972 0.0263223  0.35005356]\n",
      "  [0.10167874 0.8042696  0.00127522 0.1373276  0.58446874]\n",
      "  [0.31083977 0.04952007 0.51054757 0.00902312 0.33436873]]\n",
      "\n",
      " [[0.01099727 0.19981585 0.00713948 0.18103145 0.05216659]\n",
      "  [0.22153218 0.5141743  0.14716395 0.08057663 0.65543797]\n",
      "  [0.35185165 0.09541543 0.30159449 0.15229047 0.28180012]]]\n"
     ]
    }
   ],
   "source": [
    "f = np.empty((2,3,5))\n",
    "print(f)"
   ]
  },
  {
   "cell_type": "markdown",
   "id": "d5463e23",
   "metadata": {},
   "source": [
    "#### 16. Populate the values in f. For each value in d, if it's larger than d_min but smaller than d_mean, assign 25 to the corresponding value in f.\n",
    "If a value in d is larger than d_mean but smaller than d_max, assign 75 to the corresponding value in f.\n",
    "\n",
    "If a value equals to d_mean, assign 50 to the corresponding value in f.\n",
    "\n",
    "Assign 0 to the corresponding value(s) in f for d_min in d.\n",
    "\n",
    "Assign 100 to the corresponding value(s) in f for d_max in d.\n",
    "\n",
    "In the end, f should have only the following values: 0, 25, 50, 75, and 100.\n",
    "\n",
    "Note: you don't have to use Numpy in this question."
   ]
  },
  {
   "cell_type": "code",
   "execution_count": 125,
   "id": "e831dccc",
   "metadata": {},
   "outputs": [
    {
     "data": {
      "text/plain": [
       "array([[[ 25, 100,  25,  75,  75],\n",
       "        [ 25,  75,   0,  75,  75],\n",
       "        [ 75,  25,  75,  25,  75]],\n",
       "\n",
       "       [[ 25,  25,  25,  25,  25],\n",
       "        [ 25,  75,  25,  25,  75],\n",
       "        [ 75,  25,  75,  75,  75]]])"
      ]
     },
     "execution_count": 125,
     "metadata": {},
     "output_type": "execute_result"
    }
   ],
   "source": [
    "f = 0 * (d == d_min) + 25 * (d > d_min) * (d < d_mean) + 50 * (d == d_mean) + 75 * (d > d_mean) * (d < d_max) + 100 * (d == d_max)"
   ]
  },
  {
   "cell_type": "markdown",
   "id": "6457e4e7",
   "metadata": {},
   "source": [
    "#### 17. Print d and f. Do you have your expected f?\n",
    "For instance, if your d is:\n",
    "\n",
    "array([[[1.85836099, 1.67064465, 1.62576044, 1.40243961, 1.88454931],\n",
    "        [1.75354326, 1.69403643, 1.36729252, 1.61415071, 1.12104981],\n",
    "        [1.72201435, 1.1862918 , 1.87078449, 1.7726778 , 1.88180042]],\n",
    "\n",
    "       [[1.44747908, 1.31673383, 1.02000951, 1.52218947, 1.97066381],\n",
    "        [1.79129243, 1.74983003, 1.96028037, 1.85166831, 1.65450881],\n",
    "        [1.18068344, 1.9587381 , 1.00656599, 1.93402165, 1.73514584]]])\n",
    "\n",
    "\n",
    "Your f should be:\n",
    "\n",
    "array([[[ 75.,  75.,  75.,  25.,  75.],\n",
    "        [ 75.,  75.,  25.,  25.,  25.],\n",
    "        [ 75.,  25.,  75.,  75.,  75.]],\n",
    "\n",
    "       [[ 25.,  25.,  25.,  25., 100.],\n",
    "        [ 75.,  75.,  75.,  75.,  75.],\n",
    "        [ 25.,  75.,   0.,  75.,  75.]]])"
   ]
  },
  {
   "cell_type": "code",
   "execution_count": 126,
   "id": "f88aa8ff",
   "metadata": {},
   "outputs": [
    {
     "name": "stdout",
     "output_type": "stream",
     "text": [
      "[[[0.963871   1.82182418 0.6273353  1.01922956 1.29683336]\n",
      "  [0.65551381 1.79542709 0.09392588 1.04737157 1.54946005]\n",
      "  [1.26166693 0.47121463 1.45777189 0.1918448  1.30665357]]\n",
      "\n",
      " [[0.54276647 0.90463851 0.41291143 0.86163149 0.527031  ]\n",
      "  [0.94179633 1.45331168 0.79020408 0.59804169 1.62502914]\n",
      "  [1.24913554 0.62954291 1.19953985 1.08363967 1.09951018]]]\n"
     ]
    }
   ],
   "source": [
    "print (d)"
   ]
  },
  {
   "cell_type": "code",
   "execution_count": 127,
   "id": "2d22b97b",
   "metadata": {},
   "outputs": [
    {
     "name": "stdout",
     "output_type": "stream",
     "text": [
      "[[[ 25 100  25  75  75]\n",
      "  [ 25  75   0  75  75]\n",
      "  [ 75  25  75  25  75]]\n",
      "\n",
      " [[ 25  25  25  25  25]\n",
      "  [ 25  75  25  25  75]\n",
      "  [ 75  25  75  75  75]]]\n"
     ]
    }
   ],
   "source": [
    "print (f)"
   ]
  },
  {
   "cell_type": "markdown",
   "id": "c99f6ae6",
   "metadata": {},
   "source": [
    "#### 18. Bonus question: instead of using numbers (i.e. 0, 25, 50, 75, and 100), how to use string values \n",
    "\n",
    "(\"A\", \"B\", \"C\", \"D\", and \"E\") to label the array elements? You are expecting the result to be:\n",
    "\n",
    "array([[[ 'D',  'D',  'D',  'B',  'D'],\n",
    "        [ 'D',  'D',  'B',  'B',  'B'],\n",
    "        [ 'D',  'B',  'D',  'D',  'D']],\n",
    "\n",
    "       [[ 'B',  'B',  'B',  'B',  'E'],\n",
    "        [ 'D',  'D',  'D',  'D',  'D'],\n",
    "        [ 'B',  'D',   'A',  'D', 'D']]])\n",
    "\n",
    "Again, you don't need Numpy in this question."
   ]
  },
  {
   "cell_type": "code",
   "execution_count": 136,
   "id": "f766a7c7",
   "metadata": {},
   "outputs": [
    {
     "name": "stdout",
     "output_type": "stream",
     "text": [
      "[[['B' 'F' 'B' 'D' 'D']\n",
      "  ['B' 'D' 'A' 'D' 'D']\n",
      "  ['D' 'B' 'D' 'B' 'D']]\n",
      "\n",
      " [['B' 'B' 'B' 'B' 'B']\n",
      "  ['B' 'D' 'B' 'B' 'D']\n",
      "  ['D' 'B' 'D' 'D' 'D']]]\n"
     ]
    }
   ],
   "source": [
    "new_f = f.astype(object)\n",
    "\n",
    "f[(f == 0)] = 'A'\n",
    "f[(f == 25)] = 'B'\n",
    "f[(f == 50)] = 'C'\n",
    "f[(f == 75)] = 'D'\n",
    "f[(f == 100)] = 'F'\n",
    "\n",
    "print(new_f)"
   ]
  }
 ],
 "metadata": {
  "kernelspec": {
   "display_name": "Python 3 (ipykernel)",
   "language": "python",
   "name": "python3"
  },
  "language_info": {
   "codemirror_mode": {
    "name": "ipython",
    "version": 3
   },
   "file_extension": ".py",
   "mimetype": "text/x-python",
   "name": "python",
   "nbconvert_exporter": "python",
   "pygments_lexer": "ipython3",
   "version": "3.9.13"
  }
 },
 "nbformat": 4,
 "nbformat_minor": 5
}
