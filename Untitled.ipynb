{
 "cells": [
  {
   "cell_type": "markdown",
   "id": "7983ec1a",
   "metadata": {},
   "source": [
    "### Import the NUMPY package under the name np."
   ]
  },
  {
   "cell_type": "code",
   "execution_count": 28,
   "id": "45eac6f0",
   "metadata": {
    "scrolled": true
   },
   "outputs": [
    {
     "name": "stdout",
     "output_type": "stream",
     "text": [
      "Requirement already satisfied: numpy in c:\\users\\pedro vidales\\anaconda3\\lib\\site-packages (1.21.5)\n",
      "Note: you may need to restart the kernel to use updated packages.\n"
     ]
    }
   ],
   "source": [
    "%pip install numpy"
   ]
  },
  {
   "cell_type": "code",
   "execution_count": 29,
   "id": "8581779f",
   "metadata": {},
   "outputs": [],
   "source": [
    "import numpy as np"
   ]
  },
  {
   "cell_type": "markdown",
   "id": "e99f7b1d",
   "metadata": {},
   "source": [
    "### Print the NUMPY version and the configuration"
   ]
  },
  {
   "cell_type": "code",
   "execution_count": 30,
   "id": "f2356bd0",
   "metadata": {},
   "outputs": [
    {
     "name": "stdout",
     "output_type": "stream",
     "text": [
      "1.21.5\n",
      "blas_mkl_info:\n",
      "    libraries = ['mkl_rt']\n",
      "    library_dirs = ['C:/Users/Pedro Vidales/anaconda3\\\\Library\\\\lib']\n",
      "    define_macros = [('SCIPY_MKL_H', None), ('HAVE_CBLAS', None)]\n",
      "    include_dirs = ['C:/Users/Pedro Vidales/anaconda3\\\\Library\\\\include']\n",
      "blas_opt_info:\n",
      "    libraries = ['mkl_rt']\n",
      "    library_dirs = ['C:/Users/Pedro Vidales/anaconda3\\\\Library\\\\lib']\n",
      "    define_macros = [('SCIPY_MKL_H', None), ('HAVE_CBLAS', None)]\n",
      "    include_dirs = ['C:/Users/Pedro Vidales/anaconda3\\\\Library\\\\include']\n",
      "lapack_mkl_info:\n",
      "    libraries = ['mkl_rt']\n",
      "    library_dirs = ['C:/Users/Pedro Vidales/anaconda3\\\\Library\\\\lib']\n",
      "    define_macros = [('SCIPY_MKL_H', None), ('HAVE_CBLAS', None)]\n",
      "    include_dirs = ['C:/Users/Pedro Vidales/anaconda3\\\\Library\\\\include']\n",
      "lapack_opt_info:\n",
      "    libraries = ['mkl_rt']\n",
      "    library_dirs = ['C:/Users/Pedro Vidales/anaconda3\\\\Library\\\\lib']\n",
      "    define_macros = [('SCIPY_MKL_H', None), ('HAVE_CBLAS', None)]\n",
      "    include_dirs = ['C:/Users/Pedro Vidales/anaconda3\\\\Library\\\\include']\n",
      "Supported SIMD extensions in this NumPy install:\n",
      "    baseline = SSE,SSE2,SSE3\n",
      "    found = SSSE3,SSE41,POPCNT,SSE42,AVX,F16C,FMA3,AVX2\n",
      "    not found = AVX512F,AVX512CD,AVX512_SKX,AVX512_CLX,AVX512_CNL\n",
      "None\n"
     ]
    }
   ],
   "source": [
    "print(np.__version__)\n",
    "print(np.show_config())"
   ]
  },
  {
   "cell_type": "markdown",
   "id": "04fd809b",
   "metadata": {},
   "source": [
    "Generate a 2x3x5 3-dimensional array with random values. Assign the array to variable \"a\"\n",
    "# Challenge: there are at least three easy ways that use numpy to generate random arrays. How many ways can you find?\n",
    "### "
   ]
  },
  {
   "cell_type": "code",
   "execution_count": 31,
   "id": "b0255163",
   "metadata": {},
   "outputs": [
    {
     "name": "stdout",
     "output_type": "stream",
     "text": [
      "[[[0.79108462 0.85256814 0.80862239 0.60586653 0.34512494]\n",
      "  [0.70004861 0.26536625 0.34408712 0.86759405 0.54241618]\n",
      "  [0.90081034 0.47224162 0.27542587 0.08038957 0.3338969 ]]\n",
      "\n",
      " [[0.44965625 0.97451478 0.02781293 0.00528328 0.31810892]\n",
      "  [0.57354728 0.50311829 0.63644207 0.62698869 0.04898366]\n",
      "  [0.40888434 0.01988835 0.81367626 0.77597911 0.53446797]]]\n"
     ]
    }
   ],
   "source": [
    "a = np.random.rand(2, 3, 5)\n",
    "print(a)"
   ]
  },
  {
   "cell_type": "code",
   "execution_count": 32,
   "id": "55633b80",
   "metadata": {},
   "outputs": [
    {
     "name": "stdout",
     "output_type": "stream",
     "text": [
      "[[[10 10  9  9  8]\n",
      "  [ 2  8  1  1  8]\n",
      "  [ 9  5  1 10  1]]\n",
      "\n",
      " [[ 5  7  2  7 10]\n",
      "  [ 1  2  7  6  9]\n",
      "  [ 9  8  4 10  5]]]\n"
     ]
    }
   ],
   "source": [
    "a = np.random.randint(0, 11, size=(2, 3, 5))\n",
    "print(a)"
   ]
  },
  {
   "cell_type": "code",
   "execution_count": 33,
   "id": "e475538f",
   "metadata": {},
   "outputs": [
    {
     "name": "stdout",
     "output_type": "stream",
     "text": [
      "[[[0.50481221 0.25800967 0.10112743 0.58614566 0.28020408]\n",
      "  [0.43089349 0.89003276 0.64632601 0.42946731 0.07607151]\n",
      "  [0.88069201 0.83211668 0.71928161 0.0531366  0.43028777]]\n",
      "\n",
      " [[0.96019275 0.19387045 0.04534727 0.48705038 0.1660881 ]\n",
      "  [0.31005336 0.64573372 0.99712166 0.66633342 0.82553497]\n",
      "  [0.80014091 0.2886254  0.10825597 0.69010935 0.74014234]]]\n"
     ]
    }
   ],
   "source": [
    "a = np.array([np.random.sample((3,5)) for _ in range(2)])\n",
    "print(a)"
   ]
  },
  {
   "cell_type": "code",
   "execution_count": 34,
   "id": "3592b2c1",
   "metadata": {},
   "outputs": [
    {
     "name": "stdout",
     "output_type": "stream",
     "text": [
      "[[[0.39480373 0.86404769 0.78651736 0.53636392 0.47213442]\n",
      "  [0.93419303 0.77827728 0.42906462 0.19874457 0.39770187]\n",
      "  [0.19957594 0.6961443  0.88660995 0.08425949 0.86038   ]]\n",
      "\n",
      " [[0.97252529 0.98502389 0.87048626 0.79786071 0.41042433]\n",
      "  [0.02342463 0.6542909  0.49258653 0.87895262 0.62401916]\n",
      "  [0.83299613 0.04069659 0.03935488 0.28919833 0.23382499]]]\n"
     ]
    }
   ],
   "source": [
    "a = np.random.random((2, 3, 5))\n",
    "print(a)"
   ]
  },
  {
   "cell_type": "markdown",
   "id": "c19c7c40",
   "metadata": {},
   "source": [
    "### Create a 5x2x3 3-dimensional array with all values equaling 1.\n",
    "#Assign the array to variable \"b"
   ]
  },
  {
   "cell_type": "code",
   "execution_count": 35,
   "id": "6975987d",
   "metadata": {},
   "outputs": [
    {
     "name": "stdout",
     "output_type": "stream",
     "text": [
      "[[[1. 1. 1.]\n",
      "  [1. 1. 1.]]\n",
      "\n",
      " [[1. 1. 1.]\n",
      "  [1. 1. 1.]]\n",
      "\n",
      " [[1. 1. 1.]\n",
      "  [1. 1. 1.]]\n",
      "\n",
      " [[1. 1. 1.]\n",
      "  [1. 1. 1.]]\n",
      "\n",
      " [[1. 1. 1.]\n",
      "  [1. 1. 1.]]]\n"
     ]
    }
   ],
   "source": [
    "b = np.ones((5, 2, 3))\n",
    "print(b)"
   ]
  },
  {
   "cell_type": "markdown",
   "id": "bb101516",
   "metadata": {},
   "source": [
    "### Do a and b have the same size? How do you prove that in Python code?"
   ]
  },
  {
   "cell_type": "code",
   "execution_count": 36,
   "id": "9f722f7f",
   "metadata": {},
   "outputs": [
    {
     "data": {
      "text/plain": [
       "30"
      ]
     },
     "execution_count": 36,
     "metadata": {},
     "output_type": "execute_result"
    }
   ],
   "source": [
    "a.size"
   ]
  },
  {
   "cell_type": "code",
   "execution_count": 37,
   "id": "b7072f2b",
   "metadata": {},
   "outputs": [
    {
     "data": {
      "text/plain": [
       "30"
      ]
     },
     "execution_count": 37,
     "metadata": {},
     "output_type": "execute_result"
    }
   ],
   "source": [
    "b.size"
   ]
  },
  {
   "cell_type": "markdown",
   "id": "3fb12111",
   "metadata": {},
   "source": [
    "### Are you able to add a and b? Why or why not?"
   ]
  },
  {
   "cell_type": "code",
   "execution_count": null,
   "id": "92493589",
   "metadata": {},
   "outputs": [],
   "source": [
    "No se pueden sumar a y b directamente porque tienen diferentes shapes (formas). La suma entre dos arrays en numpy solo es posible si ambos tienen las mismas dimensiones (shape). En este caso, a tiene shape (2, 3, 5) y b tiene shape (5, 2, 3), lo cual significa que tienen diferentes cantidades de elementos en cada una de sus dimensiones."
   ]
  },
  {
   "cell_type": "markdown",
   "id": "c2672230",
   "metadata": {},
   "source": [
    "### Transpose b so that it has the same structure of a (i.e. become a 2x3x5 array). Assign the transposed array to varialbe \"c\"."
   ]
  },
  {
   "cell_type": "code",
   "execution_count": 39,
   "id": "04dab802",
   "metadata": {},
   "outputs": [
    {
     "name": "stdout",
     "output_type": "stream",
     "text": [
      "[[[1. 1. 1. 1. 1.]\n",
      "  [1. 1. 1. 1. 1.]\n",
      "  [1. 1. 1. 1. 1.]]\n",
      "\n",
      " [[1. 1. 1. 1. 1.]\n",
      "  [1. 1. 1. 1. 1.]\n",
      "  [1. 1. 1. 1. 1.]]]\n"
     ]
    }
   ],
   "source": [
    "c = b.reshape((2, 3, 5))\n",
    "print(c)"
   ]
  },
  {
   "cell_type": "markdown",
   "id": "77bbedd9",
   "metadata": {},
   "source": [
    "### Try to add a and c. Now it should work. Assign the sum to varialbe \"d\". But why does it work now?"
   ]
  },
  {
   "cell_type": "code",
   "execution_count": 41,
   "id": "5f4a8517",
   "metadata": {},
   "outputs": [
    {
     "name": "stdout",
     "output_type": "stream",
     "text": [
      "[[[1.39480373 1.86404769 1.78651736 1.53636392 1.47213442]\n",
      "  [1.93419303 1.77827728 1.42906462 1.19874457 1.39770187]\n",
      "  [1.19957594 1.6961443  1.88660995 1.08425949 1.86038   ]]\n",
      "\n",
      " [[1.97252529 1.98502389 1.87048626 1.79786071 1.41042433]\n",
      "  [1.02342463 1.6542909  1.49258653 1.87895262 1.62401916]\n",
      "  [1.83299613 1.04069659 1.03935488 1.28919833 1.23382499]]]\n"
     ]
    }
   ],
   "source": [
    "d = np.add(a,c)\n",
    "print(d)\n",
    "#Funciona porque tienen el mismo tamaño ambas matrices."
   ]
  },
  {
   "cell_type": "markdown",
   "id": "e17875c2",
   "metadata": {},
   "source": [
    "### Print a and d. Notice the difference and relation of the two array in terms of the values? Explain."
   ]
  },
  {
   "cell_type": "code",
   "execution_count": 42,
   "id": "f4d6cc2e",
   "metadata": {},
   "outputs": [
    {
     "name": "stdout",
     "output_type": "stream",
     "text": [
      "[[[0.39480373 0.86404769 0.78651736 0.53636392 0.47213442]\n",
      "  [0.93419303 0.77827728 0.42906462 0.19874457 0.39770187]\n",
      "  [0.19957594 0.6961443  0.88660995 0.08425949 0.86038   ]]\n",
      "\n",
      " [[0.97252529 0.98502389 0.87048626 0.79786071 0.41042433]\n",
      "  [0.02342463 0.6542909  0.49258653 0.87895262 0.62401916]\n",
      "  [0.83299613 0.04069659 0.03935488 0.28919833 0.23382499]]]\n",
      "[[[1.39480373 1.86404769 1.78651736 1.53636392 1.47213442]\n",
      "  [1.93419303 1.77827728 1.42906462 1.19874457 1.39770187]\n",
      "  [1.19957594 1.6961443  1.88660995 1.08425949 1.86038   ]]\n",
      "\n",
      " [[1.97252529 1.98502389 1.87048626 1.79786071 1.41042433]\n",
      "  [1.02342463 1.6542909  1.49258653 1.87895262 1.62401916]\n",
      "  [1.83299613 1.04069659 1.03935488 1.28919833 1.23382499]]]\n"
     ]
    }
   ],
   "source": [
    "print(a)\n",
    "print(d)"
   ]
  },
  {
   "cell_type": "code",
   "execution_count": null,
   "id": "c5be6aa9",
   "metadata": {},
   "outputs": [],
   "source": [
    "#la relación entre las dos matrices es que \"d\" es igual a \"a\" con 1 añadido a cada elemento. "
   ]
  },
  {
   "cell_type": "markdown",
   "id": "d7fb2ef6",
   "metadata": {},
   "source": [
    "### Multiply a and c. Assign the result to e."
   ]
  },
  {
   "cell_type": "code",
   "execution_count": 44,
   "id": "5d8ce181",
   "metadata": {},
   "outputs": [
    {
     "name": "stdout",
     "output_type": "stream",
     "text": [
      "[[[0.23272208 0.87284394 0.45572825 0.13203111 0.37462186]\n",
      "  [0.50282066 0.23780843 0.23394058 0.56746356 0.31632863]\n",
      "  [0.02425205 0.72399674 0.30796209 0.41806912 0.16781591]]\n",
      "\n",
      " [[0.33988505 0.17356541 0.25562213 0.55761492 0.4268818 ]\n",
      "  [0.82596654 0.86569132 0.43370888 0.43180405 0.81526418]\n",
      "  [0.89402408 0.90521783 0.44562418 0.37351457 0.00418269]]]\n"
     ]
    }
   ],
   "source": [
    "a = np.random.random((2, 3, 5))\n",
    "c = b.reshape((2, 3, 5))\n",
    "e = a * c \n",
    "print(e)"
   ]
  },
  {
   "cell_type": "markdown",
   "id": "32067ed6",
   "metadata": {},
   "source": [
    "### Does e equal to a? Why or why not?"
   ]
  },
  {
   "cell_type": "code",
   "execution_count": 45,
   "id": "3867731c",
   "metadata": {},
   "outputs": [
    {
     "name": "stdout",
     "output_type": "stream",
     "text": [
      "[[[0.23272208 0.87284394 0.45572825 0.13203111 0.37462186]\n",
      "  [0.50282066 0.23780843 0.23394058 0.56746356 0.31632863]\n",
      "  [0.02425205 0.72399674 0.30796209 0.41806912 0.16781591]]\n",
      "\n",
      " [[0.33988505 0.17356541 0.25562213 0.55761492 0.4268818 ]\n",
      "  [0.82596654 0.86569132 0.43370888 0.43180405 0.81526418]\n",
      "  [0.89402408 0.90521783 0.44562418 0.37351457 0.00418269]]]\n",
      "[[[0.23272208 0.87284394 0.45572825 0.13203111 0.37462186]\n",
      "  [0.50282066 0.23780843 0.23394058 0.56746356 0.31632863]\n",
      "  [0.02425205 0.72399674 0.30796209 0.41806912 0.16781591]]\n",
      "\n",
      " [[0.33988505 0.17356541 0.25562213 0.55761492 0.4268818 ]\n",
      "  [0.82596654 0.86569132 0.43370888 0.43180405 0.81526418]\n",
      "  [0.89402408 0.90521783 0.44562418 0.37351457 0.00418269]]]\n"
     ]
    }
   ],
   "source": [
    "print(a)\n",
    "print(e)"
   ]
  },
  {
   "cell_type": "code",
   "execution_count": null,
   "id": "c6fd6842",
   "metadata": {},
   "outputs": [],
   "source": [
    "#Son iguales."
   ]
  },
  {
   "cell_type": "markdown",
   "id": "51eef534",
   "metadata": {},
   "source": [
    "### Identify the max, min, and mean values in d. Assign those values to variables \"d_max\", \"d_min\", and \"d_mean\""
   ]
  },
  {
   "cell_type": "code",
   "execution_count": 48,
   "id": "00e36a5e",
   "metadata": {},
   "outputs": [
    {
     "name": "stdout",
     "output_type": "stream",
     "text": [
      "1.9850238933229258\n",
      "1.0234246331687549\n",
      "1.5554827815477599\n"
     ]
    }
   ],
   "source": [
    "d_max = d.max()\n",
    "d_min = d.min()\n",
    "d_mean = d.mean()\n",
    "\n",
    "print(d_max)\n",
    "print(d_min)\n",
    "print(d_mean)"
   ]
  },
  {
   "cell_type": "markdown",
   "id": "872d8a24",
   "metadata": {},
   "source": [
    "### Now we want to label the values in d. First create an empty array \"f\" with the same shape (i.e. 2x3x5) as d using `np.empty`."
   ]
  },
  {
   "cell_type": "code",
   "execution_count": 50,
   "id": "65c526be",
   "metadata": {},
   "outputs": [
    {
     "name": "stdout",
     "output_type": "stream",
     "text": [
      "[[[0.23272208 0.87284394 0.45572825 0.13203111 0.37462186]\n",
      "  [0.50282066 0.23780843 0.23394058 0.56746356 0.31632863]\n",
      "  [0.02425205 0.72399674 0.30796209 0.41806912 0.16781591]]\n",
      "\n",
      " [[0.33988505 0.17356541 0.25562213 0.55761492 0.4268818 ]\n",
      "  [0.82596654 0.86569132 0.43370888 0.43180405 0.81526418]\n",
      "  [0.89402408 0.90521783 0.44562418 0.37351457 0.00418269]]]\n"
     ]
    }
   ],
   "source": [
    "f = np.empty(d.shape)\n",
    "print(f)"
   ]
  },
  {
   "cell_type": "markdown",
   "id": "d9b7a9dd",
   "metadata": {},
   "source": [
    "# Populate the values in f. "
   ]
  },
  {
   "cell_type": "code",
   "execution_count": 51,
   "id": "466c399f",
   "metadata": {},
   "outputs": [],
   "source": [
    "# For each value in d, if it's larger than d_min but smaller than d_mean, assign 25 to the corresponding value in f. \n",
    "# If a value in d is larger than d_mean but smaller than d_max, assign 75 to the corresponding value in f.\n",
    "# If a value equals to d_mean, assign 50 to the corresponding value in f.\n",
    "# Assign 0 to the corresponding value(s) in f for d_min in d.\n",
    "# Assign 100 to the corresponding value(s) in f for d_max in d.\n",
    "# In the end, f should have only the following values: 0, 25, 50, 75, and 100.\n",
    "#Note: you don't have to use Numpy in this question."
   ]
  },
  {
   "cell_type": "code",
   "execution_count": 52,
   "id": "9a393902",
   "metadata": {},
   "outputs": [
    {
     "ename": "ValueError",
     "evalue": "The truth value of an array with more than one element is ambiguous. Use a.any() or a.all()",
     "output_type": "error",
     "traceback": [
      "\u001b[1;31m---------------------------------------------------------------------------\u001b[0m",
      "\u001b[1;31mValueError\u001b[0m                                Traceback (most recent call last)",
      "\u001b[1;32m~\\AppData\\Local\\Temp\\ipykernel_15220\\2975824804.py\u001b[0m in \u001b[0;36m<module>\u001b[1;34m\u001b[0m\n\u001b[1;32m----> 1\u001b[1;33m \u001b[0md_min\u001b[0m \u001b[1;33m=\u001b[0m \u001b[0mmin\u001b[0m\u001b[1;33m(\u001b[0m\u001b[0md\u001b[0m\u001b[1;33m)\u001b[0m\u001b[1;33m\u001b[0m\u001b[1;33m\u001b[0m\u001b[0m\n\u001b[0m\u001b[0;32m      2\u001b[0m \u001b[0md_max\u001b[0m \u001b[1;33m=\u001b[0m \u001b[0mmax\u001b[0m\u001b[1;33m(\u001b[0m\u001b[0md\u001b[0m\u001b[1;33m)\u001b[0m\u001b[1;33m\u001b[0m\u001b[1;33m\u001b[0m\u001b[0m\n\u001b[0;32m      3\u001b[0m \u001b[0md_mean\u001b[0m \u001b[1;33m=\u001b[0m \u001b[0msum\u001b[0m\u001b[1;33m(\u001b[0m\u001b[0md\u001b[0m\u001b[1;33m)\u001b[0m \u001b[1;33m/\u001b[0m \u001b[0mlen\u001b[0m\u001b[1;33m(\u001b[0m\u001b[0md\u001b[0m\u001b[1;33m)\u001b[0m\u001b[1;33m\u001b[0m\u001b[1;33m\u001b[0m\u001b[0m\n\u001b[0;32m      4\u001b[0m \u001b[1;33m\u001b[0m\u001b[0m\n\u001b[0;32m      5\u001b[0m \u001b[0mf\u001b[0m \u001b[1;33m=\u001b[0m \u001b[1;33m[\u001b[0m\u001b[1;33m[\u001b[0m\u001b[1;33m[\u001b[0m\u001b[1;36m0\u001b[0m \u001b[1;32mfor\u001b[0m \u001b[0m_\u001b[0m \u001b[1;32min\u001b[0m \u001b[0mrange\u001b[0m\u001b[1;33m(\u001b[0m\u001b[1;36m5\u001b[0m\u001b[1;33m)\u001b[0m\u001b[1;33m]\u001b[0m \u001b[1;32mfor\u001b[0m \u001b[0m_\u001b[0m \u001b[1;32min\u001b[0m \u001b[0mrange\u001b[0m\u001b[1;33m(\u001b[0m\u001b[1;36m3\u001b[0m\u001b[1;33m)\u001b[0m\u001b[1;33m]\u001b[0m \u001b[1;32mfor\u001b[0m \u001b[0m_\u001b[0m \u001b[1;32min\u001b[0m \u001b[0mrange\u001b[0m\u001b[1;33m(\u001b[0m\u001b[1;36m2\u001b[0m\u001b[1;33m)\u001b[0m\u001b[1;33m]\u001b[0m\u001b[1;33m\u001b[0m\u001b[1;33m\u001b[0m\u001b[0m\n",
      "\u001b[1;31mValueError\u001b[0m: The truth value of an array with more than one element is ambiguous. Use a.any() or a.all()"
     ]
    }
   ],
   "source": []
  },
  {
   "cell_type": "markdown",
   "id": "c322bafa",
   "metadata": {},
   "source": [
    "### Print d and f. Do you have your expected f?"
   ]
  },
  {
   "cell_type": "code",
   "execution_count": null,
   "id": "17d64ec0",
   "metadata": {},
   "outputs": [],
   "source": []
  }
 ],
 "metadata": {
  "kernelspec": {
   "display_name": "Python 3 (ipykernel)",
   "language": "python",
   "name": "python3"
  },
  "language_info": {
   "codemirror_mode": {
    "name": "ipython",
    "version": 3
   },
   "file_extension": ".py",
   "mimetype": "text/x-python",
   "name": "python",
   "nbconvert_exporter": "python",
   "pygments_lexer": "ipython3",
   "version": "3.9.13"
  }
 },
 "nbformat": 4,
 "nbformat_minor": 5
}
