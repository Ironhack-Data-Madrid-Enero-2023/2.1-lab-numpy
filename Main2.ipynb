{
 "cells": [
  {
   "cell_type": "markdown",
   "id": "fabedf69",
   "metadata": {},
   "source": [
    "### 1. Import the NUMPY package under the name np."
   ]
  },
  {
   "cell_type": "code",
   "execution_count": 2,
   "id": "25ac8758",
   "metadata": {},
   "outputs": [
    {
     "name": "stdout",
     "output_type": "stream",
     "text": [
      "Requirement already satisfied: numpy in c:\\users\\manue\\anaconda3\\lib\\site-packages (1.21.5)\n",
      "Note: you may need to restart the kernel to use updated packages.\n"
     ]
    }
   ],
   "source": [
    "%pip install numpy"
   ]
  },
  {
   "cell_type": "code",
   "execution_count": 5,
   "id": "cc7df2ae",
   "metadata": {},
   "outputs": [
    {
     "name": "stdout",
     "output_type": "stream",
     "text": [
      "<module 'numpy' from 'C:\\\\Users\\\\manue\\\\anaconda3\\\\lib\\\\site-packages\\\\numpy\\\\__init__.py'>\n"
     ]
    }
   ],
   "source": [
    "import numpy as np"
   ]
  },
  {
   "cell_type": "markdown",
   "id": "d9692845",
   "metadata": {},
   "source": [
    "### 2. Print the NUMPY version and the configuration."
   ]
  },
  {
   "cell_type": "code",
   "execution_count": 6,
   "id": "71ef8bad",
   "metadata": {
    "scrolled": true
   },
   "outputs": [
    {
     "name": "stdout",
     "output_type": "stream",
     "text": [
      "1.21.5\n",
      "blas_mkl_info:\n",
      "    libraries = ['mkl_rt']\n",
      "    library_dirs = ['C:/Users/manue/anaconda3\\\\Library\\\\lib']\n",
      "    define_macros = [('SCIPY_MKL_H', None), ('HAVE_CBLAS', None)]\n",
      "    include_dirs = ['C:/Users/manue/anaconda3\\\\Library\\\\include']\n",
      "blas_opt_info:\n",
      "    libraries = ['mkl_rt']\n",
      "    library_dirs = ['C:/Users/manue/anaconda3\\\\Library\\\\lib']\n",
      "    define_macros = [('SCIPY_MKL_H', None), ('HAVE_CBLAS', None)]\n",
      "    include_dirs = ['C:/Users/manue/anaconda3\\\\Library\\\\include']\n",
      "lapack_mkl_info:\n",
      "    libraries = ['mkl_rt']\n",
      "    library_dirs = ['C:/Users/manue/anaconda3\\\\Library\\\\lib']\n",
      "    define_macros = [('SCIPY_MKL_H', None), ('HAVE_CBLAS', None)]\n",
      "    include_dirs = ['C:/Users/manue/anaconda3\\\\Library\\\\include']\n",
      "lapack_opt_info:\n",
      "    libraries = ['mkl_rt']\n",
      "    library_dirs = ['C:/Users/manue/anaconda3\\\\Library\\\\lib']\n",
      "    define_macros = [('SCIPY_MKL_H', None), ('HAVE_CBLAS', None)]\n",
      "    include_dirs = ['C:/Users/manue/anaconda3\\\\Library\\\\include']\n",
      "Supported SIMD extensions in this NumPy install:\n",
      "    baseline = SSE,SSE2,SSE3\n",
      "    found = SSSE3,SSE41,POPCNT,SSE42,AVX,F16C,FMA3,AVX2\n",
      "    not found = AVX512F,AVX512CD,AVX512_SKX,AVX512_CLX,AVX512_CNL\n",
      "None\n"
     ]
    }
   ],
   "source": [
    "print(np.__version__)\n",
    "print(np.show_config())"
   ]
  },
  {
   "cell_type": "markdown",
   "id": "c4998f05",
   "metadata": {},
   "source": [
    "# 3. Generate a 2x3x5 3-dimensional array with random values. Assign the array to variable \"a\"\n",
    "# Challenge: there are at least three easy ways that use numpy to generate random arrays. How many ways can you find? "
   ]
  },
  {
   "cell_type": "code",
   "execution_count": 22,
   "id": "5662e4e5",
   "metadata": {},
   "outputs": [
    {
     "name": "stdout",
     "output_type": "stream",
     "text": [
      "[[[81 89 46 46 73]\n",
      "  [49 53 13 19 51]\n",
      "  [16 69 11  5 66]\n",
      "  [ 9 34 73 68 83]]\n",
      "\n",
      " [[61 46 36 34  8]\n",
      "  [71 78 45 58 72]\n",
      "  [ 8 49 75 27 68]\n",
      "  [33 41  4 38 50]]]\n"
     ]
    },
    {
     "data": {
      "text/plain": [
       "(2, 4, 5)"
      ]
     },
     "execution_count": 22,
     "metadata": {},
     "output_type": "execute_result"
    }
   ],
   "source": [
    "#Primera manera de conseguirlo, utilizando random.randint\n",
    "#returns an array of random integers that are discrete uniform distribution of the specified dtype in the half-open interval [low, high).\n",
    "a = np.random.randint(1,90,(2,4,5))\n",
    "print(a)\n",
    "a.shape"
   ]
  },
  {
   "cell_type": "code",
   "execution_count": 14,
   "id": "aec3f886",
   "metadata": {},
   "outputs": [
    {
     "name": "stdout",
     "output_type": "stream",
     "text": [
      "[[[0.11216823 0.46081767 0.78501111 0.40558565 0.38237464]\n",
      "  [0.1646271  0.20955995 0.24113629 0.31320288 0.68541401]\n",
      "  [0.947796   0.53313931 0.46914345 0.92861038 0.27025716]]\n",
      "\n",
      " [[0.7939296  0.0014843  0.81093836 0.04683933 0.33689278]\n",
      "  [0.09435884 0.83846545 0.81954421 0.88654675 0.28097478]\n",
      "  [0.79073428 0.93005118 0.8660917  0.12554558 0.43353666]]]\n"
     ]
    },
    {
     "data": {
      "text/plain": [
       "(2, 3, 5)"
      ]
     },
     "execution_count": 14,
     "metadata": {},
     "output_type": "execute_result"
    }
   ],
   "source": [
    "#Segunda manera de conseguirlo, utilizando random\n",
    "#generates random numbers from the standard uniform distribution\n",
    "a = np.random.random((2,3,5))\n",
    "print(a)\n",
    "a.shape"
   ]
  },
  {
   "cell_type": "code",
   "execution_count": 109,
   "id": "41038508",
   "metadata": {
    "scrolled": true
   },
   "outputs": [
    {
     "name": "stdout",
     "output_type": "stream",
     "text": [
      "[[[ 0.66257058  0.4946019   2.1097272   0.01016681  0.66119315]\n",
      "  [ 1.18409744 -0.79161161 -0.38942521  2.81433625  0.88115269]\n",
      "  [-0.54678915 -1.33254222  1.84392576  0.67006433 -0.44591254]]\n",
      "\n",
      " [[ 1.63855615  0.81954018  1.10389068 -0.07587799 -1.91980016]\n",
      "  [ 2.17189986 -0.69400105 -0.60191439 -0.15562959  1.29803006]\n",
      "  [ 1.18343062  0.80614288  0.22616513  0.75658704 -0.65558042]]]\n"
     ]
    },
    {
     "data": {
      "text/plain": [
       "(2, 3, 5)"
      ]
     },
     "execution_count": 109,
     "metadata": {},
     "output_type": "execute_result"
    }
   ],
   "source": [
    "#Tercera forma de conseguirlo, utilizando random.randn\n",
    "#The values are always floating-point numbers based on the normal distribution having the mean equal to 0 and variation equal to 1.\n",
    "a = np.random.randn(2,3,5)\n",
    "print(a)\n",
    "a.shape\n",
    "\n"
   ]
  },
  {
   "cell_type": "markdown",
   "id": "f4a0bc4d",
   "metadata": {},
   "source": [
    "# 4. Print a"
   ]
  },
  {
   "cell_type": "code",
   "execution_count": 110,
   "id": "604f7535",
   "metadata": {},
   "outputs": [
    {
     "name": "stdout",
     "output_type": "stream",
     "text": [
      "[[[ 0.66257058  0.4946019   2.1097272   0.01016681  0.66119315]\n",
      "  [ 1.18409744 -0.79161161 -0.38942521  2.81433625  0.88115269]\n",
      "  [-0.54678915 -1.33254222  1.84392576  0.67006433 -0.44591254]]\n",
      "\n",
      " [[ 1.63855615  0.81954018  1.10389068 -0.07587799 -1.91980016]\n",
      "  [ 2.17189986 -0.69400105 -0.60191439 -0.15562959  1.29803006]\n",
      "  [ 1.18343062  0.80614288  0.22616513  0.75658704 -0.65558042]]]\n"
     ]
    }
   ],
   "source": [
    "print(a)"
   ]
  },
  {
   "cell_type": "markdown",
   "id": "22cfdb32",
   "metadata": {},
   "source": [
    "# 5. Create a 5x2x3 3-dimensional array with all values equaling 1.\n",
    "# Assign the array to variable \"b\""
   ]
  },
  {
   "cell_type": "code",
   "execution_count": 111,
   "id": "bad32a29",
   "metadata": {},
   "outputs": [
    {
     "name": "stdout",
     "output_type": "stream",
     "text": [
      "[[[1. 1. 1.]\n",
      "  [1. 1. 1.]]\n",
      "\n",
      " [[1. 1. 1.]\n",
      "  [1. 1. 1.]]\n",
      "\n",
      " [[1. 1. 1.]\n",
      "  [1. 1. 1.]]\n",
      "\n",
      " [[1. 1. 1.]\n",
      "  [1. 1. 1.]]\n",
      "\n",
      " [[1. 1. 1.]\n",
      "  [1. 1. 1.]]]\n"
     ]
    }
   ],
   "source": [
    "b = np.ones((5,2,3))\n",
    "b.shape\n",
    "print(b)"
   ]
  },
  {
   "cell_type": "markdown",
   "id": "465e32ec",
   "metadata": {},
   "source": [
    "# 6. Print b"
   ]
  },
  {
   "cell_type": "code",
   "execution_count": 112,
   "id": "54049930",
   "metadata": {},
   "outputs": [
    {
     "name": "stdout",
     "output_type": "stream",
     "text": [
      "[[[1. 1. 1.]\n",
      "  [1. 1. 1.]]\n",
      "\n",
      " [[1. 1. 1.]\n",
      "  [1. 1. 1.]]\n",
      "\n",
      " [[1. 1. 1.]\n",
      "  [1. 1. 1.]]\n",
      "\n",
      " [[1. 1. 1.]\n",
      "  [1. 1. 1.]]\n",
      "\n",
      " [[1. 1. 1.]\n",
      "  [1. 1. 1.]]]\n"
     ]
    }
   ],
   "source": [
    "print(b)"
   ]
  },
  {
   "cell_type": "markdown",
   "id": "0ee24334",
   "metadata": {},
   "source": [
    "# 7. Do a and b have the same size? How do you prove that in Python code?"
   ]
  },
  {
   "cell_type": "code",
   "execution_count": 113,
   "id": "fd63bfe3",
   "metadata": {},
   "outputs": [
    {
     "name": "stdout",
     "output_type": "stream",
     "text": [
      "(2, 3, 5)\n",
      "(5, 2, 3)\n",
      "No lo tienen\n"
     ]
    }
   ],
   "source": [
    "print(a.shape)\n",
    "print(b.shape)\n",
    "#a == b usando este comparador devolvería un array del mismo tamaño que a y b formado por booleanos indicando si el elemento correspondiente coincide en ambos arrays\n",
    "#hago uso de la funcion np.all para comparar\n",
    "if np.all(a.shape == b.shape):\n",
    "    print('a y b tienen el mismo tamaño')\n",
    "else:\n",
    "    print('No lo tienen')\n",
    "    "
   ]
  },
  {
   "cell_type": "markdown",
   "id": "b44ee2af",
   "metadata": {},
   "source": [
    "# 8. Are you able to add a and b? Why or why not?"
   ]
  },
  {
   "cell_type": "code",
   "execution_count": 114,
   "id": "0bef98f3",
   "metadata": {},
   "outputs": [
    {
     "ename": "ValueError",
     "evalue": "operands could not be broadcast together with shapes (2,3,5) (5,2,3) ",
     "output_type": "error",
     "traceback": [
      "\u001b[1;31m---------------------------------------------------------------------------\u001b[0m",
      "\u001b[1;31mValueError\u001b[0m                                Traceback (most recent call last)",
      "\u001b[1;32m~\\AppData\\Local\\Temp\\ipykernel_17532\\1903146640.py\u001b[0m in \u001b[0;36m<module>\u001b[1;34m\u001b[0m\n\u001b[1;32m----> 1\u001b[1;33m \u001b[0mc\u001b[0m \u001b[1;33m=\u001b[0m \u001b[0mnp\u001b[0m\u001b[1;33m.\u001b[0m\u001b[0madd\u001b[0m\u001b[1;33m(\u001b[0m\u001b[0ma\u001b[0m\u001b[1;33m,\u001b[0m\u001b[0mb\u001b[0m\u001b[1;33m)\u001b[0m\u001b[1;33m\u001b[0m\u001b[1;33m\u001b[0m\u001b[0m\n\u001b[0m\u001b[0;32m      2\u001b[0m \u001b[1;31m#Tienen diferentes shapes (2,3,5) (5,2,3\u001b[0m\u001b[1;33m\u001b[0m\u001b[1;33m\u001b[0m\u001b[0m\n",
      "\u001b[1;31mValueError\u001b[0m: operands could not be broadcast together with shapes (2,3,5) (5,2,3) "
     ]
    }
   ],
   "source": [
    "c = np.add(a,b)\n",
    "#Tienen diferentes shapes (2,3,5) (5,2,3"
   ]
  },
  {
   "cell_type": "markdown",
   "id": "bb461285",
   "metadata": {},
   "source": [
    "# 9. Transpose b so that it has the same structure of a (i.e. become a 2x3x5 array). Assign the transposed array to varialbe \"c\"."
   ]
  },
  {
   "cell_type": "code",
   "execution_count": 115,
   "id": "a1206a1a",
   "metadata": {},
   "outputs": [
    {
     "data": {
      "text/plain": [
       "(5, 2, 3)"
      ]
     },
     "execution_count": 115,
     "metadata": {},
     "output_type": "execute_result"
    }
   ],
   "source": [
    "b.shape"
   ]
  },
  {
   "cell_type": "code",
   "execution_count": 116,
   "id": "46d20882",
   "metadata": {},
   "outputs": [],
   "source": [
    "c = b.reshape(2, 3, 5)\n"
   ]
  },
  {
   "cell_type": "code",
   "execution_count": 117,
   "id": "5eb0fbe0",
   "metadata": {},
   "outputs": [
    {
     "name": "stdout",
     "output_type": "stream",
     "text": [
      "[[[1. 1. 1. 1. 1.]\n",
      "  [1. 1. 1. 1. 1.]\n",
      "  [1. 1. 1. 1. 1.]]\n",
      "\n",
      " [[1. 1. 1. 1. 1.]\n",
      "  [1. 1. 1. 1. 1.]\n",
      "  [1. 1. 1. 1. 1.]]]\n"
     ]
    }
   ],
   "source": [
    "print(c)"
   ]
  },
  {
   "cell_type": "markdown",
   "id": "db5d54d9",
   "metadata": {},
   "source": [
    "# 10. Try to add a and c. Now it should work. Assign the sum to varialbe \"d\". But why does it work now?"
   ]
  },
  {
   "cell_type": "code",
   "execution_count": 118,
   "id": "abd9423a",
   "metadata": {},
   "outputs": [
    {
     "name": "stdout",
     "output_type": "stream",
     "text": [
      "[[[ 1.66257058  1.4946019   3.1097272   1.01016681  1.66119315]\n",
      "  [ 2.18409744  0.20838839  0.61057479  3.81433625  1.88115269]\n",
      "  [ 0.45321085 -0.33254222  2.84392576  1.67006433  0.55408746]]\n",
      "\n",
      " [[ 2.63855615  1.81954018  2.10389068  0.92412201 -0.91980016]\n",
      "  [ 3.17189986  0.30599895  0.39808561  0.84437041  2.29803006]\n",
      "  [ 2.18343062  1.80614288  1.22616513  1.75658704  0.34441958]]]\n"
     ]
    }
   ],
   "source": [
    "d = np.add(a,c)\n",
    "print(d)"
   ]
  },
  {
   "cell_type": "code",
   "execution_count": 119,
   "id": "a2916a61",
   "metadata": {},
   "outputs": [
    {
     "data": {
      "text/plain": [
       "0.9"
      ]
     },
     "execution_count": 119,
     "metadata": {},
     "output_type": "execute_result"
    }
   ],
   "source": [
    "9e-01\n"
   ]
  },
  {
   "cell_type": "markdown",
   "id": "98735504",
   "metadata": {},
   "source": [
    "# 11. Print a and d. Notice the difference and relation of the two array in terms of the values? Explain."
   ]
  },
  {
   "cell_type": "code",
   "execution_count": 120,
   "id": "3a624bb4",
   "metadata": {},
   "outputs": [
    {
     "name": "stdout",
     "output_type": "stream",
     "text": [
      "[[[ 0.66257058  0.4946019   2.1097272   0.01016681  0.66119315]\n",
      "  [ 1.18409744 -0.79161161 -0.38942521  2.81433625  0.88115269]\n",
      "  [-0.54678915 -1.33254222  1.84392576  0.67006433 -0.44591254]]\n",
      "\n",
      " [[ 1.63855615  0.81954018  1.10389068 -0.07587799 -1.91980016]\n",
      "  [ 2.17189986 -0.69400105 -0.60191439 -0.15562959  1.29803006]\n",
      "  [ 1.18343062  0.80614288  0.22616513  0.75658704 -0.65558042]]]\n",
      "[[[ 1.66257058  1.4946019   3.1097272   1.01016681  1.66119315]\n",
      "  [ 2.18409744  0.20838839  0.61057479  3.81433625  1.88115269]\n",
      "  [ 0.45321085 -0.33254222  2.84392576  1.67006433  0.55408746]]\n",
      "\n",
      " [[ 2.63855615  1.81954018  2.10389068  0.92412201 -0.91980016]\n",
      "  [ 3.17189986  0.30599895  0.39808561  0.84437041  2.29803006]\n",
      "  [ 2.18343062  1.80614288  1.22616513  1.75658704  0.34441958]]]\n"
     ]
    }
   ],
   "source": [
    "print(a)\n",
    "print(d)\n",
    "#Unos estan representados en notacion cientifica que es en la forma en la que trabaja Numpy"
   ]
  },
  {
   "cell_type": "markdown",
   "id": "fae1104b",
   "metadata": {},
   "source": [
    "# 12. Multiply a and c. Assign the result to e"
   ]
  },
  {
   "cell_type": "code",
   "execution_count": 121,
   "id": "ed37b482",
   "metadata": {},
   "outputs": [
    {
     "name": "stdout",
     "output_type": "stream",
     "text": [
      "(2, 3, 5)\n",
      "(2, 3, 5)\n"
     ]
    }
   ],
   "source": [
    "print(a.shape)\n",
    "print(c.shape)\n"
   ]
  },
  {
   "cell_type": "code",
   "execution_count": 142,
   "id": "f6118cf1",
   "metadata": {},
   "outputs": [
    {
     "name": "stdout",
     "output_type": "stream",
     "text": [
      "(2, 3, 5)\n",
      "(2, 5, 3)\n"
     ]
    }
   ],
   "source": [
    "c = c.reshape(2,3,5)\n",
    "a = a.reshape(2,5,3)\n",
    "print(c.shape)\n",
    "print(a.shape)"
   ]
  },
  {
   "cell_type": "code",
   "execution_count": 140,
   "id": "1c5786de",
   "metadata": {},
   "outputs": [
    {
     "name": "stdout",
     "output_type": "stream",
     "text": [
      "[[[1. 1. 1. 1. 1.]\n",
      "  [1. 1. 1. 1. 1.]\n",
      "  [1. 1. 1. 1. 1.]]\n",
      "\n",
      " [[1. 1. 1. 1. 1.]\n",
      "  [1. 1. 1. 1. 1.]\n",
      "  [1. 1. 1. 1. 1.]]]\n"
     ]
    }
   ],
   "source": [
    "print(c)"
   ]
  },
  {
   "cell_type": "code",
   "execution_count": 143,
   "id": "c0aa49b3",
   "metadata": {},
   "outputs": [
    {
     "name": "stdout",
     "output_type": "stream",
     "text": [
      "[[[[ 3.26689967  3.26689967  3.26689967  3.26689967  3.26689967]\n",
      "   [ 3.26689967  3.26689967  3.26689967  3.26689967  3.26689967]]\n",
      "\n",
      "  [[ 1.8554574   1.8554574   1.8554574   1.8554574   1.8554574 ]\n",
      "   [ 1.8554574   1.8554574   1.8554574   1.8554574   1.8554574 ]]\n",
      "\n",
      "  [[ 1.63329943  1.63329943  1.63329943  1.63329943  1.63329943]\n",
      "   [ 1.63329943  1.63329943  1.63329943  1.63329943  1.63329943]]\n",
      "\n",
      "  [[-0.99817869 -0.99817869 -0.99817869 -0.99817869 -0.99817869]\n",
      "   [-0.99817869 -0.99817869 -0.99817869 -0.99817869 -0.99817869]]\n",
      "\n",
      "  [[ 2.06807756  2.06807756  2.06807756  2.06807756  2.06807756]\n",
      "   [ 2.06807756  2.06807756  2.06807756  2.06807756  2.06807756]]]\n",
      "\n",
      "\n",
      " [[[ 3.56198702  3.56198702  3.56198702  3.56198702  3.56198702]\n",
      "   [ 3.56198702  3.56198702  3.56198702  3.56198702  3.56198702]]\n",
      "\n",
      "  [[ 0.17622171  0.17622171  0.17622171  0.17622171  0.17622171]\n",
      "   [ 0.17622171  0.17622171  0.17622171  0.17622171  0.17622171]]\n",
      "\n",
      "  [[-1.45154503 -1.45154503 -1.45154503 -1.45154503 -1.45154503]\n",
      "   [-1.45154503 -1.45154503 -1.45154503 -1.45154503 -1.45154503]]\n",
      "\n",
      "  [[ 3.28760357  3.28760357  3.28760357  3.28760357  3.28760357]\n",
      "   [ 3.28760357  3.28760357  3.28760357  3.28760357  3.28760357]]\n",
      "\n",
      "  [[ 0.32717174  0.32717174  0.32717174  0.32717174  0.32717174]\n",
      "   [ 0.32717174  0.32717174  0.32717174  0.32717174  0.32717174]]]]\n"
     ]
    }
   ],
   "source": [
    "e = np.dot(a,c)\n",
    "print(e)"
   ]
  },
  {
   "cell_type": "markdown",
   "id": "25729ad1",
   "metadata": {},
   "source": [
    "# 13. Does e equal to a? Why or why not?"
   ]
  },
  {
   "cell_type": "code",
   "execution_count": 144,
   "id": "9e731c0a",
   "metadata": {},
   "outputs": [
    {
     "name": "stdout",
     "output_type": "stream",
     "text": [
      "[[[ 0.66257058  0.4946019   2.1097272 ]\n",
      "  [ 0.01016681  0.66119315  1.18409744]\n",
      "  [-0.79161161 -0.38942521  2.81433625]\n",
      "  [ 0.88115269 -0.54678915 -1.33254222]\n",
      "  [ 1.84392576  0.67006433 -0.44591254]]\n",
      "\n",
      " [[ 1.63855615  0.81954018  1.10389068]\n",
      "  [-0.07587799 -1.91980016  2.17189986]\n",
      "  [-0.69400105 -0.60191439 -0.15562959]\n",
      "  [ 1.29803006  1.18343062  0.80614288]\n",
      "  [ 0.22616513  0.75658704 -0.65558042]]]\n",
      "[[[[ 3.26689967  3.26689967  3.26689967  3.26689967  3.26689967]\n",
      "   [ 3.26689967  3.26689967  3.26689967  3.26689967  3.26689967]]\n",
      "\n",
      "  [[ 1.8554574   1.8554574   1.8554574   1.8554574   1.8554574 ]\n",
      "   [ 1.8554574   1.8554574   1.8554574   1.8554574   1.8554574 ]]\n",
      "\n",
      "  [[ 1.63329943  1.63329943  1.63329943  1.63329943  1.63329943]\n",
      "   [ 1.63329943  1.63329943  1.63329943  1.63329943  1.63329943]]\n",
      "\n",
      "  [[-0.99817869 -0.99817869 -0.99817869 -0.99817869 -0.99817869]\n",
      "   [-0.99817869 -0.99817869 -0.99817869 -0.99817869 -0.99817869]]\n",
      "\n",
      "  [[ 2.06807756  2.06807756  2.06807756  2.06807756  2.06807756]\n",
      "   [ 2.06807756  2.06807756  2.06807756  2.06807756  2.06807756]]]\n",
      "\n",
      "\n",
      " [[[ 3.56198702  3.56198702  3.56198702  3.56198702  3.56198702]\n",
      "   [ 3.56198702  3.56198702  3.56198702  3.56198702  3.56198702]]\n",
      "\n",
      "  [[ 0.17622171  0.17622171  0.17622171  0.17622171  0.17622171]\n",
      "   [ 0.17622171  0.17622171  0.17622171  0.17622171  0.17622171]]\n",
      "\n",
      "  [[-1.45154503 -1.45154503 -1.45154503 -1.45154503 -1.45154503]\n",
      "   [-1.45154503 -1.45154503 -1.45154503 -1.45154503 -1.45154503]]\n",
      "\n",
      "  [[ 3.28760357  3.28760357  3.28760357  3.28760357  3.28760357]\n",
      "   [ 3.28760357  3.28760357  3.28760357  3.28760357  3.28760357]]\n",
      "\n",
      "  [[ 0.32717174  0.32717174  0.32717174  0.32717174  0.32717174]\n",
      "   [ 0.32717174  0.32717174  0.32717174  0.32717174  0.32717174]]]]\n",
      "No lo tienen\n"
     ]
    }
   ],
   "source": [
    "print(a)\n",
    "print(e)\n",
    "#las dimensiones de e son 2 matrices con 5 filas y 3 columnas\n",
    "#las dimensiones de a son 10 matrices, con 2 filas y 5 columnas\n",
    "if np.all(e.shape == a.shape):\n",
    "    print('a y b tienen el mismo tamaño')\n",
    "else:\n",
    "    print('No lo tienen')"
   ]
  },
  {
   "cell_type": "markdown",
   "id": "2fe5123a",
   "metadata": {},
   "source": [
    "# 14. Identify the max, min, and mean values in d. Assign those values to variables \"d_max\", \"d_min\", and \"d_mean\""
   ]
  },
  {
   "cell_type": "code",
   "execution_count": 145,
   "id": "7c89d180",
   "metadata": {},
   "outputs": [
    {
     "name": "stdout",
     "output_type": "stream",
     "text": [
      "[[[ 1.66257058  1.4946019   3.1097272   1.01016681  1.66119315]\n",
      "  [ 2.18409744  0.20838839  0.61057479  3.81433625  1.88115269]\n",
      "  [ 0.45321085 -0.33254222  2.84392576  1.67006433  0.55408746]]\n",
      "\n",
      " [[ 2.63855615  1.81954018  2.10389068  0.92412201 -0.91980016]\n",
      "  [ 3.17189986  0.30599895  0.39808561  0.84437041  2.29803006]\n",
      "  [ 2.18343062  1.80614288  1.22616513  1.75658704  0.34441958]]]\n"
     ]
    }
   ],
   "source": [
    "print(d)"
   ]
  },
  {
   "cell_type": "code",
   "execution_count": 147,
   "id": "22433a4c",
   "metadata": {},
   "outputs": [
    {
     "name": "stdout",
     "output_type": "stream",
     "text": [
      "3.8143362523469775\n"
     ]
    }
   ],
   "source": [
    "d_max = d.max()\n",
    "print(d_max)"
   ]
  },
  {
   "cell_type": "code",
   "execution_count": 148,
   "id": "d4c81d0a",
   "metadata": {},
   "outputs": [
    {
     "name": "stdout",
     "output_type": "stream",
     "text": [
      "-0.9198001640434883\n"
     ]
    }
   ],
   "source": [
    "d_min = d.min()\n",
    "print(d_min)"
   ]
  },
  {
   "cell_type": "code",
   "execution_count": 149,
   "id": "b6d30ae1",
   "metadata": {},
   "outputs": [
    {
     "name": "stdout",
     "output_type": "stream",
     "text": [
      "1.457566479338291\n"
     ]
    }
   ],
   "source": [
    "d_mean = d.mean()\n",
    "print(d_mean)"
   ]
  },
  {
   "cell_type": "markdown",
   "id": "9378760a",
   "metadata": {},
   "source": [
    "# 15. Now we want to label the values in d. First create an empty array \"f\" with the same shape (i.e. 2x3x5) as d using `np.empty`"
   ]
  },
  {
   "cell_type": "code",
   "execution_count": 152,
   "id": "0ec144b6",
   "metadata": {},
   "outputs": [
    {
     "name": "stdout",
     "output_type": "stream",
     "text": [
      "(2, 3, 5)\n"
     ]
    }
   ],
   "source": [
    "f = np.empty((2,3,5))\n",
    "print(f.shape)"
   ]
  },
  {
   "cell_type": "code",
   "execution_count": 154,
   "id": "46b5b666",
   "metadata": {},
   "outputs": [
    {
     "name": "stdout",
     "output_type": "stream",
     "text": [
      "3.8143362523469775\n",
      "-0.9198001640434883\n",
      "1.457566479338291\n"
     ]
    }
   ],
   "source": [
    "print(d_max)\n",
    "print(d_min)\n",
    "print(d_mean)"
   ]
  },
  {
   "cell_type": "markdown",
   "id": "55c27b37",
   "metadata": {},
   "source": [
    "# 16 . Populate the values in f. For each value in d, if it's larger than d_min but smaller than d_mean, assign 25 to the corresponding value in f.\n",
    "If a value in d is larger than d_mean but smaller than d_max, assign 75 to the corresponding value in f.\n",
    "If a value equals to d_mean, assign 50 to the corresponding value in f.\n",
    "Assign 0 to the corresponding value(s) in f for d_min in d.\n",
    "Assign 100 to the corresponding value(s) in f for d_max in d.\n",
    "In the end, f should have only the following values: 0, 25, 50, 75, and 100.\n",
    "Note: you don't have to use Numpy in this question.\n",
    "\"\"\""
   ]
  },
  {
   "cell_type": "code",
   "execution_count": 160,
   "id": "4ada17a9",
   "metadata": {},
   "outputs": [],
   "source": [
    "f = 25 * (d > d_min) * (d < d_mean) + 75 * (d < d_max) * (d > d_mean) + 0 * (d == d_min) + 100 * (d == d_max) + 50 * (d == d_mean)"
   ]
  },
  {
   "cell_type": "code",
   "execution_count": 161,
   "id": "d76a3e0a",
   "metadata": {},
   "outputs": [
    {
     "name": "stdout",
     "output_type": "stream",
     "text": [
      "[[[ 75  75  75  25  75]\n",
      "  [ 75  25  25 100  75]\n",
      "  [ 25  25  75  75  25]]\n",
      "\n",
      " [[ 75  75  75  25   0]\n",
      "  [ 75  25  25  25  75]\n",
      "  [ 75  75  25  75  25]]]\n"
     ]
    }
   ],
   "source": [
    "print(f)"
   ]
  },
  {
   "cell_type": "markdown",
   "id": "eaccd4f4",
   "metadata": {},
   "source": [
    "# 17. Print d and f. Do you have your expected f?"
   ]
  },
  {
   "cell_type": "markdown",
   "id": "bc3ec0a9",
   "metadata": {},
   "source": [
    "For instance, if your d is:\n",
    "array([[[1.85836099, 1.67064465, 1.62576044, 1.40243961, 1.88454931],\n",
    "        [1.75354326, 1.69403643, 1.36729252, 1.61415071, 1.12104981],\n",
    "        [1.72201435, 1.1862918 , 1.87078449, 1.7726778 , 1.88180042]],\n",
    "\n",
    "       [[1.44747908, 1.31673383, 1.02000951, 1.52218947, 1.97066381],\n",
    "        [1.79129243, 1.74983003, 1.96028037, 1.85166831, 1.65450881],\n",
    "        [1.18068344, 1.9587381 , 1.00656599, 1.93402165, 1.73514584]]])\n",
    "\n",
    "Your f should be:\n",
    "array([[[ 75.,  75.,  75.,  25.,  75.],\n",
    "        [ 75.,  75.,  25.,  25.,  25.],\n",
    "        [ 75.,  25.,  75.,  75.,  75.]],\n",
    "\n",
    "       [[ 25.,  25.,  25.,  25., 100.],\n",
    "        [ 75.,  75.,  75.,  75.,  75.],\n",
    "        [ 25.,  75.,   0.,  75.,  75.]]])"
   ]
  },
  {
   "cell_type": "code",
   "execution_count": 162,
   "id": "6d7d7c1b",
   "metadata": {},
   "outputs": [
    {
     "name": "stdout",
     "output_type": "stream",
     "text": [
      "[[[ 1.66257058  1.4946019   3.1097272   1.01016681  1.66119315]\n",
      "  [ 2.18409744  0.20838839  0.61057479  3.81433625  1.88115269]\n",
      "  [ 0.45321085 -0.33254222  2.84392576  1.67006433  0.55408746]]\n",
      "\n",
      " [[ 2.63855615  1.81954018  2.10389068  0.92412201 -0.91980016]\n",
      "  [ 3.17189986  0.30599895  0.39808561  0.84437041  2.29803006]\n",
      "  [ 2.18343062  1.80614288  1.22616513  1.75658704  0.34441958]]]\n",
      "[[[ 75  75  75  25  75]\n",
      "  [ 75  25  25 100  75]\n",
      "  [ 25  25  75  75  25]]\n",
      "\n",
      " [[ 75  75  75  25   0]\n",
      "  [ 75  25  25  25  75]\n",
      "  [ 75  75  25  75  25]]]\n"
     ]
    }
   ],
   "source": [
    "print(d)\n",
    "print(f)"
   ]
  },
  {
   "cell_type": "markdown",
   "id": "86b3482d",
   "metadata": {},
   "source": [
    "# 18. Bonus question: instead of using numbers (i.e. 0, 25, 50, 75, and 100), how to use string values \n",
    "(\"A\", \"B\", \"C\", \"D\", and \"E\") to label the array elements? You are expecting the result to be:"
   ]
  },
  {
   "cell_type": "code",
   "execution_count": null,
   "id": "e5699c76",
   "metadata": {},
   "outputs": [],
   "source": []
  }
 ],
 "metadata": {
  "kernelspec": {
   "display_name": "Python 3 (ipykernel)",
   "language": "python",
   "name": "python3"
  },
  "language_info": {
   "codemirror_mode": {
    "name": "ipython",
    "version": 3
   },
   "file_extension": ".py",
   "mimetype": "text/x-python",
   "name": "python",
   "nbconvert_exporter": "python",
   "pygments_lexer": "ipython3",
   "version": "3.9.13"
  }
 },
 "nbformat": 4,
 "nbformat_minor": 5
}
