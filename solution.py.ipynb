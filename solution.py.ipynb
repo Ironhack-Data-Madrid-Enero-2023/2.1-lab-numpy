{
 "cells": [
  {
   "cell_type": "markdown",
   "id": "f2549e66",
   "metadata": {},
   "source": [
    "# 1. Import the NUMPY package under the name np."
   ]
  },
  {
   "cell_type": "code",
   "execution_count": 63,
   "id": "214f1ba1",
   "metadata": {},
   "outputs": [],
   "source": [
    "import numpy as np\n"
   ]
  },
  {
   "cell_type": "markdown",
   "id": "90e35462",
   "metadata": {},
   "source": [
    "# 2. Print the NUMPY version and the configuration."
   ]
  },
  {
   "cell_type": "code",
   "execution_count": 64,
   "id": "14bd219b",
   "metadata": {},
   "outputs": [
    {
     "data": {
      "text/plain": [
       "'1.21.5'"
      ]
     },
     "execution_count": 64,
     "metadata": {},
     "output_type": "execute_result"
    }
   ],
   "source": [
    "np.__version__"
   ]
  },
  {
   "cell_type": "code",
   "execution_count": 65,
   "id": "a7f05dd7",
   "metadata": {},
   "outputs": [
    {
     "name": "stdout",
     "output_type": "stream",
     "text": [
      "blas_mkl_info:\n",
      "    libraries = ['mkl_rt', 'pthread']\n",
      "    library_dirs = ['/Users/ronaldhernandez/opt/anaconda3/lib']\n",
      "    define_macros = [('SCIPY_MKL_H', None), ('HAVE_CBLAS', None)]\n",
      "    include_dirs = ['/Users/ronaldhernandez/opt/anaconda3/include']\n",
      "blas_opt_info:\n",
      "    libraries = ['mkl_rt', 'pthread']\n",
      "    library_dirs = ['/Users/ronaldhernandez/opt/anaconda3/lib']\n",
      "    define_macros = [('SCIPY_MKL_H', None), ('HAVE_CBLAS', None)]\n",
      "    include_dirs = ['/Users/ronaldhernandez/opt/anaconda3/include']\n",
      "lapack_mkl_info:\n",
      "    libraries = ['mkl_rt', 'pthread']\n",
      "    library_dirs = ['/Users/ronaldhernandez/opt/anaconda3/lib']\n",
      "    define_macros = [('SCIPY_MKL_H', None), ('HAVE_CBLAS', None)]\n",
      "    include_dirs = ['/Users/ronaldhernandez/opt/anaconda3/include']\n",
      "lapack_opt_info:\n",
      "    libraries = ['mkl_rt', 'pthread']\n",
      "    library_dirs = ['/Users/ronaldhernandez/opt/anaconda3/lib']\n",
      "    define_macros = [('SCIPY_MKL_H', None), ('HAVE_CBLAS', None)]\n",
      "    include_dirs = ['/Users/ronaldhernandez/opt/anaconda3/include']\n",
      "Supported SIMD extensions in this NumPy install:\n",
      "    baseline = SSE,SSE2,SSE3\n",
      "    found = SSSE3,SSE41,POPCNT,SSE42\n",
      "    not found = AVX,F16C,FMA3,AVX2,AVX512F,AVX512CD,AVX512_KNL,AVX512_SKX,AVX512_CLX,AVX512_CNL,AVX512_ICL\n"
     ]
    }
   ],
   "source": [
    "np.show_config()"
   ]
  },
  {
   "cell_type": "markdown",
   "id": "9d8debb4",
   "metadata": {},
   "source": [
    "#3. Generate a 2x3x5 3-dimensional array with random values. Assign the array to variable \"a\""
   ]
  },
  {
   "cell_type": "code",
   "execution_count": 66,
   "id": "da6a4465",
   "metadata": {},
   "outputs": [],
   "source": [
    "a = np.random.random((2, 3, 5))"
   ]
  },
  {
   "cell_type": "markdown",
   "id": "a67ae374",
   "metadata": {},
   "source": [
    "# 4. Print a."
   ]
  },
  {
   "cell_type": "code",
   "execution_count": 67,
   "id": "cc692546",
   "metadata": {},
   "outputs": [
    {
     "name": "stdout",
     "output_type": "stream",
     "text": [
      "[[[0.87393032 0.98410269 0.27493604 0.81068025 0.24683397]\n",
      "  [0.07326881 0.2370159  0.30679171 0.51751539 0.18956735]\n",
      "  [0.47853877 0.47442594 0.46997717 0.39844971 0.46658051]]\n",
      "\n",
      " [[0.12769204 0.30712572 0.56625696 0.59867254 0.07004132]\n",
      "  [0.92042292 0.73752577 0.01971155 0.55997105 0.39680436]\n",
      "  [0.12456192 0.07473361 0.42529185 0.5270777  0.04778918]]]\n"
     ]
    }
   ],
   "source": [
    "print(a)"
   ]
  },
  {
   "cell_type": "markdown",
   "id": "61568fa3",
   "metadata": {},
   "source": [
    "# 5. Create a 5x2x3 3-dimensional array with all values equaling 1.\n",
    "#Assign the array to variable \"b\""
   ]
  },
  {
   "cell_type": "code",
   "execution_count": 68,
   "id": "50a9ea15",
   "metadata": {},
   "outputs": [],
   "source": [
    "b = np.ones((5, 2, 3))"
   ]
  },
  {
   "cell_type": "markdown",
   "id": "83bd39c6",
   "metadata": {},
   "source": [
    "#6. Print b."
   ]
  },
  {
   "cell_type": "code",
   "execution_count": 69,
   "id": "927caf75",
   "metadata": {},
   "outputs": [
    {
     "name": "stdout",
     "output_type": "stream",
     "text": [
      "[[[1. 1. 1.]\n",
      "  [1. 1. 1.]]\n",
      "\n",
      " [[1. 1. 1.]\n",
      "  [1. 1. 1.]]\n",
      "\n",
      " [[1. 1. 1.]\n",
      "  [1. 1. 1.]]\n",
      "\n",
      " [[1. 1. 1.]\n",
      "  [1. 1. 1.]]\n",
      "\n",
      " [[1. 1. 1.]\n",
      "  [1. 1. 1.]]]\n"
     ]
    }
   ],
   "source": [
    "print(b)"
   ]
  },
  {
   "cell_type": "markdown",
   "id": "8188db8a",
   "metadata": {},
   "source": [
    "# 7. Do a and b have the same size? How do you prove that in Python code?"
   ]
  },
  {
   "cell_type": "code",
   "execution_count": 70,
   "id": "260aa1ee",
   "metadata": {},
   "outputs": [
    {
     "data": {
      "text/plain": [
       "30"
      ]
     },
     "execution_count": 70,
     "metadata": {},
     "output_type": "execute_result"
    }
   ],
   "source": [
    "a.size"
   ]
  },
  {
   "cell_type": "code",
   "execution_count": 71,
   "id": "e305fb1d",
   "metadata": {},
   "outputs": [
    {
     "data": {
      "text/plain": [
       "30"
      ]
     },
     "execution_count": 71,
     "metadata": {},
     "output_type": "execute_result"
    }
   ],
   "source": [
    "b.size"
   ]
  },
  {
   "cell_type": "markdown",
   "id": "501b4901",
   "metadata": {},
   "source": [
    "# 8. Are you able to add a and b? Why or why not?"
   ]
  },
  {
   "cell_type": "code",
   "execution_count": 72,
   "id": "eac2910a",
   "metadata": {},
   "outputs": [
    {
     "ename": "ValueError",
     "evalue": "operands could not be broadcast together with shapes (2,3,5) (5,2,3) ",
     "output_type": "error",
     "traceback": [
      "\u001b[0;31m---------------------------------------------------------------------------\u001b[0m",
      "\u001b[0;31mValueError\u001b[0m                                Traceback (most recent call last)",
      "\u001b[0;32m/var/folders/16/d29f83t16lq49d9rn8rf5yjh0000gn/T/ipykernel_22922/1972733548.py\u001b[0m in \u001b[0;36m<module>\u001b[0;34m\u001b[0m\n\u001b[0;32m----> 1\u001b[0;31m \u001b[0mnp\u001b[0m\u001b[0;34m.\u001b[0m\u001b[0madd\u001b[0m\u001b[0;34m(\u001b[0m\u001b[0ma\u001b[0m\u001b[0;34m,\u001b[0m \u001b[0mb\u001b[0m\u001b[0;34m)\u001b[0m\u001b[0;34m\u001b[0m\u001b[0;34m\u001b[0m\u001b[0m\n\u001b[0m",
      "\u001b[0;31mValueError\u001b[0m: operands could not be broadcast together with shapes (2,3,5) (5,2,3) "
     ]
    }
   ],
   "source": [
    "np.add(a, b)"
   ]
  },
  {
   "cell_type": "markdown",
   "id": "502ceba4",
   "metadata": {},
   "source": [
    "# 9. Transpose b so that it has the same structure of a (i.e. become a 2x3x5 array). Assign the transposed array to varialbe \"c\".\n"
   ]
  },
  {
   "cell_type": "code",
   "execution_count": 73,
   "id": "6adfcf86",
   "metadata": {},
   "outputs": [
    {
     "name": "stdout",
     "output_type": "stream",
     "text": [
      "[[[1. 1. 1. 1. 1.]\n",
      "  [1. 1. 1. 1. 1.]\n",
      "  [1. 1. 1. 1. 1.]]\n",
      "\n",
      " [[1. 1. 1. 1. 1.]\n",
      "  [1. 1. 1. 1. 1.]\n",
      "  [1. 1. 1. 1. 1.]]]\n"
     ]
    }
   ],
   "source": [
    "c = b.transpose(1, 2, 0)\n",
    "\n",
    "print(c)\n"
   ]
  },
  {
   "cell_type": "markdown",
   "id": "b179a4f8",
   "metadata": {},
   "source": [
    "# 10. Try to add a and c. Now it should work. Assign the sum to varialbe \"d\". But why does it work now?"
   ]
  },
  {
   "cell_type": "code",
   "execution_count": 74,
   "id": "eed90b3e",
   "metadata": {},
   "outputs": [
    {
     "name": "stdout",
     "output_type": "stream",
     "text": [
      "[[[1.87393032 1.98410269 1.27493604 1.81068025 1.24683397]\n",
      "  [1.07326881 1.2370159  1.30679171 1.51751539 1.18956735]\n",
      "  [1.47853877 1.47442594 1.46997717 1.39844971 1.46658051]]\n",
      "\n",
      " [[1.12769204 1.30712572 1.56625696 1.59867254 1.07004132]\n",
      "  [1.92042292 1.73752577 1.01971155 1.55997105 1.39680436]\n",
      "  [1.12456192 1.07473361 1.42529185 1.5270777  1.04778918]]]\n"
     ]
    }
   ],
   "source": [
    "d = np.add(a, c)\n",
    "\n",
    "print(d)"
   ]
  },
  {
   "cell_type": "markdown",
   "id": "2b3707b4",
   "metadata": {},
   "source": [
    "# 11. Print a and d. Notice the difference and relation of the two array in terms of the values? Explain."
   ]
  },
  {
   "cell_type": "code",
   "execution_count": 75,
   "id": "a520caa7",
   "metadata": {},
   "outputs": [
    {
     "name": "stdout",
     "output_type": "stream",
     "text": [
      "[[[0.87393032 0.98410269 0.27493604 0.81068025 0.24683397]\n",
      "  [0.07326881 0.2370159  0.30679171 0.51751539 0.18956735]\n",
      "  [0.47853877 0.47442594 0.46997717 0.39844971 0.46658051]]\n",
      "\n",
      " [[0.12769204 0.30712572 0.56625696 0.59867254 0.07004132]\n",
      "  [0.92042292 0.73752577 0.01971155 0.55997105 0.39680436]\n",
      "  [0.12456192 0.07473361 0.42529185 0.5270777  0.04778918]]] [[[1.87393032 1.98410269 1.27493604 1.81068025 1.24683397]\n",
      "  [1.07326881 1.2370159  1.30679171 1.51751539 1.18956735]\n",
      "  [1.47853877 1.47442594 1.46997717 1.39844971 1.46658051]]\n",
      "\n",
      " [[1.12769204 1.30712572 1.56625696 1.59867254 1.07004132]\n",
      "  [1.92042292 1.73752577 1.01971155 1.55997105 1.39680436]\n",
      "  [1.12456192 1.07473361 1.42529185 1.5270777  1.04778918]]]\n"
     ]
    }
   ],
   "source": [
    "print(a, d) # se le ha sumado a todos los valores, el valor de 1, que correspondia al al arrai b en un principio"
   ]
  },
  {
   "cell_type": "markdown",
   "id": "a3bef3d1",
   "metadata": {},
   "source": [
    "# 12. Multiply a and c. Assign the result to e."
   ]
  },
  {
   "cell_type": "code",
   "execution_count": 76,
   "id": "6d65457d",
   "metadata": {},
   "outputs": [
    {
     "name": "stdout",
     "output_type": "stream",
     "text": [
      "[[[0.87393032 0.98410269 0.27493604 0.81068025 0.24683397]\n",
      "  [0.07326881 0.2370159  0.30679171 0.51751539 0.18956735]\n",
      "  [0.47853877 0.47442594 0.46997717 0.39844971 0.46658051]]\n",
      "\n",
      " [[0.12769204 0.30712572 0.56625696 0.59867254 0.07004132]\n",
      "  [0.92042292 0.73752577 0.01971155 0.55997105 0.39680436]\n",
      "  [0.12456192 0.07473361 0.42529185 0.5270777  0.04778918]]]\n"
     ]
    }
   ],
   "source": [
    "e = np.multiply(a, c)\n",
    "\n",
    "print(e)"
   ]
  },
  {
   "cell_type": "markdown",
   "id": "34f30372",
   "metadata": {},
   "source": [
    "# 13. Does e equal to a? Why or why not?\n",
    "\n",
    "si, es exactamente la misma!\n"
   ]
  },
  {
   "cell_type": "markdown",
   "id": "f9bc6bb8",
   "metadata": {},
   "source": [
    "# 14. Identify the max, min, and mean values in d. Assign those values to variables \"d_max\", \"d_min\", and \"d_mean\""
   ]
  },
  {
   "cell_type": "code",
   "execution_count": null,
   "id": "5f2bfdac",
   "metadata": {},
   "outputs": [
    {
     "name": "stdout",
     "output_type": "stream",
     "text": [
      "1.9696321103521537 1.0208804620236025 1.5260261326126476\n"
     ]
    }
   ],
   "source": [
    "d_max = d.max()\n",
    "d_min = d.min()\n",
    "d_mean = d.mean()\n",
    "\n",
    "print(d_max, d_min, d_mean)"
   ]
  },
  {
   "cell_type": "markdown",
   "id": "7073a495",
   "metadata": {},
   "source": [
    "# 15. Now we want to label the values in d. First create an empty array \"f\" with the same shape (i.e. 2x3x5) as d using `np.empty`."
   ]
  },
  {
   "cell_type": "code",
   "execution_count": null,
   "id": "686b8e1e",
   "metadata": {},
   "outputs": [
    {
     "name": "stdout",
     "output_type": "stream",
     "text": [
      "[[[0.19668262 0.58885485 0.96963211 0.15109353 0.70482493]\n",
      "  [0.48021272 0.57613102 0.72102571 0.68367504 0.12013812]\n",
      "  [0.12589627 0.89710934 0.44600305 0.69481065 0.15054269]]\n",
      "\n",
      " [[0.412625   0.1046005  0.36798211 0.82070574 0.84196559]\n",
      "  [0.83688805 0.86817916 0.30147533 0.85412591 0.73668437]\n",
      "  [0.02088046 0.44886794 0.82663721 0.47803081 0.35450315]]]\n"
     ]
    }
   ],
   "source": [
    "f = np.empty((2, 3, 5))\n",
    "\n",
    "print(f)"
   ]
  },
  {
   "attachments": {},
   "cell_type": "markdown",
   "id": "e1bac499",
   "metadata": {},
   "source": [
    "# 16. Populate the values in f. For each value in d, if it's larger than d_min but smaller than d_mean, assign 25 to the corresponding value in f.\n",
    "If a value in d is larger than d_mean but smaller than d_max, assign 75 to the corresponding value in f.\n",
    "If a value equals to d_mean, assign 50 to the corresponding value in f.\n",
    "Assign 0 to the corresponding value(s) in f for d_min in d.\n",
    "Assign 100 to the corresponding value(s) in f for d_max in d.\n",
    "In the end, f should have only the following values: 0, 25, 50, 75, and 100.\n",
    "Note: you don't have to use Numpy in this question."
   ]
  },
  {
   "cell_type": "code",
   "execution_count": null,
   "id": "adbdc7f1",
   "metadata": {},
   "outputs": [],
   "source": [
    "\n",
    "f = np.where(d == d_max, 100, np.where(d > d_mean, 75, np.where(d == d_mean, 50, np.where(d > d_min, 25, 0))))\n"
   ]
  },
  {
   "attachments": {},
   "cell_type": "markdown",
   "id": "1963b200",
   "metadata": {},
   "source": [
    "# 17. Print d and f. Do you have your expected f?\n",
    "For instance, if your d is:"
   ]
  },
  {
   "cell_type": "code",
   "execution_count": null,
   "id": "3cdf5ffb",
   "metadata": {},
   "outputs": [
    {
     "name": "stdout",
     "output_type": "stream",
     "text": [
      "[[[1.19668262 1.58885485 1.96963211 1.15109353 1.70482493]\n",
      "  [1.48021272 1.57613102 1.72102571 1.68367504 1.12013812]\n",
      "  [1.12589627 1.89710934 1.44600305 1.69481065 1.15054269]]\n",
      "\n",
      " [[1.412625   1.1046005  1.36798211 1.82070574 1.84196559]\n",
      "  [1.83688805 1.86817916 1.30147533 1.85412591 1.73668437]\n",
      "  [1.02088046 1.44886794 1.82663721 1.47803081 1.35450315]]]\n",
      "[[[ 25  75 100  25  75]\n",
      "  [ 25  75  75  75  25]\n",
      "  [ 25  75  25  75  25]]\n",
      "\n",
      " [[ 25  25  25  75  75]\n",
      "  [ 75  75  25  75  75]\n",
      "  [  0  25  75  25  25]]]\n"
     ]
    }
   ],
   "source": [
    "print(d)\n",
    "\n",
    "print(f)"
   ]
  },
  {
   "cell_type": "code",
   "execution_count": null,
   "id": "efd8ec24",
   "metadata": {},
   "outputs": [],
   "source": []
  }
 ],
 "metadata": {
  "kernelspec": {
   "display_name": "base",
   "language": "python",
   "name": "python3"
  },
  "language_info": {
   "codemirror_mode": {
    "name": "ipython",
    "version": 3
   },
   "file_extension": ".py",
   "mimetype": "text/x-python",
   "name": "python",
   "nbconvert_exporter": "python",
   "pygments_lexer": "ipython3",
   "version": "3.9.13"
  },
  "vscode": {
   "interpreter": {
    "hash": "0d25c6841c13b43e6c2d09f1288701674cd83386a6b31b0980317526c0cec0b9"
   }
  }
 },
 "nbformat": 4,
 "nbformat_minor": 5
}
