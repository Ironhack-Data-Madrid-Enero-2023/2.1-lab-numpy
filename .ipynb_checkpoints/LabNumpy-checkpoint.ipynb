{
 "cells": [
  {
   "cell_type": "markdown",
   "id": "5e891038",
   "metadata": {},
   "source": [
    "### Import the NUMPY package under the name np."
   ]
  },
  {
   "cell_type": "code",
   "execution_count": 1,
   "id": "8159f9db",
   "metadata": {
    "scrolled": true
   },
   "outputs": [
    {
     "name": "stdout",
     "output_type": "stream",
     "text": [
      "Requirement already satisfied: numpy in c:\\users\\pedro vidales\\anaconda3\\lib\\site-packages (1.21.5)\n",
      "Note: you may need to restart the kernel to use updated packages.\n"
     ]
    }
   ],
   "source": [
    "%pip install numpy"
   ]
  },
  {
   "cell_type": "code",
   "execution_count": 2,
   "id": "27b4843c",
   "metadata": {},
   "outputs": [],
   "source": [
    "import numpy as np"
   ]
  },
  {
   "cell_type": "markdown",
   "id": "0bf4a25f",
   "metadata": {},
   "source": [
    "### Print the NUMPY version and the configuration"
   ]
  },
  {
   "cell_type": "code",
   "execution_count": 4,
   "id": "ff9560cf",
   "metadata": {},
   "outputs": [
    {
     "name": "stdout",
     "output_type": "stream",
     "text": [
      "1.21.5\n",
      "blas_mkl_info:\n",
      "    libraries = ['mkl_rt']\n",
      "    library_dirs = ['C:/Users/Pedro Vidales/anaconda3\\\\Library\\\\lib']\n",
      "    define_macros = [('SCIPY_MKL_H', None), ('HAVE_CBLAS', None)]\n",
      "    include_dirs = ['C:/Users/Pedro Vidales/anaconda3\\\\Library\\\\include']\n",
      "blas_opt_info:\n",
      "    libraries = ['mkl_rt']\n",
      "    library_dirs = ['C:/Users/Pedro Vidales/anaconda3\\\\Library\\\\lib']\n",
      "    define_macros = [('SCIPY_MKL_H', None), ('HAVE_CBLAS', None)]\n",
      "    include_dirs = ['C:/Users/Pedro Vidales/anaconda3\\\\Library\\\\include']\n",
      "lapack_mkl_info:\n",
      "    libraries = ['mkl_rt']\n",
      "    library_dirs = ['C:/Users/Pedro Vidales/anaconda3\\\\Library\\\\lib']\n",
      "    define_macros = [('SCIPY_MKL_H', None), ('HAVE_CBLAS', None)]\n",
      "    include_dirs = ['C:/Users/Pedro Vidales/anaconda3\\\\Library\\\\include']\n",
      "lapack_opt_info:\n",
      "    libraries = ['mkl_rt']\n",
      "    library_dirs = ['C:/Users/Pedro Vidales/anaconda3\\\\Library\\\\lib']\n",
      "    define_macros = [('SCIPY_MKL_H', None), ('HAVE_CBLAS', None)]\n",
      "    include_dirs = ['C:/Users/Pedro Vidales/anaconda3\\\\Library\\\\include']\n",
      "Supported SIMD extensions in this NumPy install:\n",
      "    baseline = SSE,SSE2,SSE3\n",
      "    found = SSSE3,SSE41,POPCNT,SSE42,AVX,F16C,FMA3,AVX2\n",
      "    not found = AVX512F,AVX512CD,AVX512_SKX,AVX512_CLX,AVX512_CNL\n"
     ]
    }
   ],
   "source": [
    "print(np.__version__)\n",
    "np.show_config()"
   ]
  },
  {
   "cell_type": "markdown",
   "id": "c0f9ff15",
   "metadata": {},
   "source": [
    "Generate a 2x3x5 3-dimensional array with random values. Assign the array to variable \"a\"\n",
    "# Challenge: there are at least three easy ways that use numpy to generate random arrays. How many ways can you find?\n",
    "### "
   ]
  },
  {
   "cell_type": "code",
   "execution_count": 5,
   "id": "0de1dc44",
   "metadata": {},
   "outputs": [
    {
     "name": "stdout",
     "output_type": "stream",
     "text": [
      "[[[0.76756248 0.13107608 0.34714514 0.94433031 0.95520074]\n",
      "  [0.66584468 0.26052111 0.70474414 0.92874825 0.83723061]\n",
      "  [0.55595261 0.13591648 0.84573092 0.07384207 0.62035152]]\n",
      "\n",
      " [[0.11481388 0.39555429 0.85920591 0.86100224 0.19678462]\n",
      "  [0.0793226  0.63744272 0.63351616 0.01088448 0.03409052]\n",
      "  [0.45776174 0.25765076 0.01556156 0.65329375 0.32000096]]]\n"
     ]
    }
   ],
   "source": [
    "a = np.random.random((2, 3, 5))\n",
    "print(a)"
   ]
  },
  {
   "cell_type": "markdown",
   "id": "43b8faf7",
   "metadata": {},
   "source": [
    "### Create a 5x2x3 3-dimensional array with all values equaling 1.\n",
    "#Assign the array to variable \"b"
   ]
  },
  {
   "cell_type": "code",
   "execution_count": 6,
   "id": "cfd49f40",
   "metadata": {},
   "outputs": [
    {
     "name": "stdout",
     "output_type": "stream",
     "text": [
      "[[[1. 1. 1.]\n",
      "  [1. 1. 1.]]\n",
      "\n",
      " [[1. 1. 1.]\n",
      "  [1. 1. 1.]]\n",
      "\n",
      " [[1. 1. 1.]\n",
      "  [1. 1. 1.]]\n",
      "\n",
      " [[1. 1. 1.]\n",
      "  [1. 1. 1.]]\n",
      "\n",
      " [[1. 1. 1.]\n",
      "  [1. 1. 1.]]]\n"
     ]
    }
   ],
   "source": [
    "b = np.ones((5,2,3))\n",
    "print(b)"
   ]
  },
  {
   "cell_type": "markdown",
   "id": "a0b56716",
   "metadata": {},
   "source": [
    "### Do a and b have the same size? How do you prove that in Python code?"
   ]
  },
  {
   "cell_type": "code",
   "execution_count": 7,
   "id": "8e0e37c1",
   "metadata": {},
   "outputs": [
    {
     "data": {
      "text/plain": [
       "True"
      ]
     },
     "execution_count": 7,
     "metadata": {},
     "output_type": "execute_result"
    }
   ],
   "source": [
    "a.size == b.size\n"
   ]
  },
  {
   "cell_type": "markdown",
   "id": "d6a33ed3",
   "metadata": {},
   "source": [
    "### Are you able to add a and b? Why or why not?"
   ]
  },
  {
   "cell_type": "code",
   "execution_count": 8,
   "id": "95db1ace",
   "metadata": {},
   "outputs": [
    {
     "ename": "SyntaxError",
     "evalue": "invalid syntax (170101507.py, line 1)",
     "output_type": "error",
     "traceback": [
      "\u001b[1;36m  File \u001b[1;32m\"C:\\Users\\Pedro Vidales\\AppData\\Local\\Temp\\ipykernel_7492\\170101507.py\"\u001b[1;36m, line \u001b[1;32m1\u001b[0m\n\u001b[1;33m    No se pueden sumar a y b directamente porque tienen diferentes shapes (formas). La suma entre dos arrays en numpy solo es posible si ambos tienen las mismas dimensiones (shape).\u001b[0m\n\u001b[1;37m       ^\u001b[0m\n\u001b[1;31mSyntaxError\u001b[0m\u001b[1;31m:\u001b[0m invalid syntax\n"
     ]
    }
   ],
   "source": [
    "No se pueden sumar a y b directamente porque tienen diferentes shapes (formas). La suma entre dos arrays en numpy solo es posible si ambos tienen las mismas dimensiones (shape)."
   ]
  },
  {
   "cell_type": "markdown",
   "id": "68d3191c",
   "metadata": {},
   "source": [
    "### Transpose b so that it has the same structure of a (i.e. become a 2x3x5 array). Assign the transposed array to varialbe \"c\"."
   ]
  },
  {
   "cell_type": "code",
   "execution_count": 18,
   "id": "3057a2d2",
   "metadata": {},
   "outputs": [
    {
     "name": "stdout",
     "output_type": "stream",
     "text": [
      "[[[1. 1. 1. 1. 1.]\n",
      "  [1. 1. 1. 1. 1.]\n",
      "  [1. 1. 1. 1. 1.]]\n",
      "\n",
      " [[1. 1. 1. 1. 1.]\n",
      "  [1. 1. 1. 1. 1.]\n",
      "  [1. 1. 1. 1. 1.]]]\n"
     ]
    }
   ],
   "source": [
    "c = b.reshape((2, 3, 5))\n",
    "print(c)"
   ]
  },
  {
   "cell_type": "markdown",
   "id": "cfb72724",
   "metadata": {},
   "source": [
    "### Try to add a and c. Now it should work. Assign the sum to varialbe \"d\". But why does it work now?"
   ]
  },
  {
   "cell_type": "code",
   "execution_count": 19,
   "id": "4e287d9a",
   "metadata": {},
   "outputs": [],
   "source": [
    "d = a + c"
   ]
  },
  {
   "cell_type": "code",
   "execution_count": 20,
   "id": "1efe59c9",
   "metadata": {},
   "outputs": [
    {
     "name": "stdout",
     "output_type": "stream",
     "text": [
      "[[[1.76756248 1.13107608 1.34714514 1.94433031 1.95520074]\n",
      "  [1.66584468 1.26052111 1.70474414 1.92874825 1.83723061]\n",
      "  [1.55595261 1.13591648 1.84573092 1.07384207 1.62035152]]\n",
      "\n",
      " [[1.11481388 1.39555429 1.85920591 1.86100224 1.19678462]\n",
      "  [1.0793226  1.63744272 1.63351616 1.01088448 1.03409052]\n",
      "  [1.45776174 1.25765076 1.01556156 1.65329375 1.32000096]]]\n"
     ]
    }
   ],
   "source": [
    "print(d)\n"
   ]
  },
  {
   "cell_type": "markdown",
   "id": "e937b808",
   "metadata": {},
   "source": [
    "### Print a and d. Notice the difference and relation of the two array in terms of the values? Explain."
   ]
  },
  {
   "cell_type": "code",
   "execution_count": 21,
   "id": "1fd8e4d1",
   "metadata": {},
   "outputs": [
    {
     "name": "stdout",
     "output_type": "stream",
     "text": [
      "[[[0.76756248 0.13107608 0.34714514 0.94433031 0.95520074]\n",
      "  [0.66584468 0.26052111 0.70474414 0.92874825 0.83723061]\n",
      "  [0.55595261 0.13591648 0.84573092 0.07384207 0.62035152]]\n",
      "\n",
      " [[0.11481388 0.39555429 0.85920591 0.86100224 0.19678462]\n",
      "  [0.0793226  0.63744272 0.63351616 0.01088448 0.03409052]\n",
      "  [0.45776174 0.25765076 0.01556156 0.65329375 0.32000096]]]\n",
      "[[[1.76756248 1.13107608 1.34714514 1.94433031 1.95520074]\n",
      "  [1.66584468 1.26052111 1.70474414 1.92874825 1.83723061]\n",
      "  [1.55595261 1.13591648 1.84573092 1.07384207 1.62035152]]\n",
      "\n",
      " [[1.11481388 1.39555429 1.85920591 1.86100224 1.19678462]\n",
      "  [1.0793226  1.63744272 1.63351616 1.01088448 1.03409052]\n",
      "  [1.45776174 1.25765076 1.01556156 1.65329375 1.32000096]]]\n"
     ]
    }
   ],
   "source": [
    "print(a)\n",
    "print(d)"
   ]
  },
  {
   "cell_type": "code",
   "execution_count": 22,
   "id": "7c47555d",
   "metadata": {},
   "outputs": [],
   "source": [
    "#la relación entre las dos matrices es que \"d\" es igual a \"a\" con 1 añadido a cada elemento. "
   ]
  },
  {
   "cell_type": "markdown",
   "id": "399c098d",
   "metadata": {},
   "source": [
    "### Multiply a and c. Assign the result to e."
   ]
  },
  {
   "cell_type": "code",
   "execution_count": 23,
   "id": "23f2b522",
   "metadata": {},
   "outputs": [
    {
     "name": "stdout",
     "output_type": "stream",
     "text": [
      "[[[0.90338274 0.91114444 0.580449   0.71692466 0.97048087]\n",
      "  [0.76417927 0.97018022 0.6016642  0.21365229 0.19990098]\n",
      "  [0.20118607 0.01237018 0.96045279 0.35049114 0.32457411]]\n",
      "\n",
      " [[0.06247817 0.94635348 0.23318773 0.22623161 0.77844113]\n",
      "  [0.40514577 0.72764636 0.80002486 0.85084506 0.05320473]\n",
      "  [0.42244489 0.48604611 0.86840465 0.14199996 0.50048856]]]\n"
     ]
    }
   ],
   "source": [
    "a = np.random.random((2, 3, 5))\n",
    "c = b.reshape((2, 3, 5))\n",
    "e = a * c \n",
    "print(e)"
   ]
  },
  {
   "cell_type": "markdown",
   "id": "969ee3e9",
   "metadata": {},
   "source": [
    "### Does e equal to a? Why or why not?"
   ]
  },
  {
   "cell_type": "code",
   "execution_count": 24,
   "id": "7a382309",
   "metadata": {},
   "outputs": [
    {
     "name": "stdout",
     "output_type": "stream",
     "text": [
      "[[[0.90338274 0.91114444 0.580449   0.71692466 0.97048087]\n",
      "  [0.76417927 0.97018022 0.6016642  0.21365229 0.19990098]\n",
      "  [0.20118607 0.01237018 0.96045279 0.35049114 0.32457411]]\n",
      "\n",
      " [[0.06247817 0.94635348 0.23318773 0.22623161 0.77844113]\n",
      "  [0.40514577 0.72764636 0.80002486 0.85084506 0.05320473]\n",
      "  [0.42244489 0.48604611 0.86840465 0.14199996 0.50048856]]]\n",
      "[[[0.90338274 0.91114444 0.580449   0.71692466 0.97048087]\n",
      "  [0.76417927 0.97018022 0.6016642  0.21365229 0.19990098]\n",
      "  [0.20118607 0.01237018 0.96045279 0.35049114 0.32457411]]\n",
      "\n",
      " [[0.06247817 0.94635348 0.23318773 0.22623161 0.77844113]\n",
      "  [0.40514577 0.72764636 0.80002486 0.85084506 0.05320473]\n",
      "  [0.42244489 0.48604611 0.86840465 0.14199996 0.50048856]]]\n"
     ]
    }
   ],
   "source": [
    "print(a)\n",
    "print(e)"
   ]
  },
  {
   "cell_type": "code",
   "execution_count": 25,
   "id": "b3b079b6",
   "metadata": {},
   "outputs": [],
   "source": [
    "#Son iguales."
   ]
  },
  {
   "cell_type": "markdown",
   "id": "f087a045",
   "metadata": {},
   "source": [
    "### Identify the max, min, and mean values in d. Assign those values to variables \"d_max\", \"d_min\", and \"d_mean\""
   ]
  },
  {
   "cell_type": "code",
   "execution_count": 26,
   "id": "89263d8e",
   "metadata": {},
   "outputs": [
    {
     "name": "stdout",
     "output_type": "stream",
     "text": [
      "1.9552007405030631\n",
      "1.0108844757843287\n",
      "1.4767027769318593\n"
     ]
    }
   ],
   "source": [
    "d_max = d.max()\n",
    "d_min = d.min()\n",
    "d_mean = d.mean()\n",
    "\n",
    "print(d_max)\n",
    "print(d_min)\n",
    "print(d_mean)"
   ]
  },
  {
   "cell_type": "markdown",
   "id": "0caf735f",
   "metadata": {},
   "source": [
    "### Now we want to label the values in d. First create an empty array \"f\" with the same shape (i.e. 2x3x5) as d using `np.empty`."
   ]
  },
  {
   "cell_type": "code",
   "execution_count": 27,
   "id": "4d0d098a",
   "metadata": {},
   "outputs": [
    {
     "name": "stdout",
     "output_type": "stream",
     "text": [
      "[[[0.90338274 0.91114444 0.580449   0.71692466 0.97048087]\n",
      "  [0.76417927 0.97018022 0.6016642  0.21365229 0.19990098]\n",
      "  [0.20118607 0.01237018 0.96045279 0.35049114 0.32457411]]\n",
      "\n",
      " [[0.06247817 0.94635348 0.23318773 0.22623161 0.77844113]\n",
      "  [0.40514577 0.72764636 0.80002486 0.85084506 0.05320473]\n",
      "  [0.42244489 0.48604611 0.86840465 0.14199996 0.50048856]]]\n"
     ]
    }
   ],
   "source": [
    "f = np.empty(d.shape)\n",
    "print(f)"
   ]
  },
  {
   "cell_type": "markdown",
   "id": "7371d109",
   "metadata": {},
   "source": [
    "# Populate the values in f. "
   ]
  },
  {
   "cell_type": "code",
   "execution_count": 28,
   "id": "d5d981e2",
   "metadata": {},
   "outputs": [],
   "source": [
    "# For each value in d, if it's larger than d_min but smaller than d_mean, assign 25 to the corresponding value in f. \n",
    "# If a value in d is larger than d_mean but smaller than d_max, assign 75 to the corresponding value in f.\n",
    "# If a value equals to d_mean, assign 50 to the corresponding value in f.\n",
    "# Assign 0 to the corresponding value(s) in f for d_min in d.\n",
    "# Assign 100 to the corresponding value(s) in f for d_max in d.\n",
    "# In the end, f should have only the following values: 0, 25, 50, 75, and 100.\n",
    "#Note: you don't have to use Numpy in this question."
   ]
  },
  {
   "cell_type": "code",
   "execution_count": 29,
   "id": "e42a95d1",
   "metadata": {},
   "outputs": [
    {
     "name": "stdout",
     "output_type": "stream",
     "text": [
      "[[[ 75  25  25  75 100]\n",
      "  [ 75  25  75  75  75]\n",
      "  [ 75  25  75  25  75]]\n",
      "\n",
      " [[ 25  25  75  75  25]\n",
      "  [ 25  75  75   0  25]\n",
      "  [ 25  25  25  75  25]]]\n"
     ]
    }
   ],
   "source": [
    "f = np.where(d == d_min, 0, np.where(d < d_mean, 25, np.where(d == d_mean, 50, np.where(d < d_max, 75, 100))))\n",
    "print(f)"
   ]
  },
  {
   "cell_type": "markdown",
   "id": "54cf0f05",
   "metadata": {},
   "source": [
    "### Print d and f. Do you have your expected f?"
   ]
  },
  {
   "cell_type": "code",
   "execution_count": 24,
   "id": "0ef92f2d",
   "metadata": {},
   "outputs": [
    {
     "name": "stdout",
     "output_type": "stream",
     "text": [
      "[[[1.58344366 1.86813322 1.56411643 1.3245887  1.21414543]\n",
      "  [1.96968448 1.38409731 1.63957479 1.40146835 1.80653619]\n",
      "  [1.09675541 1.42489038 1.33275684 1.88364387 1.78921304]]\n",
      "\n",
      " [[1.68748047 1.94927773 1.80165696 1.56000221 1.37969275]\n",
      "  [1.35967839 1.35727067 1.54290374 1.46069939 1.92464159]\n",
      "  [1.96274163 1.1051704  1.63834236 1.52534283 1.48006571]]]\n",
      "[[[ 75  75  25  25  25]\n",
      "  [100  25  75  25  75]\n",
      "  [  0  25  25  75  75]]\n",
      "\n",
      " [[ 75  75  75  25  25]\n",
      "  [ 25  25  25  25  75]\n",
      "  [ 75  25  75  25  25]]]\n"
     ]
    }
   ],
   "source": [
    "print(d)\n",
    "print(f)"
   ]
  },
  {
   "cell_type": "code",
   "execution_count": null,
   "id": "eadf2e84",
   "metadata": {},
   "outputs": [],
   "source": []
  }
 ],
 "metadata": {
  "kernelspec": {
   "display_name": "Python 3 (ipykernel)",
   "language": "python",
   "name": "python3"
  },
  "language_info": {
   "codemirror_mode": {
    "name": "ipython",
    "version": 3
   },
   "file_extension": ".py",
   "mimetype": "text/x-python",
   "name": "python",
   "nbconvert_exporter": "python",
   "pygments_lexer": "ipython3",
   "version": "3.9.13"
  }
 },
 "nbformat": 4,
 "nbformat_minor": 5
}
