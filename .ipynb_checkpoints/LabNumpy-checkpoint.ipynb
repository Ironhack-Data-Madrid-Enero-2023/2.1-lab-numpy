{
 "cells": [
  {
   "cell_type": "markdown",
   "id": "5e891038",
   "metadata": {},
   "source": [
    "### Import the NUMPY package under the name np."
   ]
  },
  {
   "cell_type": "code",
   "execution_count": 1,
   "id": "8159f9db",
   "metadata": {
    "scrolled": true
   },
   "outputs": [
    {
     "name": "stdout",
     "output_type": "stream",
     "text": [
      "Requirement already satisfied: numpy in c:\\users\\pedro vidales\\anaconda3\\lib\\site-packages (1.21.5)\n",
      "Note: you may need to restart the kernel to use updated packages.\n"
     ]
    }
   ],
   "source": [
    "%pip install numpy"
   ]
  },
  {
   "cell_type": "code",
   "execution_count": 2,
   "id": "27b4843c",
   "metadata": {},
   "outputs": [],
   "source": [
    "import numpy as np"
   ]
  },
  {
   "cell_type": "markdown",
   "id": "0bf4a25f",
   "metadata": {},
   "source": [
    "### Print the NUMPY version and the configuration"
   ]
  },
  {
   "cell_type": "code",
   "execution_count": 3,
   "id": "ff9560cf",
   "metadata": {},
   "outputs": [
    {
     "name": "stdout",
     "output_type": "stream",
     "text": [
      "1.21.5\n",
      "blas_mkl_info:\n",
      "    libraries = ['mkl_rt']\n",
      "    library_dirs = ['C:/Users/Pedro Vidales/anaconda3\\\\Library\\\\lib']\n",
      "    define_macros = [('SCIPY_MKL_H', None), ('HAVE_CBLAS', None)]\n",
      "    include_dirs = ['C:/Users/Pedro Vidales/anaconda3\\\\Library\\\\include']\n",
      "blas_opt_info:\n",
      "    libraries = ['mkl_rt']\n",
      "    library_dirs = ['C:/Users/Pedro Vidales/anaconda3\\\\Library\\\\lib']\n",
      "    define_macros = [('SCIPY_MKL_H', None), ('HAVE_CBLAS', None)]\n",
      "    include_dirs = ['C:/Users/Pedro Vidales/anaconda3\\\\Library\\\\include']\n",
      "lapack_mkl_info:\n",
      "    libraries = ['mkl_rt']\n",
      "    library_dirs = ['C:/Users/Pedro Vidales/anaconda3\\\\Library\\\\lib']\n",
      "    define_macros = [('SCIPY_MKL_H', None), ('HAVE_CBLAS', None)]\n",
      "    include_dirs = ['C:/Users/Pedro Vidales/anaconda3\\\\Library\\\\include']\n",
      "lapack_opt_info:\n",
      "    libraries = ['mkl_rt']\n",
      "    library_dirs = ['C:/Users/Pedro Vidales/anaconda3\\\\Library\\\\lib']\n",
      "    define_macros = [('SCIPY_MKL_H', None), ('HAVE_CBLAS', None)]\n",
      "    include_dirs = ['C:/Users/Pedro Vidales/anaconda3\\\\Library\\\\include']\n",
      "Supported SIMD extensions in this NumPy install:\n",
      "    baseline = SSE,SSE2,SSE3\n",
      "    found = SSSE3,SSE41,POPCNT,SSE42,AVX,F16C,FMA3,AVX2\n",
      "    not found = AVX512F,AVX512CD,AVX512_SKX,AVX512_CLX,AVX512_CNL\n",
      "None\n"
     ]
    }
   ],
   "source": [
    "print(np.__version__)\n",
    "print(np.show_config())"
   ]
  },
  {
   "cell_type": "markdown",
   "id": "c0f9ff15",
   "metadata": {},
   "source": [
    "Generate a 2x3x5 3-dimensional array with random values. Assign the array to variable \"a\"\n",
    "# Challenge: there are at least three easy ways that use numpy to generate random arrays. How many ways can you find?\n",
    "### "
   ]
  },
  {
   "cell_type": "code",
   "execution_count": 4,
   "id": "821fdf5d",
   "metadata": {},
   "outputs": [
    {
     "name": "stdout",
     "output_type": "stream",
     "text": [
      "[[[0.20756569 0.51433612 0.64067908 0.36693427 0.11302526]\n",
      "  [0.04597821 0.02239832 0.90211597 0.91938437 0.1962698 ]\n",
      "  [0.46241771 0.55229441 0.71608213 0.43809139 0.28037381]]\n",
      "\n",
      " [[0.8624031  0.03761458 0.31520034 0.15472856 0.54738989]\n",
      "  [0.14700654 0.66332161 0.86231618 0.39855617 0.81225205]\n",
      "  [0.20327671 0.63283615 0.72491983 0.80632778 0.56723237]]]\n"
     ]
    }
   ],
   "source": [
    "a = np.random.rand(2, 3, 5)\n",
    "print(a)"
   ]
  },
  {
   "cell_type": "code",
   "execution_count": 5,
   "id": "5c5d4e9e",
   "metadata": {},
   "outputs": [
    {
     "name": "stdout",
     "output_type": "stream",
     "text": [
      "[[[ 4  6  5  5  7]\n",
      "  [ 9  2  7  2  2]\n",
      "  [10  4  2  3  5]]\n",
      "\n",
      " [[ 7  9  1  1  9]\n",
      "  [ 6  3  8  7  6]\n",
      "  [ 6  7  5  8  2]]]\n"
     ]
    }
   ],
   "source": [
    "a = np.random.randint(0, 11, size=(2, 3, 5))\n",
    "print(a)"
   ]
  },
  {
   "cell_type": "code",
   "execution_count": 6,
   "id": "fd467af1",
   "metadata": {},
   "outputs": [
    {
     "name": "stdout",
     "output_type": "stream",
     "text": [
      "[[[0.06934624 0.35900102 0.06498677 0.29089124 0.52149362]\n",
      "  [0.27567279 0.94507211 0.58354302 0.95365207 0.91129695]\n",
      "  [0.50810347 0.57174812 0.88507194 0.6107136  0.71943454]]\n",
      "\n",
      " [[0.37889262 0.75087046 0.56587425 0.95063779 0.82257072]\n",
      "  [0.75432792 0.08436168 0.46837129 0.41581089 0.37485243]\n",
      "  [0.86101112 0.79818508 0.46153896 0.3541919  0.93691712]]]\n"
     ]
    }
   ],
   "source": [
    "a = np.array([np.random.sample((3,5)) for _ in range(2)])\n",
    "print(a)"
   ]
  },
  {
   "cell_type": "code",
   "execution_count": 7,
   "id": "0de1dc44",
   "metadata": {},
   "outputs": [
    {
     "name": "stdout",
     "output_type": "stream",
     "text": [
      "[[[0.58344366 0.86813322 0.56411643 0.3245887  0.21414543]\n",
      "  [0.96968448 0.38409731 0.63957479 0.40146835 0.80653619]\n",
      "  [0.09675541 0.42489038 0.33275684 0.88364387 0.78921304]]\n",
      "\n",
      " [[0.68748047 0.94927773 0.80165696 0.56000221 0.37969275]\n",
      "  [0.35967839 0.35727067 0.54290374 0.46069939 0.92464159]\n",
      "  [0.96274163 0.1051704  0.63834236 0.52534283 0.48006571]]]\n"
     ]
    }
   ],
   "source": [
    "a = np.random.random((2, 3, 5))\n",
    "print(a)"
   ]
  },
  {
   "cell_type": "markdown",
   "id": "43b8faf7",
   "metadata": {},
   "source": [
    "### Create a 5x2x3 3-dimensional array with all values equaling 1.\n",
    "#Assign the array to variable \"b"
   ]
  },
  {
   "cell_type": "code",
   "execution_count": 8,
   "id": "cfd49f40",
   "metadata": {},
   "outputs": [
    {
     "name": "stdout",
     "output_type": "stream",
     "text": [
      "[[[1. 1. 1.]\n",
      "  [1. 1. 1.]]\n",
      "\n",
      " [[1. 1. 1.]\n",
      "  [1. 1. 1.]]\n",
      "\n",
      " [[1. 1. 1.]\n",
      "  [1. 1. 1.]]\n",
      "\n",
      " [[1. 1. 1.]\n",
      "  [1. 1. 1.]]\n",
      "\n",
      " [[1. 1. 1.]\n",
      "  [1. 1. 1.]]]\n"
     ]
    }
   ],
   "source": [
    "b = np.ones((5, 2, 3))\n",
    "print(b)"
   ]
  },
  {
   "cell_type": "markdown",
   "id": "a0b56716",
   "metadata": {},
   "source": [
    "### Do a and b have the same size? How do you prove that in Python code?"
   ]
  },
  {
   "cell_type": "code",
   "execution_count": 9,
   "id": "8e0e37c1",
   "metadata": {},
   "outputs": [
    {
     "data": {
      "text/plain": [
       "30"
      ]
     },
     "execution_count": 9,
     "metadata": {},
     "output_type": "execute_result"
    }
   ],
   "source": [
    "a.size"
   ]
  },
  {
   "cell_type": "code",
   "execution_count": 10,
   "id": "9fda647c",
   "metadata": {},
   "outputs": [
    {
     "data": {
      "text/plain": [
       "30"
      ]
     },
     "execution_count": 10,
     "metadata": {},
     "output_type": "execute_result"
    }
   ],
   "source": [
    "b.size"
   ]
  },
  {
   "cell_type": "markdown",
   "id": "d6a33ed3",
   "metadata": {},
   "source": [
    "### Are you able to add a and b? Why or why not?"
   ]
  },
  {
   "cell_type": "code",
   "execution_count": 11,
   "id": "95db1ace",
   "metadata": {},
   "outputs": [
    {
     "ename": "SyntaxError",
     "evalue": "invalid syntax (827840302.py, line 1)",
     "output_type": "error",
     "traceback": [
      "\u001b[1;36m  File \u001b[1;32m\"C:\\Users\\Pedro Vidales\\AppData\\Local\\Temp\\ipykernel_11040\\827840302.py\"\u001b[1;36m, line \u001b[1;32m1\u001b[0m\n\u001b[1;33m    No se pueden sumar a y b directamente porque tienen diferentes shapes (formas). La suma entre dos arrays en numpy solo es posible si ambos tienen las mismas dimensiones (shape). En este caso, a tiene shape (2, 3, 5) y b tiene shape (5, 2, 3), lo cual significa que tienen diferentes cantidades de elementos en cada una de sus dimensiones.\u001b[0m\n\u001b[1;37m       ^\u001b[0m\n\u001b[1;31mSyntaxError\u001b[0m\u001b[1;31m:\u001b[0m invalid syntax\n"
     ]
    }
   ],
   "source": [
    "No se pueden sumar a y b directamente porque tienen diferentes shapes (formas). La suma entre dos arrays en numpy solo es posible si ambos tienen las mismas dimensiones (shape). En este caso, a tiene shape (2, 3, 5) y b tiene shape (5, 2, 3), lo cual significa que tienen diferentes cantidades de elementos en cada una de sus dimensiones."
   ]
  },
  {
   "cell_type": "markdown",
   "id": "68d3191c",
   "metadata": {},
   "source": [
    "### Transpose b so that it has the same structure of a (i.e. become a 2x3x5 array). Assign the transposed array to varialbe \"c\"."
   ]
  },
  {
   "cell_type": "code",
   "execution_count": 12,
   "id": "3057a2d2",
   "metadata": {},
   "outputs": [
    {
     "name": "stdout",
     "output_type": "stream",
     "text": [
      "[[[1. 1. 1. 1. 1.]\n",
      "  [1. 1. 1. 1. 1.]\n",
      "  [1. 1. 1. 1. 1.]]\n",
      "\n",
      " [[1. 1. 1. 1. 1.]\n",
      "  [1. 1. 1. 1. 1.]\n",
      "  [1. 1. 1. 1. 1.]]]\n"
     ]
    }
   ],
   "source": [
    "c = b.reshape((2, 3, 5))\n",
    "print(c)"
   ]
  },
  {
   "cell_type": "markdown",
   "id": "cfb72724",
   "metadata": {},
   "source": [
    "### Try to add a and c. Now it should work. Assign the sum to varialbe \"d\". But why does it work now?"
   ]
  },
  {
   "cell_type": "code",
   "execution_count": 13,
   "id": "4e287d9a",
   "metadata": {},
   "outputs": [
    {
     "name": "stdout",
     "output_type": "stream",
     "text": [
      "[[[1.58344366 1.86813322 1.56411643 1.3245887  1.21414543]\n",
      "  [1.96968448 1.38409731 1.63957479 1.40146835 1.80653619]\n",
      "  [1.09675541 1.42489038 1.33275684 1.88364387 1.78921304]]\n",
      "\n",
      " [[1.68748047 1.94927773 1.80165696 1.56000221 1.37969275]\n",
      "  [1.35967839 1.35727067 1.54290374 1.46069939 1.92464159]\n",
      "  [1.96274163 1.1051704  1.63834236 1.52534283 1.48006571]]]\n"
     ]
    }
   ],
   "source": [
    "d = np.add(a,c)\n",
    "print(d)\n",
    "#Funciona porque tienen el mismo tamaño ambas matrices."
   ]
  },
  {
   "cell_type": "markdown",
   "id": "e937b808",
   "metadata": {},
   "source": [
    "### Print a and d. Notice the difference and relation of the two array in terms of the values? Explain."
   ]
  },
  {
   "cell_type": "code",
   "execution_count": 14,
   "id": "1fd8e4d1",
   "metadata": {},
   "outputs": [
    {
     "name": "stdout",
     "output_type": "stream",
     "text": [
      "[[[0.58344366 0.86813322 0.56411643 0.3245887  0.21414543]\n",
      "  [0.96968448 0.38409731 0.63957479 0.40146835 0.80653619]\n",
      "  [0.09675541 0.42489038 0.33275684 0.88364387 0.78921304]]\n",
      "\n",
      " [[0.68748047 0.94927773 0.80165696 0.56000221 0.37969275]\n",
      "  [0.35967839 0.35727067 0.54290374 0.46069939 0.92464159]\n",
      "  [0.96274163 0.1051704  0.63834236 0.52534283 0.48006571]]]\n",
      "[[[1.58344366 1.86813322 1.56411643 1.3245887  1.21414543]\n",
      "  [1.96968448 1.38409731 1.63957479 1.40146835 1.80653619]\n",
      "  [1.09675541 1.42489038 1.33275684 1.88364387 1.78921304]]\n",
      "\n",
      " [[1.68748047 1.94927773 1.80165696 1.56000221 1.37969275]\n",
      "  [1.35967839 1.35727067 1.54290374 1.46069939 1.92464159]\n",
      "  [1.96274163 1.1051704  1.63834236 1.52534283 1.48006571]]]\n"
     ]
    }
   ],
   "source": [
    "print(a)\n",
    "print(d)"
   ]
  },
  {
   "cell_type": "code",
   "execution_count": 15,
   "id": "7c47555d",
   "metadata": {},
   "outputs": [],
   "source": [
    "#la relación entre las dos matrices es que \"d\" es igual a \"a\" con 1 añadido a cada elemento. "
   ]
  },
  {
   "cell_type": "markdown",
   "id": "399c098d",
   "metadata": {},
   "source": [
    "### Multiply a and c. Assign the result to e."
   ]
  },
  {
   "cell_type": "code",
   "execution_count": 16,
   "id": "23f2b522",
   "metadata": {},
   "outputs": [
    {
     "name": "stdout",
     "output_type": "stream",
     "text": [
      "[[[0.69131075 0.10831466 0.49875886 0.90483163 0.30217866]\n",
      "  [0.86093717 0.61858112 0.34898099 0.58005746 0.63188317]\n",
      "  [0.12560692 0.69208323 0.08355205 0.1716774  0.11188423]]\n",
      "\n",
      " [[0.56652166 0.09421305 0.44560506 0.22215517 0.24618113]\n",
      "  [0.98670506 0.8587475  0.03589513 0.23447767 0.86155421]\n",
      "  [0.74652673 0.42454966 0.469113   0.73049912 0.03289546]]]\n"
     ]
    }
   ],
   "source": [
    "a = np.random.random((2, 3, 5))\n",
    "c = b.reshape((2, 3, 5))\n",
    "e = a * c \n",
    "print(e)"
   ]
  },
  {
   "cell_type": "markdown",
   "id": "969ee3e9",
   "metadata": {},
   "source": [
    "### Does e equal to a? Why or why not?"
   ]
  },
  {
   "cell_type": "code",
   "execution_count": 17,
   "id": "7a382309",
   "metadata": {},
   "outputs": [
    {
     "name": "stdout",
     "output_type": "stream",
     "text": [
      "[[[0.69131075 0.10831466 0.49875886 0.90483163 0.30217866]\n",
      "  [0.86093717 0.61858112 0.34898099 0.58005746 0.63188317]\n",
      "  [0.12560692 0.69208323 0.08355205 0.1716774  0.11188423]]\n",
      "\n",
      " [[0.56652166 0.09421305 0.44560506 0.22215517 0.24618113]\n",
      "  [0.98670506 0.8587475  0.03589513 0.23447767 0.86155421]\n",
      "  [0.74652673 0.42454966 0.469113   0.73049912 0.03289546]]]\n",
      "[[[0.69131075 0.10831466 0.49875886 0.90483163 0.30217866]\n",
      "  [0.86093717 0.61858112 0.34898099 0.58005746 0.63188317]\n",
      "  [0.12560692 0.69208323 0.08355205 0.1716774  0.11188423]]\n",
      "\n",
      " [[0.56652166 0.09421305 0.44560506 0.22215517 0.24618113]\n",
      "  [0.98670506 0.8587475  0.03589513 0.23447767 0.86155421]\n",
      "  [0.74652673 0.42454966 0.469113   0.73049912 0.03289546]]]\n"
     ]
    }
   ],
   "source": [
    "print(a)\n",
    "print(e)"
   ]
  },
  {
   "cell_type": "code",
   "execution_count": 18,
   "id": "b3b079b6",
   "metadata": {},
   "outputs": [],
   "source": [
    "#Son iguales."
   ]
  },
  {
   "cell_type": "markdown",
   "id": "f087a045",
   "metadata": {},
   "source": [
    "### Identify the max, min, and mean values in d. Assign those values to variables \"d_max\", \"d_min\", and \"d_mean\""
   ]
  },
  {
   "cell_type": "code",
   "execution_count": 19,
   "id": "89263d8e",
   "metadata": {},
   "outputs": [
    {
     "name": "stdout",
     "output_type": "stream",
     "text": [
      "1.969684484531585\n",
      "1.0967554127041033\n",
      "1.5672671644983838\n"
     ]
    }
   ],
   "source": [
    "d_max = d.max()\n",
    "d_min = d.min()\n",
    "d_mean = d.mean()\n",
    "\n",
    "print(d_max)\n",
    "print(d_min)\n",
    "print(d_mean)"
   ]
  },
  {
   "cell_type": "markdown",
   "id": "0caf735f",
   "metadata": {},
   "source": [
    "### Now we want to label the values in d. First create an empty array \"f\" with the same shape (i.e. 2x3x5) as d using `np.empty`."
   ]
  },
  {
   "cell_type": "code",
   "execution_count": 20,
   "id": "4d0d098a",
   "metadata": {},
   "outputs": [
    {
     "name": "stdout",
     "output_type": "stream",
     "text": [
      "[[[0.69131075 0.10831466 0.49875886 0.90483163 0.30217866]\n",
      "  [0.86093717 0.61858112 0.34898099 0.58005746 0.63188317]\n",
      "  [0.12560692 0.69208323 0.08355205 0.1716774  0.11188423]]\n",
      "\n",
      " [[0.56652166 0.09421305 0.44560506 0.22215517 0.24618113]\n",
      "  [0.98670506 0.8587475  0.03589513 0.23447767 0.86155421]\n",
      "  [0.74652673 0.42454966 0.469113   0.73049912 0.03289546]]]\n"
     ]
    }
   ],
   "source": [
    "f = np.empty(d.shape)\n",
    "print(f)"
   ]
  },
  {
   "cell_type": "markdown",
   "id": "7371d109",
   "metadata": {},
   "source": [
    "# Populate the values in f. "
   ]
  },
  {
   "cell_type": "code",
   "execution_count": 21,
   "id": "d5d981e2",
   "metadata": {},
   "outputs": [],
   "source": [
    "# For each value in d, if it's larger than d_min but smaller than d_mean, assign 25 to the corresponding value in f. \n",
    "# If a value in d is larger than d_mean but smaller than d_max, assign 75 to the corresponding value in f.\n",
    "# If a value equals to d_mean, assign 50 to the corresponding value in f.\n",
    "# Assign 0 to the corresponding value(s) in f for d_min in d.\n",
    "# Assign 100 to the corresponding value(s) in f for d_max in d.\n",
    "# In the end, f should have only the following values: 0, 25, 50, 75, and 100.\n",
    "#Note: you don't have to use Numpy in this question."
   ]
  },
  {
   "cell_type": "code",
   "execution_count": 23,
   "id": "e42a95d1",
   "metadata": {},
   "outputs": [
    {
     "name": "stdout",
     "output_type": "stream",
     "text": [
      "[[[ 75  75  25  25  25]\n",
      "  [100  25  75  25  75]\n",
      "  [  0  25  25  75  75]]\n",
      "\n",
      " [[ 75  75  75  25  25]\n",
      "  [ 25  25  25  25  75]\n",
      "  [ 75  25  75  25  25]]]\n"
     ]
    }
   ],
   "source": [
    "f = np.where(d == d_min, 0, np.where(d < d_mean, 25, np.where(d == d_mean, 50, np.where(d < d_max, 75, 100))))\n",
    "print(f)"
   ]
  },
  {
   "cell_type": "markdown",
   "id": "54cf0f05",
   "metadata": {},
   "source": [
    "### Print d and f. Do you have your expected f?"
   ]
  },
  {
   "cell_type": "code",
   "execution_count": 24,
   "id": "0ef92f2d",
   "metadata": {},
   "outputs": [
    {
     "name": "stdout",
     "output_type": "stream",
     "text": [
      "[[[1.58344366 1.86813322 1.56411643 1.3245887  1.21414543]\n",
      "  [1.96968448 1.38409731 1.63957479 1.40146835 1.80653619]\n",
      "  [1.09675541 1.42489038 1.33275684 1.88364387 1.78921304]]\n",
      "\n",
      " [[1.68748047 1.94927773 1.80165696 1.56000221 1.37969275]\n",
      "  [1.35967839 1.35727067 1.54290374 1.46069939 1.92464159]\n",
      "  [1.96274163 1.1051704  1.63834236 1.52534283 1.48006571]]]\n",
      "[[[ 75  75  25  25  25]\n",
      "  [100  25  75  25  75]\n",
      "  [  0  25  25  75  75]]\n",
      "\n",
      " [[ 75  75  75  25  25]\n",
      "  [ 25  25  25  25  75]\n",
      "  [ 75  25  75  25  25]]]\n"
     ]
    }
   ],
   "source": [
    "print(d)\n",
    "print(f)"
   ]
  },
  {
   "cell_type": "code",
   "execution_count": null,
   "id": "eadf2e84",
   "metadata": {},
   "outputs": [],
   "source": []
  }
 ],
 "metadata": {
  "kernelspec": {
   "display_name": "Python 3 (ipykernel)",
   "language": "python",
   "name": "python3"
  },
  "language_info": {
   "codemirror_mode": {
    "name": "ipython",
    "version": 3
   },
   "file_extension": ".py",
   "mimetype": "text/x-python",
   "name": "python",
   "nbconvert_exporter": "python",
   "pygments_lexer": "ipython3",
   "version": "3.9.13"
  }
 },
 "nbformat": 4,
 "nbformat_minor": 5
}
