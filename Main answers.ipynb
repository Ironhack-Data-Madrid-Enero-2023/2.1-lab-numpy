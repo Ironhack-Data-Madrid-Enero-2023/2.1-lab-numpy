{
 "cells": [
  {
   "cell_type": "code",
   "execution_count": 292,
   "id": "99afb14c",
   "metadata": {},
   "outputs": [
    {
     "name": "stdout",
     "output_type": "stream",
     "text": [
      "Requirement already satisfied: numpy in c:\\users\\axell\\anaconda3\\anaconda3\\lib\\site-packages (1.21.5)\n",
      "Note: you may need to restart the kernel to use updated packages.\n"
     ]
    }
   ],
   "source": [
    "#1. Import the NUMPY package under the name np.\n",
    "%pip install numpy\n",
    "import numpy as np\n",
    "\n"
   ]
  },
  {
   "cell_type": "code",
   "execution_count": 301,
   "id": "72f10360",
   "metadata": {},
   "outputs": [
    {
     "name": "stdout",
     "output_type": "stream",
     "text": [
      "1.21.5\n",
      "blas_mkl_info:\n",
      "    libraries = ['mkl_rt']\n",
      "    library_dirs = ['C:/Users/axell/anaconda3/anaconda3\\\\Library\\\\lib']\n",
      "    define_macros = [('SCIPY_MKL_H', None), ('HAVE_CBLAS', None)]\n",
      "    include_dirs = ['C:/Users/axell/anaconda3/anaconda3\\\\Library\\\\include']\n",
      "blas_opt_info:\n",
      "    libraries = ['mkl_rt']\n",
      "    library_dirs = ['C:/Users/axell/anaconda3/anaconda3\\\\Library\\\\lib']\n",
      "    define_macros = [('SCIPY_MKL_H', None), ('HAVE_CBLAS', None)]\n",
      "    include_dirs = ['C:/Users/axell/anaconda3/anaconda3\\\\Library\\\\include']\n",
      "lapack_mkl_info:\n",
      "    libraries = ['mkl_rt']\n",
      "    library_dirs = ['C:/Users/axell/anaconda3/anaconda3\\\\Library\\\\lib']\n",
      "    define_macros = [('SCIPY_MKL_H', None), ('HAVE_CBLAS', None)]\n",
      "    include_dirs = ['C:/Users/axell/anaconda3/anaconda3\\\\Library\\\\include']\n",
      "lapack_opt_info:\n",
      "    libraries = ['mkl_rt']\n",
      "    library_dirs = ['C:/Users/axell/anaconda3/anaconda3\\\\Library\\\\lib']\n",
      "    define_macros = [('SCIPY_MKL_H', None), ('HAVE_CBLAS', None)]\n",
      "    include_dirs = ['C:/Users/axell/anaconda3/anaconda3\\\\Library\\\\include']\n",
      "Supported SIMD extensions in this NumPy install:\n",
      "    baseline = SSE,SSE2,SSE3\n",
      "    found = SSSE3,SSE41,POPCNT,SSE42,AVX,F16C,FMA3,AVX2\n",
      "    not found = AVX512F,AVX512CD,AVX512_SKX,AVX512_CLX,AVX512_CNL\n",
      "None\n"
     ]
    }
   ],
   "source": [
    "\n",
    "#2. Print the NUMPY version and the configuration.\n",
    "print(np.__version__)\n",
    "print(np.show_config())\n",
    "\n"
   ]
  },
  {
   "cell_type": "code",
   "execution_count": 302,
   "id": "7ded6570",
   "metadata": {},
   "outputs": [
    {
     "name": "stdout",
     "output_type": "stream",
     "text": [
      "[[[0.16700061 0.49768465 0.23904729 0.76987872 0.25325187]\n",
      "  [0.37650636 0.62227297 0.26197326 0.57409859 0.81944921]\n",
      "  [0.00604313 0.44337642 0.9894077  0.4400566  0.08012912]]\n",
      "\n",
      " [[0.18409311 0.76297379 0.32346022 0.66679981 0.82704517]\n",
      "  [0.53603306 0.00677796 0.75970062 0.44644792 0.40089921]\n",
      "  [0.0458874  0.55329605 0.01801528 0.43293765 0.34412357]]]\n"
     ]
    },
    {
     "data": {
      "text/plain": [
       "(2, 3, 5)"
      ]
     },
     "execution_count": 302,
     "metadata": {},
     "output_type": "execute_result"
    }
   ],
   "source": [
    "#3. Generate a 2x3x5 3-dimensional array with random values. Assign the array to variable \"a\"\n",
    "# Challenge: there are at least three easy ways that use numpy to generate random arrays. How many ways can you find?\n",
    "\n",
    "import random\n",
    "\n",
    "a = np.random.random((2, 3, 5))\n",
    "\n",
    "#4. Print a.\n",
    "print(a)\n",
    "a.shape"
   ]
  },
  {
   "cell_type": "code",
   "execution_count": 303,
   "id": "62e735e8",
   "metadata": {},
   "outputs": [
    {
     "data": {
      "text/plain": [
       "array([[[0.16700061, 0.49768465, 0.23904729, 0.76987872, 0.25325187],\n",
       "        [0.37650636, 0.62227297, 0.26197326, 0.57409859, 0.81944921],\n",
       "        [0.00604313, 0.44337642, 0.9894077 , 0.4400566 , 0.08012912]],\n",
       "\n",
       "       [[0.18409311, 0.76297379, 0.32346022, 0.66679981, 0.82704517],\n",
       "        [0.53603306, 0.00677796, 0.75970062, 0.44644792, 0.40089921],\n",
       "        [0.0458874 , 0.55329605, 0.01801528, 0.43293765, 0.34412357]]])"
      ]
     },
     "execution_count": 303,
     "metadata": {},
     "output_type": "execute_result"
    }
   ],
   "source": [
    "np.empty([2, 3, 5])"
   ]
  },
  {
   "cell_type": "code",
   "execution_count": 304,
   "id": "90f86945",
   "metadata": {},
   "outputs": [
    {
     "name": "stdout",
     "output_type": "stream",
     "text": [
      "[[[1. 1. 1.]\n",
      "  [1. 1. 1.]]\n",
      "\n",
      " [[1. 1. 1.]\n",
      "  [1. 1. 1.]]\n",
      "\n",
      " [[1. 1. 1.]\n",
      "  [1. 1. 1.]]\n",
      "\n",
      " [[1. 1. 1.]\n",
      "  [1. 1. 1.]]\n",
      "\n",
      " [[1. 1. 1.]\n",
      "  [1. 1. 1.]]]\n"
     ]
    }
   ],
   "source": [
    "#5. Create a 5x2x3 3-dimensional array with all values equaling 1.\n",
    "#Assign the array to variable \"b\"\n",
    "\n",
    "b = np.ones((5, 2, 3))\n",
    "\n",
    "#6. Print b.\n",
    "\n",
    "print(b)"
   ]
  },
  {
   "cell_type": "code",
   "execution_count": 305,
   "id": "7cb420ea",
   "metadata": {},
   "outputs": [
    {
     "data": {
      "text/plain": [
       "True"
      ]
     },
     "execution_count": 305,
     "metadata": {},
     "output_type": "execute_result"
    }
   ],
   "source": [
    "#7. Do a and b have the same size? How do you prove that in Python code?\n",
    "\n",
    "a.size == b.size"
   ]
  },
  {
   "cell_type": "code",
   "execution_count": 306,
   "id": "846cfeaf",
   "metadata": {},
   "outputs": [
    {
     "ename": "ValueError",
     "evalue": "operands could not be broadcast together with shapes (2,3,5) (5,2,3) ",
     "output_type": "error",
     "traceback": [
      "\u001b[1;31m---------------------------------------------------------------------------\u001b[0m",
      "\u001b[1;31mValueError\u001b[0m                                Traceback (most recent call last)",
      "\u001b[1;32m~\\AppData\\Local\\Temp\\ipykernel_19844\\4231688002.py\u001b[0m in \u001b[0;36m<module>\u001b[1;34m\u001b[0m\n\u001b[0;32m      1\u001b[0m \u001b[1;31m#8. Are you able to add a and b? Why or why not?\u001b[0m\u001b[1;33m\u001b[0m\u001b[1;33m\u001b[0m\u001b[0m\n\u001b[0;32m      2\u001b[0m \u001b[1;33m\u001b[0m\u001b[0m\n\u001b[1;32m----> 3\u001b[1;33m \u001b[0mc\u001b[0m \u001b[1;33m=\u001b[0m \u001b[0ma\u001b[0m \u001b[1;33m+\u001b[0m \u001b[0mb\u001b[0m\u001b[1;33m\u001b[0m\u001b[1;33m\u001b[0m\u001b[0m\n\u001b[0m\u001b[0;32m      4\u001b[0m \u001b[1;33m\u001b[0m\u001b[0m\n\u001b[0;32m      5\u001b[0m \u001b[1;31m#Because there matrices don't match collumns + lines (a has 3 columns when b has 2 lines. b has 5 columns when a has 3 lines )\u001b[0m\u001b[1;33m\u001b[0m\u001b[1;33m\u001b[0m\u001b[0m\n",
      "\u001b[1;31mValueError\u001b[0m: operands could not be broadcast together with shapes (2,3,5) (5,2,3) "
     ]
    }
   ],
   "source": [
    "#8. Are you able to add a and b? Why or why not?\n",
    "\n",
    "c = a + b\n",
    "\n",
    "#Because there matrices don't match collumns + lines (a has 3 columns when b has 2 lines. b has 5 columns when a has 3 lines )"
   ]
  },
  {
   "cell_type": "code",
   "execution_count": 307,
   "id": "ad1e638f",
   "metadata": {},
   "outputs": [
    {
     "name": "stdout",
     "output_type": "stream",
     "text": [
      "[[[1. 1. 1. 1. 1.]\n",
      "  [1. 1. 1. 1. 1.]\n",
      "  [1. 1. 1. 1. 1.]]\n",
      "\n",
      " [[1. 1. 1. 1. 1.]\n",
      "  [1. 1. 1. 1. 1.]\n",
      "  [1. 1. 1. 1. 1.]]]\n"
     ]
    }
   ],
   "source": [
    "#9. Transpose b so that it has the same structure of a (i.e. become a 2x3x5 array). Assign the transposed array to varialbe \"c\".\n",
    "b = np.ones((5, 2, 3))\n",
    "c = np.transpose(b, (1,2,0))\n",
    "print(c)\n"
   ]
  },
  {
   "cell_type": "code",
   "execution_count": 308,
   "id": "dad9dac4",
   "metadata": {},
   "outputs": [
    {
     "name": "stdout",
     "output_type": "stream",
     "text": [
      "[[[1.16700061 1.49768465 1.23904729 1.76987872 1.25325187]\n",
      "  [1.37650636 1.62227297 1.26197326 1.57409859 1.81944921]\n",
      "  [1.00604313 1.44337642 1.9894077  1.4400566  1.08012912]]\n",
      "\n",
      " [[1.18409311 1.76297379 1.32346022 1.66679981 1.82704517]\n",
      "  [1.53603306 1.00677796 1.75970062 1.44644792 1.40089921]\n",
      "  [1.0458874  1.55329605 1.01801528 1.43293765 1.34412357]]]\n"
     ]
    }
   ],
   "source": [
    "#10. Try to add a and c. Now it should work. Assign the sum to varialbe \"d\". But why does it work now?\n",
    "d = a + c\n",
    "# works because same shape\n",
    "print(d)"
   ]
  },
  {
   "cell_type": "code",
   "execution_count": 309,
   "id": "4c1a5391",
   "metadata": {},
   "outputs": [
    {
     "name": "stdout",
     "output_type": "stream",
     "text": [
      "a [[[0.16700061 0.49768465 0.23904729 0.76987872 0.25325187]\n",
      "  [0.37650636 0.62227297 0.26197326 0.57409859 0.81944921]\n",
      "  [0.00604313 0.44337642 0.9894077  0.4400566  0.08012912]]\n",
      "\n",
      " [[0.18409311 0.76297379 0.32346022 0.66679981 0.82704517]\n",
      "  [0.53603306 0.00677796 0.75970062 0.44644792 0.40089921]\n",
      "  [0.0458874  0.55329605 0.01801528 0.43293765 0.34412357]]]\n",
      "d [[[1.16700061 1.49768465 1.23904729 1.76987872 1.25325187]\n",
      "  [1.37650636 1.62227297 1.26197326 1.57409859 1.81944921]\n",
      "  [1.00604313 1.44337642 1.9894077  1.4400566  1.08012912]]\n",
      "\n",
      " [[1.18409311 1.76297379 1.32346022 1.66679981 1.82704517]\n",
      "  [1.53603306 1.00677796 1.75970062 1.44644792 1.40089921]\n",
      "  [1.0458874  1.55329605 1.01801528 1.43293765 1.34412357]]]\n"
     ]
    }
   ],
   "source": [
    "#11. Print a and d. Notice the difference and relation of the two array in terms of the values? Explain.\n",
    "print(\"a\", a)\n",
    "print(\"d\",d)\n",
    "# difference is of +1. Because b = a + a matriz of ones."
   ]
  },
  {
   "cell_type": "code",
   "execution_count": 310,
   "id": "af7e61e6",
   "metadata": {},
   "outputs": [],
   "source": [
    "#12. Multiply a and c. Assign the result to e.\n",
    "e = a * c"
   ]
  },
  {
   "cell_type": "code",
   "execution_count": 311,
   "id": "c214c3d0",
   "metadata": {},
   "outputs": [
    {
     "data": {
      "text/plain": [
       "array([[[ True,  True,  True,  True,  True],\n",
       "        [ True,  True,  True,  True,  True],\n",
       "        [ True,  True,  True,  True,  True]],\n",
       "\n",
       "       [[ True,  True,  True,  True,  True],\n",
       "        [ True,  True,  True,  True,  True],\n",
       "        [ True,  True,  True,  True,  True]]])"
      ]
     },
     "execution_count": 311,
     "metadata": {},
     "output_type": "execute_result"
    }
   ],
   "source": [
    "#13. Does e equal to a? Why or why not?\n",
    "a == e\n",
    "\n",
    "# It is equal because c is just the transpose of b in the shape of a. And b was ones. So a * c was the multiplication of a by a matriz of ones of the same shape. "
   ]
  },
  {
   "cell_type": "code",
   "execution_count": 334,
   "id": "93c89492",
   "metadata": {},
   "outputs": [],
   "source": [
    "#14. Identify the max, min, and mean values in d. Assign those values to variables \"d_max\", \"d_min\", and \"d_mean\"\n",
    "\n",
    "meann = d.mean()\n",
    "maxx = d.max()\n",
    "minn = d.min()\n"
   ]
  },
  {
   "cell_type": "code",
   "execution_count": 335,
   "id": "40e11062",
   "metadata": {},
   "outputs": [
    {
     "name": "stdout",
     "output_type": "stream",
     "text": [
      "[[[0.16700061 0.49768465 0.23904729 0.76987872 0.25325187]\n",
      "  [0.37650636 0.62227297 0.26197326 0.57409859 0.81944921]\n",
      "  [0.00604313 0.44337642 0.9894077  0.4400566  0.08012912]]\n",
      "\n",
      " [[0.18409311 0.76297379 0.32346022 0.66679981 0.82704517]\n",
      "  [0.53603306 0.00677796 0.75970062 0.44644792 0.40089921]\n",
      "  [0.0458874  0.55329605 0.01801528 0.43293765 0.34412357]]]\n"
     ]
    }
   ],
   "source": [
    "#15. Now we want to label the values in d. \n",
    "#First create an empty array \"f\" with the same shape (i.e. 2x3x5) as d using `np.empty`.\n",
    "f = np.empty_like(d)\n",
    "print(f)"
   ]
  },
  {
   "cell_type": "code",
   "execution_count": 336,
   "id": "a21042ca",
   "metadata": {},
   "outputs": [
    {
     "data": {
      "text/plain": [
       "\"\\n#16. Populate the values in f. \\nFor each value in d, if it's larger than d_min but smaller than d_mean, assign 25 to the corresponding value in f.\\nIf a value in d is larger than d_mean but smaller than d_max, assign 75 to the corresponding value in f.\\nIf a value equals to d_mean, assign 50 to the corresponding value in f.\\nAssign 0 to the corresponding value(s) in f for d_min in d.\\nAssign 100 to the corresponding value(s) in f for d_max in d.\\nIn the end, f should have only the following values: 0, 25, 50, 75, and 100.\\nNote: you don't have to use Numpy in this question.\\n\""
      ]
     },
     "execution_count": 336,
     "metadata": {},
     "output_type": "execute_result"
    }
   ],
   "source": [
    "\"\"\"\n",
    "#16. Populate the values in f. \n",
    "For each value in d, if it's larger than d_min but smaller than d_mean, assign 25 to the corresponding value in f.\n",
    "If a value in d is larger than d_mean but smaller than d_max, assign 75 to the corresponding value in f.\n",
    "If a value equals to d_mean, assign 50 to the corresponding value in f.\n",
    "Assign 0 to the corresponding value(s) in f for d_min in d.\n",
    "Assign 100 to the corresponding value(s) in f for d_max in d.\n",
    "In the end, f should have only the following values: 0, 25, 50, 75, and 100.\n",
    "Note: you don't have to use Numpy in this question.\n",
    "\"\"\""
   ]
  },
  {
   "cell_type": "code",
   "execution_count": 360,
   "id": "3348b0f6",
   "metadata": {},
   "outputs": [],
   "source": [
    "# if >min and <mean : = 25 \n",
    "# if >mean and < max :  = 75\n",
    "# if =mean : = 50\n",
    "# if min : = 0\n",
    "# if max: =100\n",
    "\n",
    "f = np.where(d == minn , 0, np.where(d < meann, 25, np.where(d == meann, 50, np.where(d < maxx, 75, np.where(d == maxx,100,0)))))\n"
   ]
  },
  {
   "cell_type": "code",
   "execution_count": 361,
   "id": "a5efafde",
   "metadata": {},
   "outputs": [
    {
     "name": "stdout",
     "output_type": "stream",
     "text": [
      "[[[1.16700061 1.49768465 1.23904729 1.76987872 1.25325187]\n",
      "  [1.37650636 1.62227297 1.26197326 1.57409859 1.81944921]\n",
      "  [1.00604313 1.44337642 1.9894077  1.4400566  1.08012912]]\n",
      "\n",
      " [[1.18409311 1.76297379 1.32346022 1.66679981 1.82704517]\n",
      "  [1.53603306 1.00677796 1.75970062 1.44644792 1.40089921]\n",
      "  [1.0458874  1.55329605 1.01801528 1.43293765 1.34412357]]]\n",
      "[[[ 25  75  25  75  25]\n",
      "  [ 25  75  25  75  75]\n",
      "  [  0  75 100  75  25]]\n",
      "\n",
      " [[ 25  75  25  75  75]\n",
      "  [ 75  25  75  75  25]\n",
      "  [ 25  75  25  75  25]]]\n"
     ]
    }
   ],
   "source": [
    "\n",
    "\"\"\"\n",
    "#17. Print d and f. Do you have your expected f?\n",
    "For instance, if your d is:\n",
    "array([[[1.85836099, 1.67064465, 1.62576044, 1.40243961, 1.88454931],\n",
    "        [1.75354326, 1.69403643, 1.36729252, 1.61415071, 1.12104981],\n",
    "        [1.72201435, 1.1862918 , 1.87078449, 1.7726778 , 1.88180042]],\n",
    "\n",
    "       [[1.44747908, 1.31673383, 1.02000951, 1.52218947, 1.97066381],\n",
    "        [1.79129243, 1.74983003, 1.96028037, 1.85166831, 1.65450881],\n",
    "        [1.18068344, 1.9587381 , 1.00656599, 1.93402165, 1.73514584]]])\n",
    "\n",
    "Your f should be:\n",
    "array([[[ 75.,  75.,  75.,  25.,  75.],\n",
    "        [ 75.,  75.,  25.,  25.,  25.],\n",
    "        [ 75.,  25.,  75.,  75.,  75.]],\n",
    "\n",
    "       [[ 25.,  25.,  25.,  25., 100.],\n",
    "        [ 75.,  75.,  75.,  75.,  75.],\n",
    "        [ 25.,  75.,   0.,  75.,  75.]]])\n",
    "\"\"\"\n",
    "print(d)\n",
    "print(f)"
   ]
  },
  {
   "cell_type": "code",
   "execution_count": null,
   "id": "51fe6fe0",
   "metadata": {},
   "outputs": [],
   "source": []
  },
  {
   "cell_type": "code",
   "execution_count": null,
   "id": "93803bfc",
   "metadata": {},
   "outputs": [],
   "source": [
    "\"\"\"\n",
    "#18. Bonus question: instead of using numbers (i.e. 0, 25, 50, 75, and 100), how to use string values \n",
    "(\"A\", \"B\", \"C\", \"D\", and \"E\") to label the array elements? You are expecting the result to be:\n",
    "array([[[ 'D',  'D',  'D',  'B',  'D'],\n",
    "        [ 'D',  'D',  'B',  'B',  'B'],\n",
    "        [ 'D',  'B',  'D',  'D',  'D']],\n",
    "\n",
    "       [[ 'B',  'B',  'B',  'B',  'E'],\n",
    "        [ 'D',  'D',  'D',  'D',  'D'],\n",
    "        [ 'B',  'D',   'A',  'D', 'D']]])\n",
    "Again, you don't need Numpy in this question.\n",
    "\"\"\""
   ]
  }
 ],
 "metadata": {
  "kernelspec": {
   "display_name": "Python 3 (ipykernel)",
   "language": "python",
   "name": "python3"
  },
  "language_info": {
   "codemirror_mode": {
    "name": "ipython",
    "version": 3
   },
   "file_extension": ".py",
   "mimetype": "text/x-python",
   "name": "python",
   "nbconvert_exporter": "python",
   "pygments_lexer": "ipython3",
   "version": "3.9.13"
  }
 },
 "nbformat": 4,
 "nbformat_minor": 5
}
