{
 "cells": [
  {
   "cell_type": "code",
   "execution_count": 43,
   "metadata": {},
   "outputs": [],
   "source": [
    "#1. Import the NUMPY package under the name np."
   ]
  },
  {
   "cell_type": "code",
   "execution_count": 44,
   "metadata": {},
   "outputs": [
    {
     "name": "stdout",
     "output_type": "stream",
     "text": [
      "Requirement already satisfied: numpy in /Library/Frameworks/Python.framework/Versions/3.10/lib/python3.10/site-packages (1.24.1)\n",
      "\u001b[33mWARNING: You are using pip version 22.0.4; however, version 22.3.1 is available.\n",
      "You should consider upgrading via the '/usr/local/bin/python3 -m pip install --upgrade pip' command.\u001b[0m\u001b[33m\n",
      "\u001b[0mNote: you may need to restart the kernel to use updated packages.\n"
     ]
    }
   ],
   "source": [
    "%pip install numpy\n",
    "import numpy as np"
   ]
  },
  {
   "cell_type": "code",
   "execution_count": 45,
   "metadata": {},
   "outputs": [
    {
     "name": "stdout",
     "output_type": "stream",
     "text": [
      "Name: numpy\n",
      "Version: 1.24.1\n",
      "Summary: Fundamental package for array computing in Python\n",
      "Home-page: https://www.numpy.org\n",
      "Author: Travis E. Oliphant et al.\n",
      "Author-email: \n",
      "License: BSD-3-Clause\n",
      "Location: /Library/Frameworks/Python.framework/Versions/3.10/lib/python3.10/site-packages\n",
      "Requires: \n",
      "Required-by: \n",
      "Note: you may need to restart the kernel to use updated packages.\n"
     ]
    }
   ],
   "source": [
    "#2. Print the NUMPY version and the configuration.\n",
    "%pip show numpy\n",
    "\n"
   ]
  },
  {
   "cell_type": "code",
   "execution_count": 46,
   "metadata": {},
   "outputs": [],
   "source": [
    "#3. Generate a 2x3x5 3-dimensional array with random values. \n",
    "# Assign the array to variable \"a\"\n",
    "# Challenge: there are at least three easy ways that use numpy to generate \n",
    "# random arrays. How many ways can you find?\n",
    "\n",
    "'''veo que hay diferentes extensiones de random.\n",
    "lalalala pero que la más apropiada para esto creo que es esta, \n",
    "las demás no termino de entenderlas, sobre todo .seed\n",
    "'''\n",
    "\n",
    "a =np.random.random((2, 3, 5))\n"
   ]
  },
  {
   "cell_type": "code",
   "execution_count": 47,
   "metadata": {},
   "outputs": [
    {
     "data": {
      "text/plain": [
       "array([[[0.98322231, 0.66907547, 0.68226973, 0.06032485, 0.16985283],\n",
       "        [0.82314414, 0.54881133, 0.50568058, 0.82173535, 0.83810906],\n",
       "        [0.80596674, 0.15205186, 0.60910178, 0.18926354, 0.12657496]],\n",
       "\n",
       "       [[0.63466975, 0.15923881, 0.20060303, 0.08338244, 0.35750594],\n",
       "        [0.0146311 , 0.3278501 , 0.97035713, 0.41202928, 0.82403856],\n",
       "        [0.83066286, 0.77085842, 0.49791612, 0.03537194, 0.09112414]]])"
      ]
     },
     "execution_count": 47,
     "metadata": {},
     "output_type": "execute_result"
    }
   ],
   "source": [
    "#4. Print a.\n",
    "a"
   ]
  },
  {
   "cell_type": "code",
   "execution_count": 48,
   "metadata": {},
   "outputs": [],
   "source": [
    "#5. Create a 5x2x3 3-dimensional array with all values equaling 1.\n",
    "#Assign the array to variable \"b\"\n",
    "\n",
    "b =np.ones((5, 2, 3))"
   ]
  },
  {
   "cell_type": "code",
   "execution_count": 49,
   "metadata": {},
   "outputs": [
    {
     "data": {
      "text/plain": [
       "array([[[1., 1., 1.],\n",
       "        [1., 1., 1.]],\n",
       "\n",
       "       [[1., 1., 1.],\n",
       "        [1., 1., 1.]],\n",
       "\n",
       "       [[1., 1., 1.],\n",
       "        [1., 1., 1.]],\n",
       "\n",
       "       [[1., 1., 1.],\n",
       "        [1., 1., 1.]],\n",
       "\n",
       "       [[1., 1., 1.],\n",
       "        [1., 1., 1.]]])"
      ]
     },
     "execution_count": 49,
     "metadata": {},
     "output_type": "execute_result"
    }
   ],
   "source": [
    "#6. Print b.\n",
    "b"
   ]
  },
  {
   "cell_type": "code",
   "execution_count": 50,
   "metadata": {},
   "outputs": [
    {
     "name": "stdout",
     "output_type": "stream",
     "text": [
      "Both arrays have different shape:  (2, 3, 5) and (5, 2, 3)\n"
     ]
    }
   ],
   "source": [
    "#7. Do a and b have the same size? How do you prove that in Python code?\n",
    "\n",
    "if np.array_equal(a.shape, b.shape):\n",
    "    print(\"Both arrays have the same shape: \", a.shape)\n",
    "else:\n",
    "    print(\"Both arrays have different shape: \", a.shape, \"and\", b.shape)"
   ]
  },
  {
   "cell_type": "code",
   "execution_count": 51,
   "metadata": {},
   "outputs": [
    {
     "data": {
      "text/plain": [
       "'\\nNo puedo porque el primer indice no es el mismo, el primer numero que entiendo \\nque es el numero de filas es diferente y creo que es por eso que no deja\\n\\n'"
      ]
     },
     "execution_count": 51,
     "metadata": {},
     "output_type": "execute_result"
    }
   ],
   "source": [
    "#8. Are you able to add a and b? Why or why not?\n",
    "'''\n",
    "No puedo porque el primer indice no es el mismo, el primer numero que entiendo \n",
    "que es el numero de filas es diferente y creo que es por eso que no deja\n",
    "\n",
    "'''\n"
   ]
  },
  {
   "cell_type": "code",
   "execution_count": 52,
   "metadata": {},
   "outputs": [
    {
     "data": {
      "text/plain": [
       "array([[[1., 1., 1., 1., 1.],\n",
       "        [1., 1., 1., 1., 1.],\n",
       "        [1., 1., 1., 1., 1.]],\n",
       "\n",
       "       [[1., 1., 1., 1., 1.],\n",
       "        [1., 1., 1., 1., 1.],\n",
       "        [1., 1., 1., 1., 1.]]])"
      ]
     },
     "execution_count": 52,
     "metadata": {},
     "output_type": "execute_result"
    }
   ],
   "source": [
    "#9. Transpose b so that it has the same structure of a (i.e. become a 2x3x5 array). Assign the transposed array to varialbe \"c\".\n",
    "c = np.reshape(b,(2,3,5))\n",
    "c"
   ]
  },
  {
   "cell_type": "code",
   "execution_count": 53,
   "metadata": {},
   "outputs": [
    {
     "data": {
      "text/plain": [
       "array([[[1.        , 1.        , 1.        , 1.        , 1.        ],\n",
       "        [1.        , 1.        , 1.        , 1.        , 1.        ],\n",
       "        [1.        , 1.        , 1.        , 1.        , 1.        ]],\n",
       "\n",
       "       [[1.        , 1.        , 1.        , 1.        , 1.        ],\n",
       "        [1.        , 1.        , 1.        , 1.        , 1.        ],\n",
       "        [1.        , 1.        , 1.        , 1.        , 1.        ]],\n",
       "\n",
       "       [[0.98322231, 0.66907547, 0.68226973, 0.06032485, 0.16985283],\n",
       "        [0.82314414, 0.54881133, 0.50568058, 0.82173535, 0.83810906],\n",
       "        [0.80596674, 0.15205186, 0.60910178, 0.18926354, 0.12657496]],\n",
       "\n",
       "       [[0.63466975, 0.15923881, 0.20060303, 0.08338244, 0.35750594],\n",
       "        [0.0146311 , 0.3278501 , 0.97035713, 0.41202928, 0.82403856],\n",
       "        [0.83066286, 0.77085842, 0.49791612, 0.03537194, 0.09112414]]])"
      ]
     },
     "execution_count": 53,
     "metadata": {},
     "output_type": "execute_result"
    }
   ],
   "source": [
    "#10. Try to add a and c. Now it should work. Assign the sum to varialbe \"d\". But why does it work now?\n",
    "\n",
    "d = np.concatenate((c, a), axis=0)\n",
    "d\n",
    "\n",
    "# Ahora funciona porque tienen la misma size\n"
   ]
  },
  {
   "cell_type": "code",
   "execution_count": 54,
   "metadata": {},
   "outputs": [
    {
     "name": "stdout",
     "output_type": "stream",
     "text": [
      "[[[0.98322231 0.66907547 0.68226973 0.06032485 0.16985283]\n",
      "  [0.82314414 0.54881133 0.50568058 0.82173535 0.83810906]\n",
      "  [0.80596674 0.15205186 0.60910178 0.18926354 0.12657496]]\n",
      "\n",
      " [[0.63466975 0.15923881 0.20060303 0.08338244 0.35750594]\n",
      "  [0.0146311  0.3278501  0.97035713 0.41202928 0.82403856]\n",
      "  [0.83066286 0.77085842 0.49791612 0.03537194 0.09112414]]]\n",
      "[[[1.         1.         1.         1.         1.        ]\n",
      "  [1.         1.         1.         1.         1.        ]\n",
      "  [1.         1.         1.         1.         1.        ]]\n",
      "\n",
      " [[1.         1.         1.         1.         1.        ]\n",
      "  [1.         1.         1.         1.         1.        ]\n",
      "  [1.         1.         1.         1.         1.        ]]\n",
      "\n",
      " [[0.98322231 0.66907547 0.68226973 0.06032485 0.16985283]\n",
      "  [0.82314414 0.54881133 0.50568058 0.82173535 0.83810906]\n",
      "  [0.80596674 0.15205186 0.60910178 0.18926354 0.12657496]]\n",
      "\n",
      " [[0.63466975 0.15923881 0.20060303 0.08338244 0.35750594]\n",
      "  [0.0146311  0.3278501  0.97035713 0.41202928 0.82403856]\n",
      "  [0.83066286 0.77085842 0.49791612 0.03537194 0.09112414]]]\n"
     ]
    },
    {
     "data": {
      "text/plain": [
       "'\\nuno es a y el otro la suma de a y c . el a sigue teniendo una size de 2,3,5 \\nmientras que d tiene una size de 4,3,5\\n\\n'"
      ]
     },
     "execution_count": 54,
     "metadata": {},
     "output_type": "execute_result"
    }
   ],
   "source": [
    "#11. Print a and d. Notice the difference and relation of the two array in terms of the values? Explain.\n",
    "\n",
    "print (a)\n",
    "print (d)\n",
    "'''\n",
    "uno es a y el otro la suma de a y c . el a sigue teniendo una size de 2,3,5 \n",
    "mientras que d tiene una size de 4,3,5\n",
    "\n",
    "'''"
   ]
  },
  {
   "cell_type": "code",
   "execution_count": 55,
   "metadata": {},
   "outputs": [
    {
     "data": {
      "text/plain": [
       "array([[[0.98322231, 0.66907547, 0.68226973, 0.06032485, 0.16985283],\n",
       "        [0.82314414, 0.54881133, 0.50568058, 0.82173535, 0.83810906],\n",
       "        [0.80596674, 0.15205186, 0.60910178, 0.18926354, 0.12657496]],\n",
       "\n",
       "       [[0.63466975, 0.15923881, 0.20060303, 0.08338244, 0.35750594],\n",
       "        [0.0146311 , 0.3278501 , 0.97035713, 0.41202928, 0.82403856],\n",
       "        [0.83066286, 0.77085842, 0.49791612, 0.03537194, 0.09112414]]])"
      ]
     },
     "execution_count": 55,
     "metadata": {},
     "output_type": "execute_result"
    }
   ],
   "source": [
    "#12. Multiply a and c. Assign the result to e.\n",
    "e = np.multiply(a, c)\n",
    "e\n",
    "\n"
   ]
  },
  {
   "cell_type": "code",
   "execution_count": 56,
   "metadata": {},
   "outputs": [
    {
     "data": {
      "text/plain": [
       "'\\nSi, porque c seguía siendo todo numeros 1\\n \\n'"
      ]
     },
     "execution_count": 56,
     "metadata": {},
     "output_type": "execute_result"
    }
   ],
   "source": [
    "#13. Does e equal to a? Why or why not?\n",
    "'''\n",
    "Si, porque c seguía siendo todo numeros 1\n",
    " \n",
    "'''\n",
    "\n"
   ]
  },
  {
   "cell_type": "code",
   "execution_count": 57,
   "metadata": {},
   "outputs": [
    {
     "data": {
      "text/plain": [
       "1.0"
      ]
     },
     "execution_count": 57,
     "metadata": {},
     "output_type": "execute_result"
    }
   ],
   "source": [
    "#14. Identify the max, min, and mean values in d. Assign those values to variables \"d_max\", \"d_min\", and \"d_mean\"\n",
    "\n",
    "max = np.amax(d)\n",
    "max"
   ]
  },
  {
   "cell_type": "code",
   "execution_count": 58,
   "metadata": {},
   "outputs": [
    {
     "data": {
      "text/plain": [
       "0.014631096581804837"
      ]
     },
     "execution_count": 58,
     "metadata": {},
     "output_type": "execute_result"
    }
   ],
   "source": [
    "min = np.amin (d)\n",
    "min"
   ]
  },
  {
   "cell_type": "code",
   "execution_count": 59,
   "metadata": {},
   "outputs": [
    {
     "data": {
      "text/plain": [
       "0.7365904023447669"
      ]
     },
     "execution_count": 59,
     "metadata": {},
     "output_type": "execute_result"
    }
   ],
   "source": [
    "mean = np.mean (d)\n",
    "mean"
   ]
  },
  {
   "cell_type": "code",
   "execution_count": 60,
   "metadata": {},
   "outputs": [
    {
     "data": {
      "text/plain": [
       "array([[[0.98322231, 0.66907547, 0.68226973, 0.06032485, 0.16985283],\n",
       "        [0.82314414, 0.54881133, 0.50568058, 0.82173535, 0.83810906],\n",
       "        [0.80596674, 0.15205186, 0.60910178, 0.18926354, 0.12657496]],\n",
       "\n",
       "       [[0.63466975, 0.15923881, 0.20060303, 0.08338244, 0.35750594],\n",
       "        [0.0146311 , 0.3278501 , 0.97035713, 0.41202928, 0.82403856],\n",
       "        [0.83066286, 0.77085842, 0.49791612, 0.03537194, 0.09112414]]])"
      ]
     },
     "execution_count": 60,
     "metadata": {},
     "output_type": "execute_result"
    }
   ],
   "source": [
    "#15. Now we want to label the values in d. First create an empty array \"f\" with the same shape (i.e. 2x3x5) as d using `np.empty`.\n",
    "\n",
    "f = np.empty((2,3,5))\n",
    "f"
   ]
  },
  {
   "cell_type": "code",
   "execution_count": null,
   "metadata": {},
   "outputs": [],
   "source": [
    "\"\"\"\n",
    "#16. Populate the values in f. For each value in d, \n",
    "# if it's larger than d_min but smaller than d_mean, assign 25 to \n",
    "# the corresponding value in f.\n",
    "If a value in d is larger than d_mean but smaller than d_max, assign 75 \n",
    "to the corresponding value in f.\n",
    "If a value equals to d_mean, assign 50 to the corresponding value in f.\n",
    "Assign 0 to the corresponding value(s) in f for d_min in d.\n",
    "Assign 100 to the corresponding value(s) in f for d_max in d.\n",
    "In the end, f should have only the following values: 0, 25, 50, 75, and 100.\n",
    "Note: you don't have to use Numpy in this question.\n",
    "\n",
    "en la matriz f tiene que quedar \n",
    " \n",
    "25  if d_min < e < d_mean\n",
    "75  if d_mean < e < d_max\n",
    "50  if e = d_mean\n",
    "0   if e = d_min\n",
    "100 if e = d_max\n",
    "\n",
    "\"\"\""
   ]
  },
  {
   "cell_type": "code",
   "execution_count": null,
   "metadata": {},
   "outputs": [],
   "source": [
    "'''\n",
    "#16. Populate the values in f. For each value in d, \n",
    "\n",
    "25  if d_min < e < d_mean\n",
    "75  if d_mean < e < d_max\n",
    "50  if e = d_mean\n",
    "0   if e = d_min\n",
    "100 if e = d_max\n",
    "'''\n",
    "\n"
   ]
  },
  {
   "cell_type": "code",
   "execution_count": null,
   "metadata": {},
   "outputs": [],
   "source": []
  },
  {
   "cell_type": "code",
   "execution_count": 62,
   "metadata": {},
   "outputs": [
    {
     "data": {
      "text/plain": [
       "array([[[1.        , 1.        , 1.        , 1.        , 1.        ],\n",
       "        [1.        , 1.        , 1.        , 1.        , 1.        ],\n",
       "        [1.        , 1.        , 1.        , 1.        , 1.        ]],\n",
       "\n",
       "       [[1.        , 1.        , 1.        , 1.        , 1.        ],\n",
       "        [1.        , 1.        , 1.        , 1.        , 1.        ],\n",
       "        [1.        , 1.        , 1.        , 1.        , 1.        ]],\n",
       "\n",
       "       [[0.98322231, 0.66907547, 0.68226973, 0.06032485, 0.16985283],\n",
       "        [0.82314414, 0.54881133, 0.50568058, 0.82173535, 0.83810906],\n",
       "        [0.80596674, 0.15205186, 0.60910178, 0.18926354, 0.12657496]],\n",
       "\n",
       "       [[0.63466975, 0.15923881, 0.20060303, 0.08338244, 0.35750594],\n",
       "        [0.0146311 , 0.3278501 , 0.97035713, 0.41202928, 0.82403856],\n",
       "        [0.83066286, 0.77085842, 0.49791612, 0.03537194, 0.09112414]]])"
      ]
     },
     "execution_count": 62,
     "metadata": {},
     "output_type": "execute_result"
    }
   ],
   "source": [
    "d"
   ]
  },
  {
   "cell_type": "code",
   "execution_count": 61,
   "metadata": {},
   "outputs": [
    {
     "ename": "TypeError",
     "evalue": "Cannot interpret '3' as a data type",
     "output_type": "error",
     "traceback": [
      "\u001b[0;31m---------------------------------------------------------------------------\u001b[0m",
      "\u001b[0;31mTypeError\u001b[0m                                 Traceback (most recent call last)",
      "Cell \u001b[0;32mIn[61], line 3\u001b[0m\n\u001b[1;32m      1\u001b[0m \u001b[39m#15. Now we want to label the values in d. First create an empty array \"f\" with the same shape (i.e. 2x3x5) as d using `np.empty`.\u001b[39;00m\n\u001b[0;32m----> 3\u001b[0m f \u001b[39m=\u001b[39m np\u001b[39m.\u001b[39;49mempty(\u001b[39m2\u001b[39;49m,\u001b[39m3\u001b[39;49m,\u001b[39m5\u001b[39;49m)\n\u001b[1;32m      4\u001b[0m f\n\u001b[1;32m      7\u001b[0m \u001b[39m\"\"\"\u001b[39;00m\n\u001b[1;32m      8\u001b[0m \u001b[39m#16. Populate the values in f. For each value in d, if it's larger than d_min but smaller than d_mean, assign 25 to the corresponding value in f.\u001b[39;00m\n\u001b[1;32m      9\u001b[0m \u001b[39mIf a value in d is larger than d_mean but smaller than d_max, assign 75 to the corresponding value in f.\u001b[39;00m\n\u001b[0;32m   (...)\u001b[0m\n\u001b[1;32m     14\u001b[0m \u001b[39mNote: you don't have to use Numpy in this question.\u001b[39;00m\n\u001b[1;32m     15\u001b[0m \u001b[39m\"\"\"\u001b[39;00m\n",
      "\u001b[0;31mTypeError\u001b[0m: Cannot interpret '3' as a data type"
     ]
    }
   ],
   "source": [
    "\n",
    "\"\"\"\n",
    "#17. Print d and f. Do you have your expected f?\n",
    "For instance, if your d is:\n",
    "array([[[1.85836099, 1.67064465, 1.62576044, 1.40243961, 1.88454931],\n",
    "        [1.75354326, 1.69403643, 1.36729252, 1.61415071, 1.12104981],\n",
    "        [1.72201435, 1.1862918 , 1.87078449, 1.7726778 , 1.88180042]],\n",
    "\n",
    "       [[1.44747908, 1.31673383, 1.02000951, 1.52218947, 1.97066381],\n",
    "        [1.79129243, 1.74983003, 1.96028037, 1.85166831, 1.65450881],\n",
    "        [1.18068344, 1.9587381 , 1.00656599, 1.93402165, 1.73514584]]])\n",
    "\n",
    "Your f should be:\n",
    "array([[[ 75.,  75.,  75.,  25.,  75.],\n",
    "        [ 75.,  75.,  25.,  25.,  25.],\n",
    "        [ 75.,  25.,  75.,  75.,  75.]],\n",
    "\n",
    "       [[ 25.,  25.,  25.,  25., 100.],\n",
    "        [ 75.,  75.,  75.,  75.,  75.],\n",
    "        [ 25.,  75.,   0.,  75.,  75.]]])\n",
    "\"\"\"\n",
    "\n",
    "\n",
    "\"\"\"\n",
    "#18. Bonus question: instead of using numbers (i.e. 0, 25, 50, 75, and 100), how to use string values \n",
    "(\"A\", \"B\", \"C\", \"D\", and \"E\") to label the array elements? You are expecting the result to be:\n",
    "array([[[ 'D',  'D',  'D',  'B',  'D'],\n",
    "        [ 'D',  'D',  'B',  'B',  'B'],\n",
    "        [ 'D',  'B',  'D',  'D',  'D']],\n",
    "\n",
    "       [[ 'B',  'B',  'B',  'B',  'E'],\n",
    "        [ 'D',  'D',  'D',  'D',  'D'],\n",
    "        [ 'B',  'D',   'A',  'D', 'D']]])\n",
    "Again, you don't need Numpy in this question.\n",
    "\"\"\""
   ]
  },
  {
   "cell_type": "code",
   "execution_count": null,
   "metadata": {},
   "outputs": [],
   "source": []
  },
  {
   "cell_type": "code",
   "execution_count": null,
   "metadata": {},
   "outputs": [],
   "source": []
  }
 ],
 "metadata": {
  "kernelspec": {
   "display_name": "Python 3",
   "language": "python",
   "name": "python3"
  },
  "language_info": {
   "codemirror_mode": {
    "name": "ipython",
    "version": 3
   },
   "file_extension": ".py",
   "mimetype": "text/x-python",
   "name": "python",
   "nbconvert_exporter": "python",
   "pygments_lexer": "ipython3",
   "version": "3.10.4"
  },
  "orig_nbformat": 4,
  "vscode": {
   "interpreter": {
    "hash": "aee8b7b246df8f9039afb4144a1f6fd8d2ca17a180786b69acc140d282b71a49"
   }
  }
 },
 "nbformat": 4,
 "nbformat_minor": 2
}
