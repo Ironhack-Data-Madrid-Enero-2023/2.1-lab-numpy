{
 "cells": [
  {
   "cell_type": "code",
   "execution_count": 2,
   "metadata": {},
   "outputs": [],
   "source": [
    "#1. Import the NUMPY package under the name np."
   ]
  },
  {
   "cell_type": "code",
   "execution_count": 3,
   "metadata": {},
   "outputs": [
    {
     "name": "stdout",
     "output_type": "stream",
     "text": [
      "Requirement already satisfied: numpy in /Library/Frameworks/Python.framework/Versions/3.10/lib/python3.10/site-packages (1.24.1)\n",
      "\u001b[33mWARNING: You are using pip version 22.0.4; however, version 22.3.1 is available.\n",
      "You should consider upgrading via the '/usr/local/bin/python3 -m pip install --upgrade pip' command.\u001b[0m\u001b[33m\n",
      "\u001b[0mNote: you may need to restart the kernel to use updated packages.\n"
     ]
    }
   ],
   "source": [
    "%pip install numpy\n",
    "import numpy as np"
   ]
  },
  {
   "cell_type": "code",
   "execution_count": 4,
   "metadata": {},
   "outputs": [
    {
     "name": "stdout",
     "output_type": "stream",
     "text": [
      "Name: numpy\n",
      "Version: 1.24.1\n",
      "Summary: Fundamental package for array computing in Python\n",
      "Home-page: https://www.numpy.org\n",
      "Author: Travis E. Oliphant et al.\n",
      "Author-email: \n",
      "License: BSD-3-Clause\n",
      "Location: /Library/Frameworks/Python.framework/Versions/3.10/lib/python3.10/site-packages\n",
      "Requires: \n",
      "Required-by: \n",
      "Note: you may need to restart the kernel to use updated packages.\n"
     ]
    }
   ],
   "source": [
    "#2. Print the NUMPY version and the configuration.\n",
    "%pip show numpy\n",
    "\n"
   ]
  },
  {
   "cell_type": "code",
   "execution_count": 5,
   "metadata": {},
   "outputs": [],
   "source": [
    "#3. Generate a 2x3x5 3-dimensional array with random values. \n",
    "# Assign the array to variable \"a\"\n",
    "# Challenge: there are at least three easy ways that use numpy to generate \n",
    "# random arrays. How many ways can you find?\n",
    "\n",
    "'''veo que hay diferentes extensiones de random.\n",
    "lalalala pero que la más apropiada para esto creo que es esta, \n",
    "las demás no termino de entenderlas, sobre todo .seed\n",
    "'''\n",
    "\n",
    "a =np.random.random((2, 3, 5))\n"
   ]
  },
  {
   "cell_type": "code",
   "execution_count": 6,
   "metadata": {},
   "outputs": [
    {
     "data": {
      "text/plain": [
       "array([[[0.23918042, 0.47814937, 0.44452317, 0.32875893, 0.77297573],\n",
       "        [0.09831625, 0.64700782, 0.10210378, 0.47684854, 0.36266692],\n",
       "        [0.90949248, 0.5683263 , 0.23716186, 0.267879  , 0.16592215]],\n",
       "\n",
       "       [[0.53772738, 0.21132519, 0.65143491, 0.63480319, 0.05259498],\n",
       "        [0.23374224, 0.65425563, 0.48292672, 0.54782242, 0.85891024],\n",
       "        [0.55420794, 0.86944255, 0.45908278, 0.41173044, 0.9672434 ]]])"
      ]
     },
     "execution_count": 6,
     "metadata": {},
     "output_type": "execute_result"
    }
   ],
   "source": [
    "#4. Print a.\n",
    "a"
   ]
  },
  {
   "cell_type": "code",
   "execution_count": 7,
   "metadata": {},
   "outputs": [],
   "source": [
    "#5. Create a 5x2x3 3-dimensional array with all values equaling 1.\n",
    "#Assign the array to variable \"b\"\n",
    "\n",
    "b =np.ones((5, 2, 3))"
   ]
  },
  {
   "cell_type": "code",
   "execution_count": 8,
   "metadata": {},
   "outputs": [
    {
     "data": {
      "text/plain": [
       "array([[[1., 1., 1.],\n",
       "        [1., 1., 1.]],\n",
       "\n",
       "       [[1., 1., 1.],\n",
       "        [1., 1., 1.]],\n",
       "\n",
       "       [[1., 1., 1.],\n",
       "        [1., 1., 1.]],\n",
       "\n",
       "       [[1., 1., 1.],\n",
       "        [1., 1., 1.]],\n",
       "\n",
       "       [[1., 1., 1.],\n",
       "        [1., 1., 1.]]])"
      ]
     },
     "execution_count": 8,
     "metadata": {},
     "output_type": "execute_result"
    }
   ],
   "source": [
    "#6. Print b.\n",
    "b"
   ]
  },
  {
   "cell_type": "code",
   "execution_count": 9,
   "metadata": {},
   "outputs": [
    {
     "name": "stdout",
     "output_type": "stream",
     "text": [
      "Both arrays have different shape:  (2, 3, 5) and (5, 2, 3)\n"
     ]
    }
   ],
   "source": [
    "#7. Do a and b have the same size? How do you prove that in Python code?\n",
    "\n",
    "if np.array_equal(a.shape, b.shape):\n",
    "    print(\"Both arrays have the same shape: \", a.shape)\n",
    "else:\n",
    "    print(\"Both arrays have different shape: \", a.shape, \"and\", b.shape)"
   ]
  },
  {
   "cell_type": "code",
   "execution_count": 10,
   "metadata": {},
   "outputs": [
    {
     "data": {
      "text/plain": [
       "'\\nNo puedo porque el primer indice no es el mismo, el primer numero que entiendo \\nque es el numero de filas es diferente y creo que es por eso que no deja\\n\\n'"
      ]
     },
     "execution_count": 10,
     "metadata": {},
     "output_type": "execute_result"
    }
   ],
   "source": [
    "#8. Are you able to add a and b? Why or why not?\n",
    "'''\n",
    "No puedo porque el primer indice no es el mismo, el primer numero que entiendo \n",
    "que es el numero de filas es diferente y creo que es por eso que no deja\n",
    "\n",
    "'''\n"
   ]
  },
  {
   "cell_type": "code",
   "execution_count": 11,
   "metadata": {},
   "outputs": [
    {
     "data": {
      "text/plain": [
       "array([[[1., 1., 1., 1., 1.],\n",
       "        [1., 1., 1., 1., 1.],\n",
       "        [1., 1., 1., 1., 1.]],\n",
       "\n",
       "       [[1., 1., 1., 1., 1.],\n",
       "        [1., 1., 1., 1., 1.],\n",
       "        [1., 1., 1., 1., 1.]]])"
      ]
     },
     "execution_count": 11,
     "metadata": {},
     "output_type": "execute_result"
    }
   ],
   "source": [
    "#9. Transpose b so that it has the same structure of a (i.e. become a 2x3x5 array). Assign the transposed array to varialbe \"c\".\n",
    "c = np.reshape(b,(2,3,5))\n",
    "c"
   ]
  },
  {
   "cell_type": "code",
   "execution_count": 12,
   "metadata": {},
   "outputs": [
    {
     "data": {
      "text/plain": [
       "array([[[1.        , 1.        , 1.        , 1.        , 1.        ],\n",
       "        [1.        , 1.        , 1.        , 1.        , 1.        ],\n",
       "        [1.        , 1.        , 1.        , 1.        , 1.        ]],\n",
       "\n",
       "       [[1.        , 1.        , 1.        , 1.        , 1.        ],\n",
       "        [1.        , 1.        , 1.        , 1.        , 1.        ],\n",
       "        [1.        , 1.        , 1.        , 1.        , 1.        ]],\n",
       "\n",
       "       [[0.23918042, 0.47814937, 0.44452317, 0.32875893, 0.77297573],\n",
       "        [0.09831625, 0.64700782, 0.10210378, 0.47684854, 0.36266692],\n",
       "        [0.90949248, 0.5683263 , 0.23716186, 0.267879  , 0.16592215]],\n",
       "\n",
       "       [[0.53772738, 0.21132519, 0.65143491, 0.63480319, 0.05259498],\n",
       "        [0.23374224, 0.65425563, 0.48292672, 0.54782242, 0.85891024],\n",
       "        [0.55420794, 0.86944255, 0.45908278, 0.41173044, 0.9672434 ]]])"
      ]
     },
     "execution_count": 12,
     "metadata": {},
     "output_type": "execute_result"
    }
   ],
   "source": [
    "#10. Try to add a and c. Now it should work. Assign the sum to varialbe \"d\". But why does it work now?\n",
    "\n",
    "d = np.concatenate((c, a), axis=0)\n",
    "d\n",
    "\n",
    "# Ahora funciona porque tienen la misma size\n"
   ]
  },
  {
   "cell_type": "code",
   "execution_count": 13,
   "metadata": {},
   "outputs": [
    {
     "name": "stdout",
     "output_type": "stream",
     "text": [
      "[[[0.23918042 0.47814937 0.44452317 0.32875893 0.77297573]\n",
      "  [0.09831625 0.64700782 0.10210378 0.47684854 0.36266692]\n",
      "  [0.90949248 0.5683263  0.23716186 0.267879   0.16592215]]\n",
      "\n",
      " [[0.53772738 0.21132519 0.65143491 0.63480319 0.05259498]\n",
      "  [0.23374224 0.65425563 0.48292672 0.54782242 0.85891024]\n",
      "  [0.55420794 0.86944255 0.45908278 0.41173044 0.9672434 ]]]\n",
      "[[[1.         1.         1.         1.         1.        ]\n",
      "  [1.         1.         1.         1.         1.        ]\n",
      "  [1.         1.         1.         1.         1.        ]]\n",
      "\n",
      " [[1.         1.         1.         1.         1.        ]\n",
      "  [1.         1.         1.         1.         1.        ]\n",
      "  [1.         1.         1.         1.         1.        ]]\n",
      "\n",
      " [[0.23918042 0.47814937 0.44452317 0.32875893 0.77297573]\n",
      "  [0.09831625 0.64700782 0.10210378 0.47684854 0.36266692]\n",
      "  [0.90949248 0.5683263  0.23716186 0.267879   0.16592215]]\n",
      "\n",
      " [[0.53772738 0.21132519 0.65143491 0.63480319 0.05259498]\n",
      "  [0.23374224 0.65425563 0.48292672 0.54782242 0.85891024]\n",
      "  [0.55420794 0.86944255 0.45908278 0.41173044 0.9672434 ]]]\n"
     ]
    },
    {
     "data": {
      "text/plain": [
       "'\\nuno es a y el otro la suma de a y c . el a sigue teniendo una size de 2,3,5 \\nmientras que d tiene una size de 4,3,5\\n\\n'"
      ]
     },
     "execution_count": 13,
     "metadata": {},
     "output_type": "execute_result"
    }
   ],
   "source": [
    "#11. Print a and d. Notice the difference and relation of the two array in terms of the values? Explain.\n",
    "\n",
    "print (a)\n",
    "print (d)\n",
    "'''\n",
    "uno es a y el otro la suma de a y c . el a sigue teniendo una size de 2,3,5 \n",
    "mientras que d tiene una size de 4,3,5\n",
    "\n",
    "'''"
   ]
  },
  {
   "cell_type": "code",
   "execution_count": 14,
   "metadata": {},
   "outputs": [
    {
     "data": {
      "text/plain": [
       "array([[[0.23918042, 0.47814937, 0.44452317, 0.32875893, 0.77297573],\n",
       "        [0.09831625, 0.64700782, 0.10210378, 0.47684854, 0.36266692],\n",
       "        [0.90949248, 0.5683263 , 0.23716186, 0.267879  , 0.16592215]],\n",
       "\n",
       "       [[0.53772738, 0.21132519, 0.65143491, 0.63480319, 0.05259498],\n",
       "        [0.23374224, 0.65425563, 0.48292672, 0.54782242, 0.85891024],\n",
       "        [0.55420794, 0.86944255, 0.45908278, 0.41173044, 0.9672434 ]]])"
      ]
     },
     "execution_count": 14,
     "metadata": {},
     "output_type": "execute_result"
    }
   ],
   "source": [
    "#12. Multiply a and c. Assign the result to e.\n",
    "e = np.multiply(a, c)\n",
    "e\n",
    "\n"
   ]
  },
  {
   "cell_type": "code",
   "execution_count": 15,
   "metadata": {},
   "outputs": [
    {
     "data": {
      "text/plain": [
       "'\\nSi, porque c seguía siendo todo numeros 1\\n \\n'"
      ]
     },
     "execution_count": 15,
     "metadata": {},
     "output_type": "execute_result"
    }
   ],
   "source": [
    "#13. Does e equal to a? Why or why not?\n",
    "'''\n",
    "Si, porque c seguía siendo todo numeros 1\n",
    " \n",
    "'''\n",
    "\n"
   ]
  },
  {
   "cell_type": "code",
   "execution_count": 16,
   "metadata": {},
   "outputs": [
    {
     "data": {
      "text/plain": [
       "1.0"
      ]
     },
     "execution_count": 16,
     "metadata": {},
     "output_type": "execute_result"
    }
   ],
   "source": [
    "#14. Identify the max, min, and mean values in d. Assign those values to variables \"d_max\", \"d_min\", and \"d_mean\"\n",
    "\n",
    "max = np.amax(d)\n",
    "max"
   ]
  },
  {
   "cell_type": "code",
   "execution_count": 17,
   "metadata": {},
   "outputs": [
    {
     "data": {
      "text/plain": [
       "0.05259498351204528"
      ]
     },
     "execution_count": 17,
     "metadata": {},
     "output_type": "execute_result"
    }
   ],
   "source": [
    "min = np.amin (d)\n",
    "min"
   ]
  },
  {
   "cell_type": "code",
   "execution_count": 18,
   "metadata": {},
   "outputs": [
    {
     "data": {
      "text/plain": [
       "0.7371093788255859"
      ]
     },
     "execution_count": 18,
     "metadata": {},
     "output_type": "execute_result"
    }
   ],
   "source": [
    "mean = np.mean (d)\n",
    "mean"
   ]
  },
  {
   "cell_type": "code",
   "execution_count": 19,
   "metadata": {},
   "outputs": [
    {
     "data": {
      "text/plain": [
       "array([[[0.23918042, 0.47814937, 0.44452317, 0.32875893, 0.77297573],\n",
       "        [0.09831625, 0.64700782, 0.10210378, 0.47684854, 0.36266692],\n",
       "        [0.90949248, 0.5683263 , 0.23716186, 0.267879  , 0.16592215]],\n",
       "\n",
       "       [[0.53772738, 0.21132519, 0.65143491, 0.63480319, 0.05259498],\n",
       "        [0.23374224, 0.65425563, 0.48292672, 0.54782242, 0.85891024],\n",
       "        [0.55420794, 0.86944255, 0.45908278, 0.41173044, 0.9672434 ]]])"
      ]
     },
     "execution_count": 19,
     "metadata": {},
     "output_type": "execute_result"
    }
   ],
   "source": [
    "#15. Now we want to label the values in d. First create an empty array \"f\" with the same shape (i.e. 2x3x5) as d using `np.empty`.\n",
    "\n",
    "f = np.empty((2,3,5))\n",
    "f"
   ]
  },
  {
   "cell_type": "code",
   "execution_count": 20,
   "metadata": {},
   "outputs": [
    {
     "data": {
      "text/plain": [
       "\"\\n#16. Populate the values in f. For each value in d, \\n# if it's larger than d_min but smaller than d_mean, assign 25 to \\n# the corresponding value in f.\\nIf a value in d is larger than d_mean but smaller than d_max, assign 75 \\nto the corresponding value in f.\\nIf a value equals to d_mean, assign 50 to the corresponding value in f.\\nAssign 0 to the corresponding value(s) in f for d_min in d.\\nAssign 100 to the corresponding value(s) in f for d_max in d.\\nIn the end, f should have only the following values: 0, 25, 50, 75, and 100.\\nNote: you don't have to use Numpy in this question.\\n\\nen la matriz f tiene que quedar \\n \\n25  if d_min < e < d_mean\\n75  if d_mean < e < d_max\\n50  if e = d_mean\\n0   if e = d_min\\n100 if e = d_max\\n\\n\""
      ]
     },
     "execution_count": 20,
     "metadata": {},
     "output_type": "execute_result"
    }
   ],
   "source": [
    "\"\"\"\n",
    "#16. Populate the values in f. For each value in d, \n",
    "# if it's larger than d_min but smaller than d_mean, assign 25 to \n",
    "# the corresponding value in f.\n",
    "If a value in d is larger than d_mean but smaller than d_max, assign 75 \n",
    "to the corresponding value in f.\n",
    "If a value equals to d_mean, assign 50 to the corresponding value in f.\n",
    "Assign 0 to the corresponding value(s) in f for d_min in d.\n",
    "Assign 100 to the corresponding value(s) in f for d_max in d.\n",
    "In the end, f should have only the following values: 0, 25, 50, 75, and 100.\n",
    "Note: you don't have to use Numpy in this question.\n",
    "\n",
    "en la matriz f tiene que quedar \n",
    " \n",
    "25  if d_min < e < d_mean\n",
    "75  if d_mean < e < d_max\n",
    "50  if e = d_mean\n",
    "0   if e = d_min\n",
    "100 if e = d_max\n",
    "\n",
    "\"\"\""
   ]
  },
  {
   "cell_type": "code",
   "execution_count": 21,
   "metadata": {},
   "outputs": [
    {
     "data": {
      "text/plain": [
       "'\\n#16. Populate the values in f. For each value in d, \\n\\n25  if d_min < e < d_mean\\n75  if d_mean < e < d_max\\n50  if e = d_mean\\n0   if e = d_min\\n100 if e = d_max\\n'"
      ]
     },
     "execution_count": 21,
     "metadata": {},
     "output_type": "execute_result"
    }
   ],
   "source": [
    "'''\n",
    "#16. Populate the values in f. For each value in d, \n",
    "\n",
    "25  if d_min < e < d_mean\n",
    "75  if d_mean < e < d_max\n",
    "50  if e = d_mean\n",
    "0   if e = d_min\n",
    "100 if e = d_max\n",
    "'''\n",
    "\n"
   ]
  },
  {
   "cell_type": "code",
   "execution_count": null,
   "metadata": {},
   "outputs": [],
   "source": []
  },
  {
   "cell_type": "code",
   "execution_count": 22,
   "metadata": {},
   "outputs": [
    {
     "name": "stdout",
     "output_type": "stream",
     "text": [
      "[[[1.         1.         1.         1.         1.        ]\n",
      "  [1.         1.         1.         1.         1.        ]\n",
      "  [1.         1.         1.         1.         1.        ]]\n",
      "\n",
      " [[1.         1.         1.         1.         1.        ]\n",
      "  [1.         1.         1.         1.         1.        ]\n",
      "  [1.         1.         1.         1.         1.        ]]\n",
      "\n",
      " [[0.23918042 0.47814937 0.44452317 0.32875893 0.77297573]\n",
      "  [0.09831625 0.64700782 0.10210378 0.47684854 0.36266692]\n",
      "  [0.90949248 0.5683263  0.23716186 0.267879   0.16592215]]\n",
      "\n",
      " [[0.53772738 0.21132519 0.65143491 0.63480319 0.05259498]\n",
      "  [0.23374224 0.65425563 0.48292672 0.54782242 0.85891024]\n",
      "  [0.55420794 0.86944255 0.45908278 0.41173044 0.9672434 ]]]\n"
     ]
    }
   ],
   "source": [
    "print(d)"
   ]
  },
  {
   "cell_type": "code",
   "execution_count": null,
   "metadata": {},
   "outputs": [],
   "source": [
    "for i in range(len(d)):\n",
    "    for j in range(len(d[i])):\n",
    "        for k in range(len(d[i][j])):\n",
    "            e = d[i][j][k]\n",
    "            if d_min < e < d_mean:\n",
    "                f[i][j][k] = 25\n",
    "            elif d_mean < e < d_max:\n",
    "                f[i][j][k] = 75\n",
    "            elif e == d_mean:\n",
    "                f[i][j][k] = 50\n",
    "            elif e == d_min:\n",
    "                f[i][j][k] = 0\n",
    "            elif e == d_max:\n",
    "                f[i][j][k] = 100\n",
    "print(d)\n",
    "print(f)\n",
    "\n",
    "\n",
    "\n",
    "\n",
    "\n",
    "\n",
    "# he entendido que es esto porque me lo ha explicado Carlos, espero recordarlo mañana."
   ]
  },
  {
   "cell_type": "code",
   "execution_count": 23,
   "metadata": {},
   "outputs": [
    {
     "data": {
      "text/plain": [
       "'\\n#18. Bonus question: instead of using numbers (i.e. 0, 25, 50, 75, and 100), how to use string values \\n(\"A\", \"B\", \"C\", \"D\", and \"E\") to label the array elements? You are expecting the result to be:\\narray([[[ \\'D\\',  \\'D\\',  \\'D\\',  \\'B\\',  \\'D\\'],\\n        [ \\'D\\',  \\'D\\',  \\'B\\',  \\'B\\',  \\'B\\'],\\n        [ \\'D\\',  \\'B\\',  \\'D\\',  \\'D\\',  \\'D\\']],\\n\\n       [[ \\'B\\',  \\'B\\',  \\'B\\',  \\'B\\',  \\'E\\'],\\n        [ \\'D\\',  \\'D\\',  \\'D\\',  \\'D\\',  \\'D\\'],\\n        [ \\'B\\',  \\'D\\',   \\'A\\',  \\'D\\', \\'D\\']]])\\nAgain, you don\\'t need Numpy in this question.\\n'"
      ]
     },
     "execution_count": 23,
     "metadata": {},
     "output_type": "execute_result"
    }
   ],
   "source": [
    "\n",
    "\"\"\"\n",
    "#17. Print d and f. Do you have your expected f?\n",
    "For instance, if your d is:\n",
    "array([[[1.85836099, 1.67064465, 1.62576044, 1.40243961, 1.88454931],\n",
    "        [1.75354326, 1.69403643, 1.36729252, 1.61415071, 1.12104981],\n",
    "        [1.72201435, 1.1862918 , 1.87078449, 1.7726778 , 1.88180042]],\n",
    "\n",
    "       [[1.44747908, 1.31673383, 1.02000951, 1.52218947, 1.97066381],\n",
    "        [1.79129243, 1.74983003, 1.96028037, 1.85166831, 1.65450881],\n",
    "        [1.18068344, 1.9587381 , 1.00656599, 1.93402165, 1.73514584]]])\n",
    "\n",
    "Your f should be:\n",
    "array([[[ 75.,  75.,  75.,  25.,  75.],\n",
    "        [ 75.,  75.,  25.,  25.,  25.],\n",
    "        [ 75.,  25.,  75.,  75.,  75.]],\n",
    "\n",
    "       [[ 25.,  25.,  25.,  25., 100.],\n",
    "        [ 75.,  75.,  75.,  75.,  75.],\n",
    "        [ 25.,  75.,   0.,  75.,  75.]]])\n",
    "\"\"\"\n",
    "\n",
    "\n",
    "\"\"\"\n",
    "#18. Bonus question: instead of using numbers (i.e. 0, 25, 50, 75, and 100), how to use string values \n",
    "(\"A\", \"B\", \"C\", \"D\", and \"E\") to label the array elements? You are expecting the result to be:\n",
    "array([[[ 'D',  'D',  'D',  'B',  'D'],\n",
    "        [ 'D',  'D',  'B',  'B',  'B'],\n",
    "        [ 'D',  'B',  'D',  'D',  'D']],\n",
    "\n",
    "       [[ 'B',  'B',  'B',  'B',  'E'],\n",
    "        [ 'D',  'D',  'D',  'D',  'D'],\n",
    "        [ 'B',  'D',   'A',  'D', 'D']]])\n",
    "Again, you don't need Numpy in this question.\n",
    "\"\"\""
   ]
  },
  {
   "cell_type": "code",
   "execution_count": null,
   "metadata": {},
   "outputs": [],
   "source": []
  },
  {
   "cell_type": "code",
   "execution_count": null,
   "metadata": {},
   "outputs": [],
   "source": []
  }
 ],
 "metadata": {
  "kernelspec": {
   "display_name": "Python 3",
   "language": "python",
   "name": "python3"
  },
  "language_info": {
   "codemirror_mode": {
    "name": "ipython",
    "version": 3
   },
   "file_extension": ".py",
   "mimetype": "text/x-python",
   "name": "python",
   "nbconvert_exporter": "python",
   "pygments_lexer": "ipython3",
   "version": "3.10.4"
  },
  "orig_nbformat": 4,
  "vscode": {
   "interpreter": {
    "hash": "aee8b7b246df8f9039afb4144a1f6fd8d2ca17a180786b69acc140d282b71a49"
   }
  }
 },
 "nbformat": 4,
 "nbformat_minor": 2
}
